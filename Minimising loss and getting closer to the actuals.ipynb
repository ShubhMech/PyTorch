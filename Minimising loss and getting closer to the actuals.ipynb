{
 "cells": [
  {
   "cell_type": "code",
   "execution_count": 1,
   "metadata": {},
   "outputs": [],
   "source": [
    "import torch"
   ]
  },
  {
   "cell_type": "code",
   "execution_count": 18,
   "metadata": {},
   "outputs": [],
   "source": [
    "w= torch.tensor([[1.0,2],[3,4],[5,6]], requires_grad=True)"
   ]
  },
  {
   "cell_type": "code",
   "execution_count": 19,
   "metadata": {},
   "outputs": [],
   "source": [
    "b= torch.randn([2,3], requires_grad= True)"
   ]
  },
  {
   "cell_type": "code",
   "execution_count": 20,
   "metadata": {},
   "outputs": [
    {
     "data": {
      "text/plain": [
       "tensor([[-0.0395, -0.2844, -0.0307],\n",
       "        [ 0.8280,  1.0607, -0.2272]], requires_grad=True)"
      ]
     },
     "execution_count": 20,
     "metadata": {},
     "output_type": "execute_result"
    }
   ],
   "source": [
    "b"
   ]
  },
  {
   "cell_type": "code",
   "execution_count": 21,
   "metadata": {},
   "outputs": [
    {
     "data": {
      "text/plain": [
       "torch.float32"
      ]
     },
     "execution_count": 21,
     "metadata": {},
     "output_type": "execute_result"
    }
   ],
   "source": [
    "b.dtype"
   ]
  },
  {
   "cell_type": "code",
   "execution_count": 30,
   "metadata": {},
   "outputs": [
    {
     "data": {
      "text/plain": [
       "torch.Size([2, 3])"
      ]
     },
     "execution_count": 30,
     "metadata": {},
     "output_type": "execute_result"
    }
   ],
   "source": [
    "b.shape"
   ]
  },
  {
   "cell_type": "code",
   "execution_count": 29,
   "metadata": {},
   "outputs": [
    {
     "data": {
      "text/plain": [
       "torch.Size([3, 2])"
      ]
     },
     "execution_count": 29,
     "metadata": {},
     "output_type": "execute_result"
    }
   ],
   "source": [
    "w.shape"
   ]
  },
  {
   "cell_type": "code",
   "execution_count": 24,
   "metadata": {},
   "outputs": [
    {
     "data": {
      "text/plain": [
       "torch.float32"
      ]
     },
     "execution_count": 24,
     "metadata": {},
     "output_type": "execute_result"
    }
   ],
   "source": [
    "w.dtype"
   ]
  },
  {
   "cell_type": "code",
   "execution_count": 31,
   "metadata": {},
   "outputs": [
    {
     "data": {
      "text/plain": [
       "tensor([[-0.0395, -0.2844, -0.0307],\n",
       "        [ 0.8280,  1.0607, -0.2272]], requires_grad=True)"
      ]
     },
     "execution_count": 31,
     "metadata": {},
     "output_type": "execute_result"
    }
   ],
   "source": [
    "b"
   ]
  },
  {
   "cell_type": "code",
   "execution_count": 32,
   "metadata": {},
   "outputs": [
    {
     "data": {
      "text/plain": [
       "tensor([[1., 2.],\n",
       "        [3., 4.],\n",
       "        [5., 6.]], requires_grad=True)"
      ]
     },
     "execution_count": 32,
     "metadata": {},
     "output_type": "execute_result"
    }
   ],
   "source": [
    "w"
   ]
  },
  {
   "cell_type": "code",
   "execution_count": 53,
   "metadata": {},
   "outputs": [],
   "source": [
    "z=b.t()*w"
   ]
  },
  {
   "cell_type": "code",
   "execution_count": 54,
   "metadata": {},
   "outputs": [
    {
     "data": {
      "text/plain": [
       "tensor([[-0.0395,  0.8280],\n",
       "        [-0.2844,  1.0607],\n",
       "        [-0.0307, -0.2272]], grad_fn=<TBackward0>)"
      ]
     },
     "execution_count": 54,
     "metadata": {},
     "output_type": "execute_result"
    }
   ],
   "source": [
    "b.t()"
   ]
  },
  {
   "cell_type": "code",
   "execution_count": 55,
   "metadata": {},
   "outputs": [
    {
     "data": {
      "text/plain": [
       "tensor([[1., 2.],\n",
       "        [3., 4.],\n",
       "        [5., 6.]], requires_grad=True)"
      ]
     },
     "execution_count": 55,
     "metadata": {},
     "output_type": "execute_result"
    }
   ],
   "source": [
    "w"
   ]
  },
  {
   "cell_type": "code",
   "execution_count": 57,
   "metadata": {},
   "outputs": [],
   "source": [
    "a= torch.tensor(1.0, requires_grad= True)"
   ]
  },
  {
   "cell_type": "code",
   "execution_count": 60,
   "metadata": {},
   "outputs": [],
   "source": [
    "b= torch.tensor(2.0, requires_grad= True)"
   ]
  },
  {
   "cell_type": "code",
   "execution_count": 61,
   "metadata": {},
   "outputs": [],
   "source": [
    "s= a*b"
   ]
  },
  {
   "cell_type": "code",
   "execution_count": 62,
   "metadata": {},
   "outputs": [],
   "source": [
    "s.backward()"
   ]
  },
  {
   "cell_type": "code",
   "execution_count": 63,
   "metadata": {},
   "outputs": [
    {
     "data": {
      "text/plain": [
       "tensor(1.)"
      ]
     },
     "execution_count": 63,
     "metadata": {},
     "output_type": "execute_result"
    }
   ],
   "source": [
    "b.grad"
   ]
  },
  {
   "cell_type": "code",
   "execution_count": 64,
   "metadata": {},
   "outputs": [
    {
     "data": {
      "text/plain": [
       "tensor(2.)"
      ]
     },
     "execution_count": 64,
     "metadata": {},
     "output_type": "execute_result"
    }
   ],
   "source": [
    "a.grad"
   ]
  },
  {
   "cell_type": "code",
   "execution_count": 65,
   "metadata": {},
   "outputs": [
    {
     "data": {
      "text/plain": [
       "\u001b[1;31mDocstring:\u001b[0m\n",
       "full_like(input, fill_value, \\*, dtype=None, layout=torch.strided, device=None, requires_grad=False, memory_format=torch.preserve_format) -> Tensor\n",
       "\n",
       "Returns a tensor with the same size as :attr:`input` filled with :attr:`fill_value`.\n",
       "``torch.full_like(input, fill_value)`` is equivalent to\n",
       "``torch.full(input.size(), fill_value, dtype=input.dtype, layout=input.layout, device=input.device)``.\n",
       "\n",
       "Args:\n",
       "    input (Tensor): the size of :attr:`input` will determine size of the output tensor.\n",
       "    fill_value: the number to fill the output tensor with.\n",
       "\n",
       "Keyword args:\n",
       "    dtype (:class:`torch.dtype`, optional): the desired data type of returned Tensor.\n",
       "        Default: if ``None``, defaults to the dtype of :attr:`input`.\n",
       "    layout (:class:`torch.layout`, optional): the desired layout of returned tensor.\n",
       "        Default: if ``None``, defaults to the layout of :attr:`input`.\n",
       "    device (:class:`torch.device`, optional): the desired device of returned tensor.\n",
       "        Default: if ``None``, defaults to the device of :attr:`input`.\n",
       "    requires_grad (bool, optional): If autograd should record operations on the\n",
       "        returned tensor. Default: ``False``.\n",
       "    memory_format (:class:`torch.memory_format`, optional): the desired memory format of\n",
       "        returned Tensor. Default: ``torch.preserve_format``.\n",
       "\u001b[1;31mType:\u001b[0m      builtin_function_or_method\n"
      ]
     },
     "metadata": {},
     "output_type": "display_data"
    }
   ],
   "source": [
    "?torch.full_like"
   ]
  },
  {
   "cell_type": "code",
   "execution_count": 66,
   "metadata": {},
   "outputs": [
    {
     "data": {
      "text/plain": [
       "\u001b[1;31mDocstring:\u001b[0m\n",
       "full(size, fill_value, *, out=None, dtype=None, layout=torch.strided, device=None, requires_grad=False) -> Tensor\n",
       "\n",
       "Creates a tensor of size :attr:`size` filled with :attr:`fill_value`. The\n",
       "tensor's dtype is inferred from :attr:`fill_value`.\n",
       "\n",
       "Args:\n",
       "    size (int...): a list, tuple, or :class:`torch.Size` of integers defining the\n",
       "        shape of the output tensor.\n",
       "    fill_value (Scalar): the value to fill the output tensor with.\n",
       "\n",
       "Keyword args:\n",
       "    out (Tensor, optional): the output tensor.\n",
       "    dtype (:class:`torch.dtype`, optional): the desired data type of returned tensor.\n",
       "        Default: if ``None``, uses a global default (see :func:`torch.set_default_tensor_type`).\n",
       "    layout (:class:`torch.layout`, optional): the desired layout of returned Tensor.\n",
       "        Default: ``torch.strided``.\n",
       "    device (:class:`torch.device`, optional): the desired device of returned tensor.\n",
       "        Default: if ``None``, uses the current device for the default tensor type\n",
       "        (see :func:`torch.set_default_tensor_type`). :attr:`device` will be the CPU\n",
       "        for CPU tensor types and the current CUDA device for CUDA tensor types.\n",
       "    requires_grad (bool, optional): If autograd should record operations on the\n",
       "        returned tensor. Default: ``False``.\n",
       "\n",
       "Example::\n",
       "\n",
       "    >>> torch.full((2, 3), 3.141592)\n",
       "    tensor([[ 3.1416,  3.1416,  3.1416],\n",
       "            [ 3.1416,  3.1416,  3.1416]])\n",
       "\u001b[1;31mType:\u001b[0m      builtin_function_or_method\n"
      ]
     },
     "metadata": {},
     "output_type": "display_data"
    }
   ],
   "source": [
    "?torch.full"
   ]
  },
  {
   "cell_type": "code",
   "execution_count": 68,
   "metadata": {},
   "outputs": [
    {
     "data": {
      "text/plain": [
       "tensor([[56, 56, 56],\n",
       "        [56, 56, 56]])"
      ]
     },
     "execution_count": 68,
     "metadata": {},
     "output_type": "execute_result"
    }
   ],
   "source": [
    "torch.full([2,3],56)"
   ]
  },
  {
   "cell_type": "code",
   "execution_count": 72,
   "metadata": {},
   "outputs": [
    {
     "data": {
      "text/plain": [
       "tensor([[65., 65.],\n",
       "        [65., 65.],\n",
       "        [65., 65.]])"
      ]
     },
     "execution_count": 72,
     "metadata": {},
     "output_type": "execute_result"
    }
   ],
   "source": [
    "torch.full_like(w,65)"
   ]
  },
  {
   "cell_type": "code",
   "execution_count": 73,
   "metadata": {},
   "outputs": [
    {
     "data": {
      "text/plain": [
       "torch.Size([3, 2])"
      ]
     },
     "execution_count": 73,
     "metadata": {},
     "output_type": "execute_result"
    }
   ],
   "source": [
    "w.shape"
   ]
  },
  {
   "cell_type": "code",
   "execution_count": null,
   "metadata": {},
   "outputs": [],
   "source": []
  },
  {
   "cell_type": "code",
   "execution_count": 75,
   "metadata": {},
   "outputs": [],
   "source": [
    "import numpy as np"
   ]
  },
  {
   "cell_type": "code",
   "execution_count": 76,
   "metadata": {},
   "outputs": [],
   "source": [
    "arr= np.asarray([1,2,3])"
   ]
  },
  {
   "cell_type": "code",
   "execution_count": 80,
   "metadata": {},
   "outputs": [
    {
     "data": {
      "text/plain": [
       "tensor([1, 2, 3], dtype=torch.int32)"
      ]
     },
     "execution_count": 80,
     "metadata": {},
     "output_type": "execute_result"
    }
   ],
   "source": [
    "torch.from_numpy(arr)"
   ]
  },
  {
   "cell_type": "code",
   "execution_count": 88,
   "metadata": {},
   "outputs": [],
   "source": [
    "# b.numpy()"
   ]
  },
  {
   "cell_type": "code",
   "execution_count": 86,
   "metadata": {},
   "outputs": [],
   "source": [
    "c= torch.tensor([1.0,4,5,3,2])"
   ]
  },
  {
   "cell_type": "code",
   "execution_count": 87,
   "metadata": {},
   "outputs": [
    {
     "data": {
      "text/plain": [
       "array([1., 4., 5., 3., 2.], dtype=float32)"
      ]
     },
     "execution_count": 87,
     "metadata": {},
     "output_type": "execute_result"
    }
   ],
   "source": [
    "c.numpy()"
   ]
  },
  {
   "cell_type": "code",
   "execution_count": 89,
   "metadata": {},
   "outputs": [],
   "source": [
    "# Input (temp, rainfall, humidity)\n",
    "inputs = np.array([[73, 67, 43], \n",
    "                   [91, 88, 64], \n",
    "                   [87, 134, 58], \n",
    "                   [102, 43, 37], \n",
    "                   [69, 96, 70]], dtype='float32')\n",
    "inputs= torch.from_numpy(inputs)"
   ]
  },
  {
   "cell_type": "code",
   "execution_count": 90,
   "metadata": {},
   "outputs": [
    {
     "data": {
      "text/plain": [
       "tensor([[ 73.,  67.,  43.],\n",
       "        [ 91.,  88.,  64.],\n",
       "        [ 87., 134.,  58.],\n",
       "        [102.,  43.,  37.],\n",
       "        [ 69.,  96.,  70.]])"
      ]
     },
     "execution_count": 90,
     "metadata": {},
     "output_type": "execute_result"
    }
   ],
   "source": [
    "inputs"
   ]
  },
  {
   "cell_type": "code",
   "execution_count": 91,
   "metadata": {},
   "outputs": [
    {
     "data": {
      "text/plain": [
       "torch.Size([5, 3])"
      ]
     },
     "execution_count": 91,
     "metadata": {},
     "output_type": "execute_result"
    }
   ],
   "source": [
    "inputs.shape"
   ]
  },
  {
   "cell_type": "code",
   "execution_count": 92,
   "metadata": {},
   "outputs": [
    {
     "data": {
      "text/plain": [
       "array([1, 2, 3])"
      ]
     },
     "execution_count": 92,
     "metadata": {},
     "output_type": "execute_result"
    }
   ],
   "source": [
    "arr"
   ]
  },
  {
   "cell_type": "code",
   "execution_count": 93,
   "metadata": {},
   "outputs": [],
   "source": [
    "arr2= np.array([[[1],[2],[3]]])"
   ]
  },
  {
   "cell_type": "code",
   "execution_count": 94,
   "metadata": {},
   "outputs": [
    {
     "data": {
      "text/plain": [
       "array([[[1, 2, 3],\n",
       "        [2, 4, 6],\n",
       "        [3, 6, 9]]])"
      ]
     },
     "execution_count": 94,
     "metadata": {},
     "output_type": "execute_result"
    }
   ],
   "source": [
    "arr*arr2"
   ]
  },
  {
   "cell_type": "code",
   "execution_count": 95,
   "metadata": {},
   "outputs": [
    {
     "data": {
      "text/plain": [
       "array([[[1, 2, 3],\n",
       "        [2, 4, 6],\n",
       "        [3, 6, 9]]])"
      ]
     },
     "execution_count": 95,
     "metadata": {},
     "output_type": "execute_result"
    }
   ],
   "source": [
    "arr2*arr"
   ]
  },
  {
   "cell_type": "code",
   "execution_count": 96,
   "metadata": {},
   "outputs": [
    {
     "data": {
      "text/plain": [
       "(1, 3, 1)"
      ]
     },
     "execution_count": 96,
     "metadata": {},
     "output_type": "execute_result"
    }
   ],
   "source": [
    "arr2.shape"
   ]
  },
  {
   "cell_type": "code",
   "execution_count": 97,
   "metadata": {},
   "outputs": [
    {
     "data": {
      "text/plain": [
       "(3,)"
      ]
     },
     "execution_count": 97,
     "metadata": {},
     "output_type": "execute_result"
    }
   ],
   "source": [
    "arr.shape"
   ]
  },
  {
   "cell_type": "code",
   "execution_count": 105,
   "metadata": {},
   "outputs": [],
   "source": [
    "arr3= np.array([[1],[2],[3]]).reshape([1,3])"
   ]
  },
  {
   "cell_type": "code",
   "execution_count": 106,
   "metadata": {},
   "outputs": [
    {
     "data": {
      "text/plain": [
       "(1, 3)"
      ]
     },
     "execution_count": 106,
     "metadata": {},
     "output_type": "execute_result"
    }
   ],
   "source": [
    "arr3.shape"
   ]
  },
  {
   "cell_type": "code",
   "execution_count": 112,
   "metadata": {},
   "outputs": [],
   "source": [
    "arr=arr.reshape([3,1])"
   ]
  },
  {
   "cell_type": "code",
   "execution_count": 109,
   "metadata": {},
   "outputs": [
    {
     "data": {
      "text/plain": [
       "array([[1, 4, 9]])"
      ]
     },
     "execution_count": 109,
     "metadata": {},
     "output_type": "execute_result"
    }
   ],
   "source": [
    "arr*arr3"
   ]
  },
  {
   "cell_type": "code",
   "execution_count": 110,
   "metadata": {},
   "outputs": [
    {
     "data": {
      "text/plain": [
       "array([[1, 4, 9]])"
      ]
     },
     "execution_count": 110,
     "metadata": {},
     "output_type": "execute_result"
    }
   ],
   "source": [
    "arr3*arr"
   ]
  },
  {
   "cell_type": "code",
   "execution_count": 117,
   "metadata": {},
   "outputs": [
    {
     "data": {
      "text/plain": [
       "(1, 3)"
      ]
     },
     "execution_count": 117,
     "metadata": {},
     "output_type": "execute_result"
    }
   ],
   "source": [
    "arr3.shape"
   ]
  },
  {
   "cell_type": "code",
   "execution_count": 114,
   "metadata": {},
   "outputs": [
    {
     "data": {
      "text/plain": [
       "(3, 1)"
      ]
     },
     "execution_count": 114,
     "metadata": {},
     "output_type": "execute_result"
    }
   ],
   "source": [
    "arr.shape"
   ]
  },
  {
   "cell_type": "code",
   "execution_count": 115,
   "metadata": {},
   "outputs": [
    {
     "data": {
      "text/plain": [
       "array([[1, 2, 3],\n",
       "       [2, 4, 6],\n",
       "       [3, 6, 9]])"
      ]
     },
     "execution_count": 115,
     "metadata": {},
     "output_type": "execute_result"
    }
   ],
   "source": [
    "arr*arr3"
   ]
  },
  {
   "cell_type": "code",
   "execution_count": 116,
   "metadata": {},
   "outputs": [
    {
     "data": {
      "text/plain": [
       "array([[1, 2, 3],\n",
       "       [2, 4, 6],\n",
       "       [3, 6, 9]])"
      ]
     },
     "execution_count": 116,
     "metadata": {},
     "output_type": "execute_result"
    }
   ],
   "source": [
    "arr3*arr"
   ]
  },
  {
   "cell_type": "code",
   "execution_count": 119,
   "metadata": {},
   "outputs": [
    {
     "data": {
      "text/plain": [
       "tensor([[ 73.,  67.,  43.],\n",
       "        [ 91.,  88.,  64.],\n",
       "        [ 87., 134.,  58.],\n",
       "        [102.,  43.,  37.],\n",
       "        [ 69.,  96.,  70.]])"
      ]
     },
     "execution_count": 119,
     "metadata": {},
     "output_type": "execute_result"
    }
   ],
   "source": [
    "inputs"
   ]
  },
  {
   "cell_type": "code",
   "execution_count": 125,
   "metadata": {},
   "outputs": [],
   "source": [
    "# Targets (apples, oranges)\n",
    "targets = np.array([[56, 70], \n",
    "                    [81, 101], \n",
    "                    [119, 133], \n",
    "                    [22, 37], \n",
    "                    [103, 119]], dtype='float32')\n",
    "targets= torch.from_numpy(targets)"
   ]
  },
  {
   "cell_type": "code",
   "execution_count": 126,
   "metadata": {},
   "outputs": [
    {
     "data": {
      "text/plain": [
       "tensor([[ 56.,  70.],\n",
       "        [ 81., 101.],\n",
       "        [119., 133.],\n",
       "        [ 22.,  37.],\n",
       "        [103., 119.]])"
      ]
     },
     "execution_count": 126,
     "metadata": {},
     "output_type": "execute_result"
    }
   ],
   "source": [
    "targets"
   ]
  },
  {
   "cell_type": "code",
   "execution_count": 161,
   "metadata": {},
   "outputs": [],
   "source": [
    "w= torch.randn((2,3), requires_grad =True)"
   ]
  },
  {
   "cell_type": "code",
   "execution_count": 162,
   "metadata": {},
   "outputs": [
    {
     "data": {
      "text/plain": [
       "tensor([[-1.9292,  0.2798,  0.3654],\n",
       "        [-0.2899,  0.3852, -0.3161]], requires_grad=True)"
      ]
     },
     "execution_count": 162,
     "metadata": {},
     "output_type": "execute_result"
    }
   ],
   "source": [
    "w"
   ]
  },
  {
   "cell_type": "code",
   "execution_count": 163,
   "metadata": {},
   "outputs": [],
   "source": [
    "b= torch.randn((2,1), requires_grad=True)"
   ]
  },
  {
   "cell_type": "code",
   "execution_count": 164,
   "metadata": {},
   "outputs": [
    {
     "data": {
      "text/plain": [
       "torch.Size([5, 3])"
      ]
     },
     "execution_count": 164,
     "metadata": {},
     "output_type": "execute_result"
    }
   ],
   "source": [
    "inputs.shape"
   ]
  },
  {
   "cell_type": "code",
   "execution_count": 165,
   "metadata": {},
   "outputs": [
    {
     "data": {
      "text/plain": [
       "tensor([[ 73.,  67.,  43.],\n",
       "        [ 91.,  88.,  64.],\n",
       "        [ 87., 134.,  58.],\n",
       "        [102.,  43.,  37.],\n",
       "        [ 69.,  96.,  70.]])"
      ]
     },
     "execution_count": 165,
     "metadata": {},
     "output_type": "execute_result"
    }
   ],
   "source": [
    "inputs"
   ]
  },
  {
   "cell_type": "code",
   "execution_count": 166,
   "metadata": {},
   "outputs": [
    {
     "data": {
      "text/plain": [
       "torch.Size([2, 3])"
      ]
     },
     "execution_count": 166,
     "metadata": {},
     "output_type": "execute_result"
    }
   ],
   "source": [
    "w.shape"
   ]
  },
  {
   "cell_type": "code",
   "execution_count": 167,
   "metadata": {},
   "outputs": [
    {
     "data": {
      "text/plain": [
       "torch.Size([5, 3])"
      ]
     },
     "execution_count": 167,
     "metadata": {},
     "output_type": "execute_result"
    }
   ],
   "source": [
    "inputs.shape"
   ]
  },
  {
   "cell_type": "code",
   "execution_count": null,
   "metadata": {},
   "outputs": [],
   "source": []
  },
  {
   "cell_type": "code",
   "execution_count": 171,
   "metadata": {},
   "outputs": [
    {
     "data": {
      "text/plain": [
       "tensor([[ 73.,  67.,  43.],\n",
       "        [ 91.,  88.,  64.],\n",
       "        [ 87., 134.,  58.],\n",
       "        [102.,  43.,  37.],\n",
       "        [ 69.,  96.,  70.]])"
      ]
     },
     "execution_count": 171,
     "metadata": {},
     "output_type": "execute_result"
    }
   ],
   "source": [
    "inputs"
   ]
  },
  {
   "cell_type": "code",
   "execution_count": 172,
   "metadata": {},
   "outputs": [
    {
     "data": {
      "text/plain": [
       "tensor([[-1.9292,  0.2798,  0.3654],\n",
       "        [-0.2899,  0.3852, -0.3161]], requires_grad=True)"
      ]
     },
     "execution_count": 172,
     "metadata": {},
     "output_type": "execute_result"
    }
   ],
   "source": [
    "w"
   ]
  },
  {
   "cell_type": "code",
   "execution_count": 173,
   "metadata": {},
   "outputs": [
    {
     "data": {
      "text/plain": [
       "tensor([[-106.3711, -127.5470, -109.1541, -171.2235,  -80.6749],\n",
       "        [  -8.9431,  -12.7091,    8.0682,  -24.6993,   -5.1461]],\n",
       "       grad_fn=<MmBackward0>)"
      ]
     },
     "execution_count": 173,
     "metadata": {},
     "output_type": "execute_result"
    }
   ],
   "source": [
    "w@inputs.t()"
   ]
  },
  {
   "cell_type": "code",
   "execution_count": 174,
   "metadata": {},
   "outputs": [
    {
     "data": {
      "text/plain": [
       "tensor([[-106.3711,   -8.9431],\n",
       "        [-127.5470,  -12.7091],\n",
       "        [-109.1541,    8.0682],\n",
       "        [-171.2235,  -24.6993],\n",
       "        [ -80.6749,   -5.1461]], grad_fn=<MmBackward0>)"
      ]
     },
     "execution_count": 174,
     "metadata": {},
     "output_type": "execute_result"
    }
   ],
   "source": [
    "inputs@w.t()"
   ]
  },
  {
   "cell_type": "code",
   "execution_count": null,
   "metadata": {},
   "outputs": [],
   "source": []
  },
  {
   "cell_type": "code",
   "execution_count": 176,
   "metadata": {},
   "outputs": [
    {
     "data": {
      "text/plain": [
       "torch.Size([5, 3])"
      ]
     },
     "execution_count": 176,
     "metadata": {},
     "output_type": "execute_result"
    }
   ],
   "source": [
    "inputs.shape"
   ]
  },
  {
   "cell_type": "code",
   "execution_count": 177,
   "metadata": {},
   "outputs": [
    {
     "data": {
      "text/plain": [
       "torch.Size([2, 3])"
      ]
     },
     "execution_count": 177,
     "metadata": {},
     "output_type": "execute_result"
    }
   ],
   "source": [
    "w.shape"
   ]
  },
  {
   "cell_type": "code",
   "execution_count": 178,
   "metadata": {},
   "outputs": [],
   "source": [
    "def model(x):\n",
    "    return x @ w.t() + b"
   ]
  },
  {
   "cell_type": "code",
   "execution_count": null,
   "metadata": {},
   "outputs": [],
   "source": [
    "# pred= model(inputs)"
   ]
  },
  {
   "cell_type": "code",
   "execution_count": null,
   "metadata": {},
   "outputs": [],
   "source": []
  },
  {
   "cell_type": "code",
   "execution_count": 180,
   "metadata": {},
   "outputs": [
    {
     "name": "stdout",
     "output_type": "stream",
     "text": [
      "tensor([[ 0.6751, -1.3273,  0.3191],\n",
      "        [-0.2409,  0.0214, -0.9760]], requires_grad=True)\n",
      "tensor([1.1565, 0.0413], requires_grad=True)\n"
     ]
    }
   ],
   "source": [
    "# Weights and biases\n",
    "w = torch.randn(2, 3, requires_grad=True)\n",
    "b = torch.randn(2, requires_grad=True)\n",
    "print(w)\n",
    "print(b)"
   ]
  },
  {
   "cell_type": "code",
   "execution_count": 181,
   "metadata": {},
   "outputs": [],
   "source": [
    "pred= model(inputs)"
   ]
  },
  {
   "cell_type": "code",
   "execution_count": 183,
   "metadata": {},
   "outputs": [
    {
     "data": {
      "text/plain": [
       "tensor([[ -80.7710, -128.0781],\n",
       "        [-114.7919, -183.4607],\n",
       "        [-218.4625, -207.6550],\n",
       "        [   2.7465,  -96.7234],\n",
       "        [-160.3473, -201.8449]], grad_fn=<SubBackward0>)"
      ]
     },
     "execution_count": 183,
     "metadata": {},
     "output_type": "execute_result"
    }
   ],
   "source": [
    "(pred-targets)"
   ]
  },
  {
   "cell_type": "code",
   "execution_count": 191,
   "metadata": {},
   "outputs": [],
   "source": [
    "# MSE loss\n",
    "def mse(t1, t2):\n",
    "    global diff\n",
    "    diff = t1 - t2\n",
    "    print(diff*diff)\n",
    "    return torch.sum(diff * diff) / diff.numel()"
   ]
  },
  {
   "cell_type": "code",
   "execution_count": 192,
   "metadata": {},
   "outputs": [
    {
     "name": "stdout",
     "output_type": "stream",
     "text": [
      "tensor([[6.5240e+03, 1.6404e+04],\n",
      "        [1.3177e+04, 3.3658e+04],\n",
      "        [4.7726e+04, 4.3121e+04],\n",
      "        [7.5434e+00, 9.3554e+03],\n",
      "        [2.5711e+04, 4.0741e+04]], grad_fn=<MulBackward0>)\n"
     ]
    }
   ],
   "source": [
    "loss=mse(pred,targets)"
   ]
  },
  {
   "cell_type": "code",
   "execution_count": 193,
   "metadata": {},
   "outputs": [
    {
     "data": {
      "text/plain": [
       "tensor(23642.4961, grad_fn=<DivBackward0>)"
      ]
     },
     "execution_count": 193,
     "metadata": {},
     "output_type": "execute_result"
    }
   ],
   "source": [
    "loss"
   ]
  },
  {
   "cell_type": "code",
   "execution_count": 194,
   "metadata": {},
   "outputs": [
    {
     "data": {
      "text/plain": [
       "torch.Size([5, 2])"
      ]
     },
     "execution_count": 194,
     "metadata": {},
     "output_type": "execute_result"
    }
   ],
   "source": [
    "diff.shape"
   ]
  },
  {
   "cell_type": "code",
   "execution_count": 195,
   "metadata": {},
   "outputs": [
    {
     "data": {
      "text/plain": [
       "tensor([[ -80.7710, -128.0781],\n",
       "        [-114.7919, -183.4607],\n",
       "        [-218.4625, -207.6550],\n",
       "        [   2.7465,  -96.7234],\n",
       "        [-160.3473, -201.8449]], grad_fn=<SubBackward0>)"
      ]
     },
     "execution_count": 195,
     "metadata": {},
     "output_type": "execute_result"
    }
   ],
   "source": [
    "diff"
   ]
  },
  {
   "cell_type": "code",
   "execution_count": 196,
   "metadata": {},
   "outputs": [
    {
     "data": {
      "text/plain": [
       "tensor([[-24.7710, -58.0781],\n",
       "        [-33.7919, -82.4607],\n",
       "        [-99.4625, -74.6550],\n",
       "        [ 24.7465, -59.7234],\n",
       "        [-57.3473, -82.8449]], grad_fn=<AddBackward0>)"
      ]
     },
     "execution_count": 196,
     "metadata": {},
     "output_type": "execute_result"
    }
   ],
   "source": [
    "pred"
   ]
  },
  {
   "cell_type": "code",
   "execution_count": 198,
   "metadata": {},
   "outputs": [
    {
     "data": {
      "text/plain": [
       "tensor([[ 56.,  70.],\n",
       "        [ 81., 101.],\n",
       "        [119., 133.],\n",
       "        [ 22.,  37.],\n",
       "        [103., 119.]])"
      ]
     },
     "execution_count": 198,
     "metadata": {},
     "output_type": "execute_result"
    }
   ],
   "source": [
    "targets"
   ]
  },
  {
   "cell_type": "code",
   "execution_count": 199,
   "metadata": {},
   "outputs": [],
   "source": [
    "# Compute gradients\n",
    "loss.backward()"
   ]
  },
  {
   "cell_type": "code",
   "execution_count": 200,
   "metadata": {},
   "outputs": [
    {
     "name": "stdout",
     "output_type": "stream",
     "text": [
      "tensor([[ 0.6751, -1.3273,  0.3191],\n",
      "        [-0.2409,  0.0214, -0.9760]], requires_grad=True)\n",
      "tensor([[ -9226.4805, -12012.5117,  -6922.6699],\n",
      "        [-13580.7383, -15217.5508,  -9400.1475]])\n"
     ]
    }
   ],
   "source": [
    "# Gradients for weights\n",
    "print(w)\n",
    "print(w.grad)"
   ]
  },
  {
   "cell_type": "code",
   "execution_count": 201,
   "metadata": {},
   "outputs": [],
   "source": [
    "with torch.no_grad():\n",
    "    w -= w.grad * 1e-5\n",
    "    b -= b.grad * 1e-5"
   ]
  },
  {
   "cell_type": "code",
   "execution_count": 202,
   "metadata": {},
   "outputs": [
    {
     "data": {
      "text/plain": [
       "tensor([[ 0.7673, -1.2072,  0.3883],\n",
       "        [-0.1051,  0.1736, -0.8820]], requires_grad=True)"
      ]
     },
     "execution_count": 202,
     "metadata": {},
     "output_type": "execute_result"
    }
   ],
   "source": [
    "w"
   ]
  },
  {
   "cell_type": "code",
   "execution_count": 203,
   "metadata": {},
   "outputs": [
    {
     "data": {
      "text/plain": [
       "tensor([1.1576, 0.0430], requires_grad=True)"
      ]
     },
     "execution_count": 203,
     "metadata": {},
     "output_type": "execute_result"
    }
   ],
   "source": [
    "b"
   ]
  },
  {
   "cell_type": "code",
   "execution_count": 204,
   "metadata": {},
   "outputs": [],
   "source": [
    "preds= model(inputs)"
   ]
  },
  {
   "cell_type": "code",
   "execution_count": 205,
   "metadata": {},
   "outputs": [
    {
     "name": "stdout",
     "output_type": "stream",
     "text": [
      "tensor([[ 3970.1892, 10800.3496],\n",
      "        [ 8352.7119, 23010.7773],\n",
      "        [36222.6016, 28898.1211],\n",
      "        [  395.4308,  5306.7964],\n",
      "        [18934.2988, 29338.0664]], grad_fn=<MulBackward0>)\n"
     ]
    }
   ],
   "source": [
    "loss= mse(preds,targets)"
   ]
  },
  {
   "cell_type": "code",
   "execution_count": 206,
   "metadata": {},
   "outputs": [
    {
     "data": {
      "text/plain": [
       "tensor(16522.9336, grad_fn=<DivBackward0>)"
      ]
     },
     "execution_count": 206,
     "metadata": {},
     "output_type": "execute_result"
    }
   ],
   "source": [
    "loss"
   ]
  },
  {
   "cell_type": "code",
   "execution_count": 210,
   "metadata": {},
   "outputs": [
    {
     "data": {
      "text/plain": [
       "tensor([[0., 0., 0.],\n",
       "        [0., 0., 0.]])"
      ]
     },
     "execution_count": 210,
     "metadata": {},
     "output_type": "execute_result"
    }
   ],
   "source": [
    "w.grad.zero_()"
   ]
  },
  {
   "cell_type": "code",
   "execution_count": 211,
   "metadata": {},
   "outputs": [
    {
     "data": {
      "text/plain": [
       "tensor([0., 0.])"
      ]
     },
     "execution_count": 211,
     "metadata": {},
     "output_type": "execute_result"
    }
   ],
   "source": [
    "b.grad.zero_()"
   ]
  },
  {
   "cell_type": "code",
   "execution_count": 212,
   "metadata": {},
   "outputs": [
    {
     "name": "stdout",
     "output_type": "stream",
     "text": [
      "tensor([[ -7388.1465, -10024.4277,  -5698.7285],\n",
      "        [-11085.8271, -12533.3770,  -7744.4033]])\n",
      "tensor([ -92.4883, -133.9487])\n"
     ]
    }
   ],
   "source": [
    "# Compute gradients\n",
    "loss.backward()\n",
    "print(w.grad)\n",
    "print(b.grad)\n",
    "\n",
    "# Adjust weights & reset gradients\n",
    "with torch.no_grad():\n",
    "    w -= w.grad * 1e-5\n",
    "    b -= b.grad * 1e-5\n",
    "    w.grad.zero_()\n",
    "    b.grad.zero_()"
   ]
  },
  {
   "cell_type": "code",
   "execution_count": 213,
   "metadata": {},
   "outputs": [
    {
     "name": "stdout",
     "output_type": "stream",
     "text": [
      "tensor([[ 2347.2429,  7073.3613],\n",
      "        [ 5212.8901, 15779.8350],\n",
      "        [27941.0488, 19338.2383],\n",
      "        [ 1145.2344,  2839.1956],\n",
      "        [14134.9902, 21368.5645]], grad_fn=<MulBackward0>)\n",
      "tensor(11718.0605, grad_fn=<DivBackward0>)\n"
     ]
    }
   ],
   "source": [
    "# Calculate loss\n",
    "preds = model(inputs)\n",
    "loss = mse(preds, targets)\n",
    "print(loss)"
   ]
  },
  {
   "cell_type": "code",
   "execution_count": 214,
   "metadata": {},
   "outputs": [
    {
     "data": {
      "text/plain": [
       "tensor(11718.0605, grad_fn=<DivBackward0>)"
      ]
     },
     "execution_count": 214,
     "metadata": {},
     "output_type": "execute_result"
    }
   ],
   "source": [
    "loss"
   ]
  },
  {
   "cell_type": "code",
   "execution_count": 226,
   "metadata": {},
   "outputs": [
    {
     "name": "stdout",
     "output_type": "stream",
     "text": [
      "tensor([[2.7142e+00, 1.2291e+00],\n",
      "        [4.9451e+00, 3.4585e+01],\n",
      "        [1.1502e+01, 1.2765e+02],\n",
      "        [6.9932e-01, 1.6010e+01],\n",
      "        [1.1612e-02, 1.4008e+02]], grad_fn=<MulBackward0>)\n",
      "tensor([[2.7064e+00, 1.2261e+00],\n",
      "        [4.9332e+00, 3.4530e+01],\n",
      "        [1.1434e+01, 1.2746e+02],\n",
      "        [6.7625e-01, 1.5950e+01],\n",
      "        [1.0882e-02, 1.3979e+02]], grad_fn=<MulBackward0>)\n",
      "tensor([[2.6987e+00, 1.2230e+00],\n",
      "        [4.9213e+00, 3.4475e+01],\n",
      "        [1.1368e+01, 1.2727e+02],\n",
      "        [6.5373e-01, 1.5891e+01],\n",
      "        [1.0182e-02, 1.3949e+02]], grad_fn=<MulBackward0>)\n",
      "tensor([[2.6910e+00, 1.2200e+00],\n",
      "        [4.9095e+00, 3.4421e+01],\n",
      "        [1.1302e+01, 1.2708e+02],\n",
      "        [6.3172e-01, 1.5832e+01],\n",
      "        [9.5114e-03, 1.3920e+02]], grad_fn=<MulBackward0>)\n",
      "tensor([[2.6833e+00, 1.2170e+00],\n",
      "        [4.8978e+00, 3.4366e+01],\n",
      "        [1.1236e+01, 1.2689e+02],\n",
      "        [6.1023e-01, 1.5773e+01],\n",
      "        [8.8708e-03, 1.3890e+02]], grad_fn=<MulBackward0>)\n",
      "tensor([[2.6758e+00, 1.2139e+00],\n",
      "        [4.8861e+00, 3.4311e+01],\n",
      "        [1.1171e+01, 1.2670e+02],\n",
      "        [5.8926e-01, 1.5714e+01],\n",
      "        [8.2580e-03, 1.3861e+02]], grad_fn=<MulBackward0>)\n",
      "tensor([[2.6683e+00, 1.2110e+00],\n",
      "        [4.8746e+00, 3.4256e+01],\n",
      "        [1.1106e+01, 1.2651e+02],\n",
      "        [5.6878e-01, 1.5656e+01],\n",
      "        [7.6699e-03, 1.3832e+02]], grad_fn=<MulBackward0>)\n",
      "tensor([[2.6608e+00, 1.2080e+00],\n",
      "        [4.8630e+00, 3.4202e+01],\n",
      "        [1.1043e+01, 1.2632e+02],\n",
      "        [5.4879e-01, 1.5598e+01],\n",
      "        [7.1124e-03, 1.3803e+02]], grad_fn=<MulBackward0>)\n",
      "tensor([[2.6534e+00, 1.2050e+00],\n",
      "        [4.8515e+00, 3.4147e+01],\n",
      "        [1.0979e+01, 1.2613e+02],\n",
      "        [5.2929e-01, 1.5541e+01],\n",
      "        [6.5773e-03, 1.3774e+02]], grad_fn=<MulBackward0>)\n",
      "tensor([[2.6461e+00, 1.2021e+00],\n",
      "        [4.8401e+00, 3.4092e+01],\n",
      "        [1.0916e+01, 1.2594e+02],\n",
      "        [5.1026e-01, 1.5484e+01],\n",
      "        [6.0690e-03, 1.3745e+02]], grad_fn=<MulBackward0>)\n",
      "tensor([[2.6388e+00, 1.1991e+00],\n",
      "        [4.8288e+00, 3.4038e+01],\n",
      "        [1.0854e+01, 1.2575e+02],\n",
      "        [4.9171e-01, 1.5427e+01],\n",
      "        [5.5868e-03, 1.3716e+02]], grad_fn=<MulBackward0>)\n",
      "tensor([[2.6316e+00, 1.1962e+00],\n",
      "        [4.8176e+00, 3.3984e+01],\n",
      "        [1.0792e+01, 1.2556e+02],\n",
      "        [4.7361e-01, 1.5371e+01],\n",
      "        [5.1246e-03, 1.3687e+02]], grad_fn=<MulBackward0>)\n",
      "tensor([[2.6244e+00, 1.1933e+00],\n",
      "        [4.8064e+00, 3.3929e+01],\n",
      "        [1.0731e+01, 1.2537e+02],\n",
      "        [4.5597e-01, 1.5315e+01],\n",
      "        [4.6887e-03, 1.3658e+02]], grad_fn=<MulBackward0>)\n",
      "tensor([[2.6173e+00, 1.1904e+00],\n",
      "        [4.7952e+00, 3.3875e+01],\n",
      "        [1.0670e+01, 1.2518e+02],\n",
      "        [4.3878e-01, 1.5259e+01],\n",
      "        [4.2771e-03, 1.3630e+02]], grad_fn=<MulBackward0>)\n",
      "tensor([[2.6103e+00, 1.1876e+00],\n",
      "        [4.7842e+00, 3.3821e+01],\n",
      "        [1.0609e+01, 1.2499e+02],\n",
      "        [4.2202e-01, 1.5204e+01],\n",
      "        [3.8872e-03, 1.3601e+02]], grad_fn=<MulBackward0>)\n",
      "tensor([[2.6033e+00, 1.1847e+00],\n",
      "        [4.7732e+00, 3.3766e+01],\n",
      "        [1.0550e+01, 1.2480e+02],\n",
      "        [4.0570e-01, 1.5149e+01],\n",
      "        [3.5169e-03, 1.3572e+02]], grad_fn=<MulBackward0>)\n",
      "tensor([[2.5964e+00, 1.1819e+00],\n",
      "        [4.7623e+00, 3.3712e+01],\n",
      "        [1.0490e+01, 1.2461e+02],\n",
      "        [3.8980e-01, 1.5094e+01],\n",
      "        [3.1702e-03, 1.3544e+02]], grad_fn=<MulBackward0>)\n",
      "tensor([[2.5895e+00, 1.1790e+00],\n",
      "        [4.7514e+00, 3.3658e+01],\n",
      "        [1.0431e+01, 1.2442e+02],\n",
      "        [3.7432e-01, 1.5039e+01],\n",
      "        [2.8448e-03, 1.3516e+02]], grad_fn=<MulBackward0>)\n",
      "tensor([[2.5827e+00, 1.1762e+00],\n",
      "        [4.7406e+00, 3.3604e+01],\n",
      "        [1.0373e+01, 1.2423e+02],\n",
      "        [3.5925e-01, 1.4985e+01],\n",
      "        [2.5394e-03, 1.3487e+02]], grad_fn=<MulBackward0>)\n",
      "tensor([[2.5759e+00, 1.1734e+00],\n",
      "        [4.7298e+00, 3.3551e+01],\n",
      "        [1.0315e+01, 1.2404e+02],\n",
      "        [3.4459e-01, 1.4931e+01],\n",
      "        [2.2541e-03, 1.3459e+02]], grad_fn=<MulBackward0>)\n",
      "tensor([[2.5691e+00, 1.1706e+00],\n",
      "        [4.7192e+00, 3.3497e+01],\n",
      "        [1.0258e+01, 1.2385e+02],\n",
      "        [3.3033e-01, 1.4878e+01],\n",
      "        [1.9879e-03, 1.3431e+02]], grad_fn=<MulBackward0>)\n",
      "tensor([[2.5625e+00, 1.1678e+00],\n",
      "        [4.7085e+00, 3.3443e+01],\n",
      "        [1.0201e+01, 1.2366e+02],\n",
      "        [3.1645e-01, 1.4824e+01],\n",
      "        [1.7404e-03, 1.3403e+02]], grad_fn=<MulBackward0>)\n",
      "tensor([[2.5559e+00, 1.1651e+00],\n",
      "        [4.6980e+00, 3.3389e+01],\n",
      "        [1.0144e+01, 1.2347e+02],\n",
      "        [3.0297e-01, 1.4772e+01],\n",
      "        [1.5116e-03, 1.3375e+02]], grad_fn=<MulBackward0>)\n",
      "tensor([[2.5493e+00, 1.1623e+00],\n",
      "        [4.6875e+00, 3.3336e+01],\n",
      "        [1.0088e+01, 1.2328e+02],\n",
      "        [2.8985e-01, 1.4719e+01],\n",
      "        [1.3012e-03, 1.3347e+02]], grad_fn=<MulBackward0>)\n",
      "tensor([[2.5428e+00, 1.1596e+00],\n",
      "        [4.6771e+00, 3.3282e+01],\n",
      "        [1.0032e+01, 1.2309e+02],\n",
      "        [2.7712e-01, 1.4667e+01],\n",
      "        [1.1080e-03, 1.3319e+02]], grad_fn=<MulBackward0>)\n",
      "tensor([[2.5363e+00, 1.1569e+00],\n",
      "        [4.6667e+00, 3.3229e+01],\n",
      "        [9.9773e+00, 1.2291e+02],\n",
      "        [2.6475e-01, 1.4615e+01],\n",
      "        [9.3225e-04, 1.3291e+02]], grad_fn=<MulBackward0>)\n",
      "tensor([[2.5299e+00, 1.1542e+00],\n",
      "        [4.6564e+00, 3.3175e+01],\n",
      "        [9.9226e+00, 1.2272e+02],\n",
      "        [2.5274e-01, 1.4563e+01],\n",
      "        [7.7250e-04, 1.3264e+02]], grad_fn=<MulBackward0>)\n",
      "tensor([[2.5236e+00, 1.1515e+00],\n",
      "        [4.6461e+00, 3.3121e+01],\n",
      "        [9.8684e+00, 1.2253e+02],\n",
      "        [2.4109e-01, 1.4512e+01],\n",
      "        [6.3005e-04, 1.3236e+02]], grad_fn=<MulBackward0>)\n",
      "tensor([[2.5173e+00, 1.1488e+00],\n",
      "        [4.6359e+00, 3.3068e+01],\n",
      "        [9.8145e+00, 1.2234e+02],\n",
      "        [2.2978e-01, 1.4460e+01],\n",
      "        [5.0244e-04, 1.3208e+02]], grad_fn=<MulBackward0>)\n",
      "tensor([[2.5110e+00, 1.1461e+00],\n",
      "        [4.6258e+00, 3.3015e+01],\n",
      "        [9.7610e+00, 1.2215e+02],\n",
      "        [2.1882e-01, 1.4410e+01],\n",
      "        [3.9046e-04, 1.3181e+02]], grad_fn=<MulBackward0>)\n",
      "tensor([[2.5048e+00, 1.1435e+00],\n",
      "        [4.6157e+00, 3.2962e+01],\n",
      "        [9.7081e+00, 1.2196e+02],\n",
      "        [2.0819e-01, 1.4359e+01],\n",
      "        [2.9311e-04, 1.3154e+02]], grad_fn=<MulBackward0>)\n",
      "tensor([[2.4986e+00, 1.1408e+00],\n",
      "        [4.6056e+00, 3.2908e+01],\n",
      "        [9.6556e+00, 1.2177e+02],\n",
      "        [1.9789e-01, 1.4309e+01],\n",
      "        [2.1124e-04, 1.3126e+02]], grad_fn=<MulBackward0>)\n",
      "tensor([[2.4925e+00, 1.1382e+00],\n",
      "        [4.5956e+00, 3.2855e+01],\n",
      "        [9.6035e+00, 1.2158e+02],\n",
      "        [1.8793e-01, 1.4259e+01],\n",
      "        [1.4293e-04, 1.3099e+02]], grad_fn=<MulBackward0>)\n",
      "tensor([[2.4864e+00, 1.1356e+00],\n",
      "        [4.5857e+00, 3.2802e+01],\n",
      "        [9.5518e+00, 1.2139e+02],\n",
      "        [1.7828e-01, 1.4209e+01],\n",
      "        [8.8206e-05, 1.3072e+02]], grad_fn=<MulBackward0>)\n",
      "tensor([[2.4804e+00, 1.1330e+00],\n",
      "        [4.5759e+00, 3.2749e+01],\n",
      "        [9.5005e+00, 1.2121e+02],\n",
      "        [1.6895e-01, 1.4160e+01],\n",
      "        [4.7253e-05, 1.3045e+02]], grad_fn=<MulBackward0>)\n",
      "tensor([[2.4744e+00, 1.1304e+00],\n",
      "        [4.5661e+00, 3.2697e+01],\n",
      "        [9.4497e+00, 1.2102e+02],\n",
      "        [1.5992e-01, 1.4111e+01],\n",
      "        [1.9045e-05, 1.3017e+02]], grad_fn=<MulBackward0>)\n",
      "tensor([[2.4685e+00, 1.1278e+00],\n",
      "        [4.5563e+00, 3.2643e+01],\n",
      "        [9.3991e+00, 1.2083e+02],\n",
      "        [1.5120e-01, 1.4062e+01],\n",
      "        [3.5225e-06, 1.2990e+02]], grad_fn=<MulBackward0>)\n",
      "tensor([[2.4626e+00, 1.1252e+00],\n",
      "        [4.5466e+00, 3.2591e+01],\n",
      "        [9.3491e+00, 1.2064e+02],\n",
      "        [1.4278e-01, 1.4013e+01],\n",
      "        [3.3621e-07, 1.2964e+02]], grad_fn=<MulBackward0>)\n",
      "tensor([[2.4568e+00, 1.1227e+00],\n",
      "        [4.5370e+00, 3.2538e+01],\n",
      "        [9.2994e+00, 1.2045e+02],\n",
      "        [1.3465e-01, 1.3965e+01],\n",
      "        [9.0359e-06, 1.2937e+02]], grad_fn=<MulBackward0>)\n",
      "tensor([[2.4510e+00, 1.1201e+00],\n",
      "        [4.5274e+00, 3.2485e+01],\n",
      "        [9.2501e+00, 1.2026e+02],\n",
      "        [1.2682e-01, 1.3917e+01],\n",
      "        [2.9425e-05, 1.2910e+02]], grad_fn=<MulBackward0>)\n",
      "tensor([[2.4453e+00, 1.1176e+00],\n",
      "        [4.5179e+00, 3.2433e+01],\n",
      "        [9.2013e+00, 1.2008e+02],\n",
      "        [1.1926e-01, 1.3869e+01],\n",
      "        [6.0916e-05, 1.2883e+02]], grad_fn=<MulBackward0>)\n",
      "tensor([[2.4396e+00, 1.1151e+00],\n",
      "        [4.5084e+00, 3.2380e+01],\n",
      "        [9.1528e+00, 1.1989e+02],\n",
      "        [1.1199e-01, 1.3822e+01],\n",
      "        [1.0343e-04, 1.2856e+02]], grad_fn=<MulBackward0>)\n",
      "tensor([[2.4339e+00, 1.1126e+00],\n",
      "        [4.4990e+00, 3.2328e+01],\n",
      "        [9.1047e+00, 1.1970e+02],\n",
      "        [1.0499e-01, 1.3774e+01],\n",
      "        [1.5617e-04, 1.2830e+02]], grad_fn=<MulBackward0>)\n",
      "tensor([[2.4283e+00, 1.1101e+00],\n",
      "        [4.4896e+00, 3.2275e+01],\n",
      "        [9.0569e+00, 1.1951e+02],\n",
      "        [9.8259e-02, 1.3727e+01],\n",
      "        [2.1952e-04, 1.2803e+02]], grad_fn=<MulBackward0>)\n",
      "tensor([[2.4227e+00, 1.1076e+00],\n",
      "        [4.4803e+00, 3.2223e+01],\n",
      "        [9.0095e+00, 1.1933e+02],\n",
      "        [9.1791e-02, 1.3681e+01],\n",
      "        [2.9258e-04, 1.2777e+02]], grad_fn=<MulBackward0>)\n",
      "tensor([[2.4172e+00, 1.1052e+00],\n",
      "        [4.4711e+00, 3.2170e+01],\n",
      "        [8.9625e+00, 1.1914e+02],\n",
      "        [8.5589e-02, 1.3634e+01],\n",
      "        [3.7553e-04, 1.2750e+02]], grad_fn=<MulBackward0>)\n",
      "tensor([[2.4117e+00, 1.1027e+00],\n",
      "        [4.4618e+00, 3.2118e+01],\n",
      "        [8.9159e+00, 1.1895e+02],\n",
      "        [7.9638e-02, 1.3588e+01],\n",
      "        [4.6750e-04, 1.2724e+02]], grad_fn=<MulBackward0>)\n",
      "tensor([[2.4063e+00, 1.1002e+00],\n",
      "        [4.4526e+00, 3.2066e+01],\n",
      "        [8.8697e+00, 1.1876e+02],\n",
      "        [7.3938e-02, 1.3542e+01],\n",
      "        [5.6843e-04, 1.2698e+02]], grad_fn=<MulBackward0>)\n",
      "tensor([[2.4009e+00, 1.0978e+00],\n",
      "        [4.4435e+00, 3.2014e+01],\n",
      "        [8.8238e+00, 1.1858e+02],\n",
      "        [6.8489e-02, 1.3496e+01],\n",
      "        [6.7843e-04, 1.2672e+02]], grad_fn=<MulBackward0>)\n",
      "tensor([[2.3955e+00, 1.0954e+00],\n",
      "        [4.4344e+00, 3.1962e+01],\n",
      "        [8.7782e+00, 1.1839e+02],\n",
      "        [6.3278e-02, 1.3451e+01],\n",
      "        [7.9643e-04, 1.2645e+02]], grad_fn=<MulBackward0>)\n",
      "tensor([[2.3902e+00, 1.0930e+00],\n",
      "        [4.4254e+00, 3.1910e+01],\n",
      "        [8.7330e+00, 1.1820e+02],\n",
      "        [5.8307e-02, 1.3406e+01],\n",
      "        [9.2203e-04, 1.2619e+02]], grad_fn=<MulBackward0>)\n",
      "tensor([[2.3849e+00, 1.0906e+00],\n",
      "        [4.4164e+00, 3.1858e+01],\n",
      "        [8.6882e+00, 1.1801e+02],\n",
      "        [5.3570e-02, 1.3361e+01],\n",
      "        [1.0573e-03, 1.2593e+02]], grad_fn=<MulBackward0>)\n",
      "tensor([[2.3797e+00, 1.0881e+00],\n",
      "        [4.4075e+00, 3.1806e+01],\n",
      "        [8.6437e+00, 1.1783e+02],\n",
      "        [4.9064e-02, 1.3316e+01],\n",
      "        [1.1987e-03, 1.2567e+02]], grad_fn=<MulBackward0>)\n",
      "tensor([[2.3745e+00, 1.0858e+00],\n",
      "        [4.3987e+00, 3.1755e+01],\n",
      "        [8.5996e+00, 1.1764e+02],\n",
      "        [4.4782e-02, 1.3271e+01],\n",
      "        [1.3484e-03, 1.2542e+02]], grad_fn=<MulBackward0>)\n",
      "tensor([[2.3694e+00, 1.0834e+00],\n",
      "        [4.3898e+00, 3.1703e+01],\n",
      "        [8.5559e+00, 1.1745e+02],\n",
      "        [4.0724e-02, 1.3227e+01],\n",
      "        [1.5039e-03, 1.2516e+02]], grad_fn=<MulBackward0>)\n",
      "tensor([[2.3643e+00, 1.0810e+00],\n",
      "        [4.3811e+00, 3.1651e+01],\n",
      "        [8.5123e+00, 1.1727e+02],\n",
      "        [3.6881e-02, 1.3183e+01],\n",
      "        [1.6679e-03, 1.2490e+02]], grad_fn=<MulBackward0>)\n",
      "tensor([[2.3592e+00, 1.0787e+00],\n",
      "        [4.3723e+00, 3.1600e+01],\n",
      "        [8.4692e+00, 1.1708e+02],\n",
      "        [3.3251e-02, 1.3139e+01],\n",
      "        [1.8365e-03, 1.2464e+02]], grad_fn=<MulBackward0>)\n",
      "tensor([[2.3541e+00, 1.0764e+00],\n",
      "        [4.3637e+00, 3.1548e+01],\n",
      "        [8.4264e+00, 1.1689e+02],\n",
      "        [2.9833e-02, 1.3096e+01],\n",
      "        [2.0132e-03, 1.2439e+02]], grad_fn=<MulBackward0>)\n",
      "tensor([[2.3491e+00, 1.0740e+00],\n",
      "        [4.3550e+00, 3.1497e+01],\n",
      "        [8.3840e+00, 1.1671e+02],\n",
      "        [2.6621e-02, 1.3053e+01],\n",
      "        [2.1944e-03, 1.2413e+02]], grad_fn=<MulBackward0>)\n",
      "tensor([[2.3442e+00, 1.0717e+00],\n",
      "        [4.3464e+00, 3.1445e+01],\n",
      "        [8.3419e+00, 1.1652e+02],\n",
      "        [2.3613e-02, 1.3010e+01],\n",
      "        [2.3827e-03, 1.2388e+02]], grad_fn=<MulBackward0>)\n",
      "tensor([[2.3393e+00, 1.0694e+00],\n",
      "        [4.3379e+00, 3.1394e+01],\n",
      "        [8.3001e+00, 1.1634e+02],\n",
      "        [2.0800e-02, 1.2967e+01],\n",
      "        [2.5764e-03, 1.2362e+02]], grad_fn=<MulBackward0>)\n",
      "tensor([[2.3344e+00, 1.0671e+00],\n",
      "        [4.3294e+00, 3.1343e+01],\n",
      "        [8.2585e+00, 1.1615e+02],\n",
      "        [1.8183e-02, 1.2924e+01],\n",
      "        [2.7753e-03, 1.2337e+02]], grad_fn=<MulBackward0>)\n",
      "tensor([[2.3295e+00, 1.0648e+00],\n",
      "        [4.3209e+00, 3.1292e+01],\n",
      "        [8.2174e+00, 1.1596e+02],\n",
      "        [1.5757e-02, 1.2882e+01],\n",
      "        [2.9782e-03, 1.2312e+02]], grad_fn=<MulBackward0>)\n",
      "tensor([[2.3247e+00, 1.0625e+00],\n",
      "        [4.3125e+00, 3.1240e+01],\n",
      "        [8.1766e+00, 1.1578e+02],\n",
      "        [1.3520e-02, 1.2840e+01],\n",
      "        [3.1866e-03, 1.2286e+02]], grad_fn=<MulBackward0>)\n",
      "tensor([[2.3200e+00, 1.0603e+00],\n",
      "        [4.3042e+00, 3.1189e+01],\n",
      "        [8.1360e+00, 1.1559e+02],\n",
      "        [1.1467e-02, 1.2798e+01],\n",
      "        [3.4020e-03, 1.2261e+02]], grad_fn=<MulBackward0>)\n",
      "tensor([[2.3152e+00, 1.0580e+00],\n",
      "        [4.2958e+00, 3.1138e+01],\n",
      "        [8.0957e+00, 1.1541e+02],\n",
      "        [9.5938e-03, 1.2756e+01],\n",
      "        [3.6190e-03, 1.2236e+02]], grad_fn=<MulBackward0>)\n",
      "tensor([[2.3105e+00, 1.0558e+00],\n",
      "        [4.2876e+00, 3.1087e+01],\n",
      "        [8.0560e+00, 1.1522e+02],\n",
      "        [7.8994e-03, 1.2714e+01],\n",
      "        [3.8417e-03, 1.2211e+02]], grad_fn=<MulBackward0>)\n",
      "tensor([[2.3058e+00, 1.0535e+00],\n",
      "        [4.2793e+00, 3.1037e+01],\n",
      "        [8.0163e+00, 1.1504e+02],\n",
      "        [6.3789e-03, 1.2673e+01],\n",
      "        [4.0681e-03, 1.2186e+02]], grad_fn=<MulBackward0>)\n",
      "tensor([[2.3012e+00, 1.0513e+00],\n",
      "        [4.2712e+00, 3.0986e+01],\n",
      "        [7.9770e+00, 1.1485e+02],\n",
      "        [5.0284e-03, 1.2632e+01],\n",
      "        [4.2990e-03, 1.2161e+02]], grad_fn=<MulBackward0>)\n",
      "tensor([[2.2966e+00, 1.0491e+00],\n",
      "        [4.2630e+00, 3.0935e+01],\n",
      "        [7.9379e+00, 1.1467e+02],\n",
      "        [3.8462e-03, 1.2591e+01],\n",
      "        [4.5322e-03, 1.2136e+02]], grad_fn=<MulBackward0>)\n",
      "tensor([[2.2921e+00, 1.0469e+00],\n",
      "        [4.2549e+00, 3.0884e+01],\n",
      "        [7.8993e+00, 1.1448e+02],\n",
      "        [2.8290e-03, 1.2551e+01],\n",
      "        [4.7705e-03, 1.2111e+02]], grad_fn=<MulBackward0>)\n",
      "tensor([[2.2876e+00, 1.0447e+00],\n",
      "        [4.2469e+00, 3.0834e+01],\n",
      "        [7.8608e+00, 1.1430e+02],\n",
      "        [1.9721e-03, 1.2510e+01],\n",
      "        [5.0106e-03, 1.2086e+02]], grad_fn=<MulBackward0>)\n",
      "tensor([[2.2831e+00, 1.0425e+00],\n",
      "        [4.2388e+00, 3.0783e+01],\n",
      "        [7.8227e+00, 1.1411e+02],\n",
      "        [1.2734e-03, 1.2470e+01],\n",
      "        [5.2555e-03, 1.2062e+02]], grad_fn=<MulBackward0>)\n",
      "tensor([[2.2786e+00, 1.0403e+00],\n",
      "        [4.2309e+00, 3.0733e+01],\n",
      "        [7.7849e+00, 1.1393e+02],\n",
      "        [7.3026e-04, 1.2430e+01],\n",
      "        [5.5005e-03, 1.2037e+02]], grad_fn=<MulBackward0>)\n",
      "tensor([[2.2742e+00, 1.0382e+00],\n",
      "        [4.2229e+00, 3.0682e+01],\n",
      "        [7.7473e+00, 1.1374e+02],\n",
      "        [3.3913e-04, 1.2390e+01],\n",
      "        [5.7511e-03, 1.2013e+02]], grad_fn=<MulBackward0>)\n",
      "tensor([[2.2698e+00, 1.0360e+00],\n",
      "        [4.2150e+00, 3.0632e+01],\n",
      "        [7.7100e+00, 1.1356e+02],\n",
      "        [9.7427e-05, 1.2351e+01],\n",
      "        [6.0038e-03, 1.1988e+02]], grad_fn=<MulBackward0>)\n",
      "tensor([[2.2655e+00, 1.0339e+00],\n",
      "        [4.2072e+00, 3.0582e+01],\n",
      "        [7.6730e+00, 1.1338e+02],\n",
      "        [1.9069e-06, 1.2311e+01],\n",
      "        [6.2595e-03, 1.1964e+02]], grad_fn=<MulBackward0>)\n",
      "tensor([[2.2611e+00, 1.0317e+00],\n",
      "        [4.1994e+00, 3.0532e+01],\n",
      "        [7.6362e+00, 1.1319e+02],\n",
      "        [4.9750e-05, 1.2272e+01],\n",
      "        [6.5180e-03, 1.1939e+02]], grad_fn=<MulBackward0>)\n",
      "tensor([[2.2568e+00, 1.0296e+00],\n",
      "        [4.1917e+00, 3.0482e+01],\n",
      "        [7.5998e+00, 1.1301e+02],\n",
      "        [2.3816e-04, 1.2233e+01],\n",
      "        [6.7768e-03, 1.1915e+02]], grad_fn=<MulBackward0>)\n",
      "tensor([[2.2526e+00, 1.0275e+00],\n",
      "        [4.1839e+00, 3.0432e+01],\n",
      "        [7.5636e+00, 1.1282e+02],\n",
      "        [5.6435e-04, 1.2194e+01],\n",
      "        [7.0393e-03, 1.1891e+02]], grad_fn=<MulBackward0>)\n",
      "tensor([[2.2484e+00, 1.0254e+00],\n",
      "        [4.1762e+00, 3.0381e+01],\n",
      "        [7.5277e+00, 1.1264e+02],\n",
      "        [1.0254e-03, 1.2156e+01],\n",
      "        [7.3029e-03, 1.1866e+02]], grad_fn=<MulBackward0>)\n",
      "tensor([[2.2442e+00, 1.0233e+00],\n",
      "        [4.1686e+00, 3.0331e+01],\n",
      "        [7.4920e+00, 1.1246e+02],\n",
      "        [1.6192e-03, 1.2118e+01],\n",
      "        [7.5686e-03, 1.1842e+02]], grad_fn=<MulBackward0>)\n",
      "tensor([[2.2400e+00, 1.0212e+00],\n",
      "        [4.1610e+00, 3.0282e+01],\n",
      "        [7.4566e+00, 1.1227e+02],\n",
      "        [2.3423e-03, 1.2079e+01],\n",
      "        [7.8365e-03, 1.1818e+02]], grad_fn=<MulBackward0>)\n",
      "tensor([[2.2359e+00, 1.0191e+00],\n",
      "        [4.1534e+00, 3.0232e+01],\n",
      "        [7.4216e+00, 1.1209e+02],\n",
      "        [3.1928e-03, 1.2041e+01],\n",
      "        [8.1021e-03, 1.1794e+02]], grad_fn=<MulBackward0>)\n",
      "tensor([[2.2318e+00, 1.0170e+00],\n",
      "        [4.1459e+00, 3.0182e+01],\n",
      "        [7.3867e+00, 1.1191e+02],\n",
      "        [4.1680e-03, 1.2004e+01],\n",
      "        [8.3735e-03, 1.1770e+02]], grad_fn=<MulBackward0>)\n",
      "tensor([[2.2278e+00, 1.0150e+00],\n",
      "        [4.1384e+00, 3.0132e+01],\n",
      "        [7.3521e+00, 1.1173e+02],\n",
      "        [5.2649e-03, 1.1966e+01],\n",
      "        [8.6438e-03, 1.1746e+02]], grad_fn=<MulBackward0>)\n",
      "tensor([[2.2237e+00, 1.0129e+00],\n",
      "        [4.1309e+00, 3.0083e+01],\n",
      "        [7.3178e+00, 1.1154e+02],\n",
      "        [6.4814e-03, 1.1929e+01],\n",
      "        [8.9125e-03, 1.1722e+02]], grad_fn=<MulBackward0>)\n",
      "tensor([[2.2197e+00, 1.0109e+00],\n",
      "        [4.1236e+00, 3.0033e+01],\n",
      "        [7.2837e+00, 1.1136e+02],\n",
      "        [7.8149e-03, 1.1891e+01],\n",
      "        [9.1869e-03, 1.1698e+02]], grad_fn=<MulBackward0>)\n",
      "tensor([[2.2157e+00, 1.0088e+00],\n",
      "        [4.1162e+00, 2.9984e+01],\n",
      "        [7.2498e+00, 1.1118e+02],\n",
      "        [9.2620e-03, 1.1854e+01],\n",
      "        [9.4594e-03, 1.1675e+02]], grad_fn=<MulBackward0>)\n",
      "tensor([[2.2118e+00, 1.0068e+00],\n",
      "        [4.1089e+00, 2.9934e+01],\n",
      "        [7.2163e+00, 1.1100e+02],\n",
      "        [1.0821e-02, 1.1818e+01],\n",
      "        [9.7329e-03, 1.1651e+02]], grad_fn=<MulBackward0>)\n",
      "tensor([[2.2079e+00, 1.0048e+00],\n",
      "        [4.1016e+00, 2.9885e+01],\n",
      "        [7.1829e+00, 1.1081e+02],\n",
      "        [1.2491e-02, 1.1781e+01],\n",
      "        [1.0009e-02, 1.1627e+02]], grad_fn=<MulBackward0>)\n",
      "tensor([[2.2040e+00, 1.0028e+00],\n",
      "        [4.0943e+00, 2.9836e+01],\n",
      "        [7.1498e+00, 1.1063e+02],\n",
      "        [1.4268e-02, 1.1744e+01],\n",
      "        [1.0284e-02, 1.1604e+02]], grad_fn=<MulBackward0>)\n",
      "tensor([[2.2002e+00, 1.0008e+00],\n",
      "        [4.0871e+00, 2.9787e+01],\n",
      "        [7.1170e+00, 1.1045e+02],\n",
      "        [1.6151e-02, 1.1708e+01],\n",
      "        [1.0560e-02, 1.1580e+02]], grad_fn=<MulBackward0>)\n",
      "tensor([[2.1963e+00, 9.9878e-01],\n",
      "        [4.0799e+00, 2.9737e+01],\n",
      "        [7.0844e+00, 1.1027e+02],\n",
      "        [1.8136e-02, 1.1672e+01],\n",
      "        [1.0833e-02, 1.1557e+02]], grad_fn=<MulBackward0>)\n",
      "tensor([[2.1925e+00, 9.9680e-01],\n",
      "        [4.0727e+00, 2.9688e+01],\n",
      "        [7.0520e+00, 1.1009e+02],\n",
      "        [2.0223e-02, 1.1636e+01],\n",
      "        [1.1111e-02, 1.1533e+02]], grad_fn=<MulBackward0>)\n",
      "tensor([[2.1888e+00, 9.9480e-01],\n",
      "        [4.0656e+00, 2.9639e+01],\n",
      "        [7.0198e+00, 1.0991e+02],\n",
      "        [2.2407e-02, 1.1600e+01],\n",
      "        [1.1386e-02, 1.1510e+02]], grad_fn=<MulBackward0>)\n",
      "tensor([[2.1850e+00, 9.9284e-01],\n",
      "        [4.0585e+00, 2.9590e+01],\n",
      "        [6.9879e+00, 1.0973e+02],\n",
      "        [2.4690e-02, 1.1565e+01],\n",
      "        [1.1659e-02, 1.1487e+02]], grad_fn=<MulBackward0>)\n",
      "tensor([[2.1813e+00, 9.9090e-01],\n",
      "        [4.0514e+00, 2.9542e+01],\n",
      "        [6.9563e+00, 1.0955e+02],\n",
      "        [2.7065e-02, 1.1529e+01],\n",
      "        [1.1935e-02, 1.1463e+02]], grad_fn=<MulBackward0>)\n",
      "tensor([[2.1776e+00, 9.8892e-01],\n",
      "        [4.0445e+00, 2.9493e+01],\n",
      "        [6.9248e+00, 1.0936e+02],\n",
      "        [2.9532e-02, 1.1494e+01],\n",
      "        [1.2209e-02, 1.1440e+02]], grad_fn=<MulBackward0>)\n",
      "tensor([[2.1740e+00, 9.8698e-01],\n",
      "        [4.0375e+00, 2.9444e+01],\n",
      "        [6.8935e+00, 1.0918e+02],\n",
      "        [3.2090e-02, 1.1459e+01],\n",
      "        [1.2484e-02, 1.1417e+02]], grad_fn=<MulBackward0>)\n",
      "tensor([[2.1704e+00, 9.8506e-01],\n",
      "        [4.0305e+00, 2.9395e+01],\n",
      "        [6.8626e+00, 1.0900e+02],\n",
      "        [3.4738e-02, 1.1424e+01],\n",
      "        [1.2758e-02, 1.1394e+02]], grad_fn=<MulBackward0>)\n",
      "tensor([[2.1668e+00, 9.8313e-01],\n",
      "        [4.0236e+00, 2.9347e+01],\n",
      "        [6.8319e+00, 1.0882e+02],\n",
      "        [3.7469e-02, 1.1390e+01],\n",
      "        [1.3029e-02, 1.1371e+02]], grad_fn=<MulBackward0>)\n",
      "tensor([[2.1632e+00, 9.8120e-01],\n",
      "        [4.0167e+00, 2.9298e+01],\n",
      "        [6.8013e+00, 1.0864e+02],\n",
      "        [4.0286e-02, 1.1355e+01],\n",
      "        [1.3300e-02, 1.1348e+02]], grad_fn=<MulBackward0>)\n",
      "tensor([[2.1596e+00, 9.7928e-01],\n",
      "        [4.0099e+00, 2.9250e+01],\n",
      "        [6.7709e+00, 1.0846e+02],\n",
      "        [4.3184e-02, 1.1321e+01],\n",
      "        [1.3576e-02, 1.1325e+02]], grad_fn=<MulBackward0>)\n",
      "tensor([[2.1562e+00, 9.7736e-01],\n",
      "        [4.0031e+00, 2.9201e+01],\n",
      "        [6.7408e+00, 1.0828e+02],\n",
      "        [4.6163e-02, 1.1287e+01],\n",
      "        [1.3848e-02, 1.1302e+02]], grad_fn=<MulBackward0>)\n",
      "tensor([[2.1527e+00, 9.7548e-01],\n",
      "        [3.9964e+00, 2.9153e+01],\n",
      "        [6.7109e+00, 1.0811e+02],\n",
      "        [4.9221e-02, 1.1253e+01],\n",
      "        [1.4115e-02, 1.1279e+02]], grad_fn=<MulBackward0>)\n",
      "tensor([[2.1492e+00, 9.7360e-01],\n",
      "        [3.9896e+00, 2.9105e+01],\n",
      "        [6.6812e+00, 1.0793e+02],\n",
      "        [5.2355e-02, 1.1219e+01],\n",
      "        [1.4384e-02, 1.1256e+02]], grad_fn=<MulBackward0>)\n",
      "tensor([[2.1457e+00, 9.7170e-01],\n",
      "        [3.9829e+00, 2.9057e+01],\n",
      "        [6.6518e+00, 1.0775e+02],\n",
      "        [5.5568e-02, 1.1185e+01],\n",
      "        [1.4651e-02, 1.1234e+02]], grad_fn=<MulBackward0>)\n",
      "tensor([[2.1423e+00, 9.6982e-01],\n",
      "        [3.9762e+00, 2.9009e+01],\n",
      "        [6.6226e+00, 1.0757e+02],\n",
      "        [5.8850e-02, 1.1151e+01],\n",
      "        [1.4914e-02, 1.1211e+02]], grad_fn=<MulBackward0>)\n",
      "tensor([[2.1389e+00, 9.6797e-01],\n",
      "        [3.9696e+00, 2.8960e+01],\n",
      "        [6.5935e+00, 1.0739e+02],\n",
      "        [6.2204e-02, 1.1118e+01],\n",
      "        [1.5182e-02, 1.1188e+02]], grad_fn=<MulBackward0>)\n",
      "tensor([[2.1356e+00, 9.6610e-01],\n",
      "        [3.9630e+00, 2.8912e+01],\n",
      "        [6.5647e+00, 1.0721e+02],\n",
      "        [6.5629e-02, 1.1085e+01],\n",
      "        [1.5446e-02, 1.1166e+02]], grad_fn=<MulBackward0>)\n",
      "tensor([[2.1322e+00, 9.6424e-01],\n",
      "        [3.9564e+00, 2.8865e+01],\n",
      "        [6.5361e+00, 1.0703e+02],\n",
      "        [6.9121e-02, 1.1052e+01],\n",
      "        [1.5707e-02, 1.1143e+02]], grad_fn=<MulBackward0>)\n",
      "tensor([[2.1289e+00, 9.6241e-01],\n",
      "        [3.9498e+00, 2.8817e+01],\n",
      "        [6.5076e+00, 1.0685e+02],\n",
      "        [7.2679e-02, 1.1019e+01],\n",
      "        [1.5970e-02, 1.1121e+02]], grad_fn=<MulBackward0>)\n",
      "tensor([[2.1256e+00, 9.6059e-01],\n",
      "        [3.9433e+00, 2.8769e+01],\n",
      "        [6.4794e+00, 1.0667e+02],\n",
      "        [7.6304e-02, 1.0986e+01],\n",
      "        [1.6228e-02, 1.1099e+02]], grad_fn=<MulBackward0>)\n",
      "tensor([[2.1224e+00, 9.5873e-01],\n",
      "        [3.9368e+00, 2.8721e+01],\n",
      "        [6.4513e+00, 1.0650e+02],\n",
      "        [7.9990e-02, 1.0954e+01],\n",
      "        [1.6485e-02, 1.1076e+02]], grad_fn=<MulBackward0>)\n",
      "tensor([[2.1191e+00, 9.5691e-01],\n",
      "        [3.9304e+00, 2.8673e+01],\n",
      "        [6.4235e+00, 1.0632e+02],\n",
      "        [8.3737e-02, 1.0921e+01],\n",
      "        [1.6741e-02, 1.1054e+02]], grad_fn=<MulBackward0>)\n",
      "tensor([[2.1159e+00, 9.5511e-01],\n",
      "        [3.9240e+00, 2.8626e+01],\n",
      "        [6.3958e+00, 1.0614e+02],\n",
      "        [8.7545e-02, 1.0889e+01],\n",
      "        [1.6997e-02, 1.1032e+02]], grad_fn=<MulBackward0>)\n",
      "tensor([[2.1127e+00, 9.5329e-01],\n",
      "        [3.9176e+00, 2.8578e+01],\n",
      "        [6.3685e+00, 1.0596e+02],\n",
      "        [9.1410e-02, 1.0857e+01],\n",
      "        [1.7246e-02, 1.1009e+02]], grad_fn=<MulBackward0>)\n",
      "tensor([[2.1096e+00, 9.5150e-01],\n",
      "        [3.9112e+00, 2.8531e+01],\n",
      "        [6.3412e+00, 1.0579e+02],\n",
      "        [9.5334e-02, 1.0825e+01],\n",
      "        [1.7498e-02, 1.0987e+02]], grad_fn=<MulBackward0>)\n",
      "tensor([[2.1064e+00, 9.4970e-01],\n",
      "        [3.9049e+00, 2.8484e+01],\n",
      "        [6.3141e+00, 1.0561e+02],\n",
      "        [9.9311e-02, 1.0793e+01],\n",
      "        [1.7747e-02, 1.0965e+02]], grad_fn=<MulBackward0>)\n",
      "tensor([[2.1033e+00, 9.4792e-01],\n",
      "        [3.8986e+00, 2.8436e+01],\n",
      "        [6.2872e+00, 1.0543e+02],\n",
      "        [1.0334e-01, 1.0761e+01],\n",
      "        [1.7996e-02, 1.0943e+02]], grad_fn=<MulBackward0>)\n",
      "tensor([[2.1002e+00, 9.4615e-01],\n",
      "        [3.8924e+00, 2.8389e+01],\n",
      "        [6.2605e+00, 1.0526e+02],\n",
      "        [1.0743e-01, 1.0730e+01],\n",
      "        [1.8240e-02, 1.0921e+02]], grad_fn=<MulBackward0>)\n",
      "tensor([[2.0971e+00, 9.4437e-01],\n",
      "        [3.8861e+00, 2.8342e+01],\n",
      "        [6.2341e+00, 1.0508e+02],\n",
      "        [1.1156e-01, 1.0699e+01],\n",
      "        [1.8480e-02, 1.0899e+02]], grad_fn=<MulBackward0>)\n",
      "tensor([[2.0941e+00, 9.4259e-01],\n",
      "        [3.8799e+00, 2.8295e+01],\n",
      "        [6.2077e+00, 1.0490e+02],\n",
      "        [1.1575e-01, 1.0667e+01],\n",
      "        [1.8721e-02, 1.0877e+02]], grad_fn=<MulBackward0>)\n",
      "tensor([[2.0910e+00, 9.4086e-01],\n",
      "        [3.8737e+00, 2.8248e+01],\n",
      "        [6.1817e+00, 1.0473e+02],\n",
      "        [1.1998e-01, 1.0636e+01],\n",
      "        [1.8960e-02, 1.0856e+02]], grad_fn=<MulBackward0>)\n",
      "tensor([[2.0880e+00, 9.3910e-01],\n",
      "        [3.8676e+00, 2.8201e+01],\n",
      "        [6.1556e+00, 1.0455e+02],\n",
      "        [1.2426e-01, 1.0605e+01],\n",
      "        [1.9196e-02, 1.0834e+02]], grad_fn=<MulBackward0>)\n",
      "tensor([[2.0851e+00, 9.3734e-01],\n",
      "        [3.8615e+00, 2.8154e+01],\n",
      "        [6.1299e+00, 1.0437e+02],\n",
      "        [1.2859e-01, 1.0575e+01],\n",
      "        [1.9434e-02, 1.0812e+02]], grad_fn=<MulBackward0>)\n",
      "tensor([[2.0821e+00, 9.3563e-01],\n",
      "        [3.8554e+00, 2.8107e+01],\n",
      "        [6.1043e+00, 1.0420e+02],\n",
      "        [1.3296e-01, 1.0544e+01],\n",
      "        [1.9664e-02, 1.0790e+02]], grad_fn=<MulBackward0>)\n",
      "tensor([[2.0792e+00, 9.3388e-01],\n",
      "        [3.8493e+00, 2.8060e+01],\n",
      "        [6.0789e+00, 1.0402e+02],\n",
      "        [1.3738e-01, 1.0513e+01],\n",
      "        [1.9894e-02, 1.0769e+02]], grad_fn=<MulBackward0>)\n",
      "tensor([[2.0762e+00, 9.3215e-01],\n",
      "        [3.8433e+00, 2.8013e+01],\n",
      "        [6.0537e+00, 1.0385e+02],\n",
      "        [1.4183e-01, 1.0483e+01],\n",
      "        [2.0120e-02, 1.0747e+02]], grad_fn=<MulBackward0>)\n",
      "tensor([[2.0733e+00, 9.3045e-01],\n",
      "        [3.8372e+00, 2.7967e+01],\n",
      "        [6.0286e+00, 1.0367e+02],\n",
      "        [1.4633e-01, 1.0453e+01],\n",
      "        [2.0344e-02, 1.0726e+02]], grad_fn=<MulBackward0>)\n",
      "tensor([[2.0705e+00, 9.2875e-01],\n",
      "        [3.8313e+00, 2.7920e+01],\n",
      "        [6.0037e+00, 1.0350e+02],\n",
      "        [1.5086e-01, 1.0423e+01],\n",
      "        [2.0569e-02, 1.0704e+02]], grad_fn=<MulBackward0>)\n",
      "tensor([[2.0676e+00, 9.2703e-01],\n",
      "        [3.8253e+00, 2.7874e+01],\n",
      "        [5.9789e+00, 1.0332e+02],\n",
      "        [1.5544e-01, 1.0393e+01],\n",
      "        [2.0788e-02, 1.0683e+02]], grad_fn=<MulBackward0>)\n",
      "tensor([[2.0648e+00, 9.2532e-01],\n",
      "        [3.8194e+00, 2.7827e+01],\n",
      "        [5.9544e+00, 1.0315e+02],\n",
      "        [1.6004e-01, 1.0363e+01],\n",
      "        [2.1006e-02, 1.0661e+02]], grad_fn=<MulBackward0>)\n",
      "tensor([[2.0620e+00, 9.2364e-01],\n",
      "        [3.8135e+00, 2.7781e+01],\n",
      "        [5.9300e+00, 1.0298e+02],\n",
      "        [1.6469e-01, 1.0333e+01],\n",
      "        [2.1221e-02, 1.0640e+02]], grad_fn=<MulBackward0>)\n",
      "tensor([[2.0592e+00, 9.2195e-01],\n",
      "        [3.8077e+00, 2.7735e+01],\n",
      "        [5.9058e+00, 1.0280e+02],\n",
      "        [1.6937e-01, 1.0304e+01],\n",
      "        [2.1435e-02, 1.0619e+02]], grad_fn=<MulBackward0>)\n",
      "tensor([[2.0564e+00, 9.2027e-01],\n",
      "        [3.8018e+00, 2.7688e+01],\n",
      "        [5.8818e+00, 1.0263e+02],\n",
      "        [1.7409e-01, 1.0274e+01],\n",
      "        [2.1641e-02, 1.0597e+02]], grad_fn=<MulBackward0>)\n",
      "tensor([[2.0537e+00, 9.1858e-01],\n",
      "        [3.7960e+00, 2.7643e+01],\n",
      "        [5.8579e+00, 1.0245e+02],\n",
      "        [1.7883e-01, 1.0245e+01],\n",
      "        [2.1853e-02, 1.0576e+02]], grad_fn=<MulBackward0>)\n",
      "tensor([[2.0510e+00, 9.1692e-01],\n",
      "        [3.7902e+00, 2.7596e+01],\n",
      "        [5.8341e+00, 1.0228e+02],\n",
      "        [1.8361e-01, 1.0216e+01],\n",
      "        [2.2054e-02, 1.0555e+02]], grad_fn=<MulBackward0>)\n",
      "tensor([[2.0483e+00, 9.1528e-01],\n",
      "        [3.7844e+00, 2.7550e+01],\n",
      "        [5.8105e+00, 1.0211e+02],\n",
      "        [1.8842e-01, 1.0187e+01],\n",
      "        [2.2256e-02, 1.0534e+02]], grad_fn=<MulBackward0>)\n",
      "tensor([[2.0456e+00, 9.1362e-01],\n",
      "        [3.7787e+00, 2.7504e+01],\n",
      "        [5.7871e+00, 1.0193e+02],\n",
      "        [1.9325e-01, 1.0158e+01],\n",
      "        [2.2455e-02, 1.0513e+02]], grad_fn=<MulBackward0>)\n",
      "tensor([[2.0429e+00, 9.1197e-01],\n",
      "        [3.7730e+00, 2.7458e+01],\n",
      "        [5.7639e+00, 1.0176e+02],\n",
      "        [1.9812e-01, 1.0130e+01],\n",
      "        [2.2652e-02, 1.0492e+02]], grad_fn=<MulBackward0>)\n",
      "tensor([[2.0403e+00, 9.1034e-01],\n",
      "        [3.7674e+00, 2.7413e+01],\n",
      "        [5.7408e+00, 1.0159e+02],\n",
      "        [2.0301e-01, 1.0101e+01],\n",
      "        [2.2847e-02, 1.0471e+02]], grad_fn=<MulBackward0>)\n",
      "tensor([[2.0376e+00, 9.0869e-01],\n",
      "        [3.7617e+00, 2.7367e+01],\n",
      "        [5.7178e+00, 1.0141e+02],\n",
      "        [2.0793e-01, 1.0072e+01],\n",
      "        [2.3037e-02, 1.0450e+02]], grad_fn=<MulBackward0>)\n",
      "tensor([[2.0350e+00, 9.0707e-01],\n",
      "        [3.7560e+00, 2.7321e+01],\n",
      "        [5.6951e+00, 1.0124e+02],\n",
      "        [2.1288e-01, 1.0044e+01],\n",
      "        [2.3223e-02, 1.0429e+02]], grad_fn=<MulBackward0>)\n",
      "tensor([[2.0324e+00, 9.0545e-01],\n",
      "        [3.7504e+00, 2.7275e+01],\n",
      "        [5.6725e+00, 1.0107e+02],\n",
      "        [2.1784e-01, 1.0016e+01],\n",
      "        [2.3409e-02, 1.0408e+02]], grad_fn=<MulBackward0>)\n",
      "tensor([[2.0299e+00, 9.0384e-01],\n",
      "        [3.7449e+00, 2.7230e+01],\n",
      "        [5.6500e+00, 1.0090e+02],\n",
      "        [2.2284e-01, 9.9879e+00],\n",
      "        [2.3594e-02, 1.0388e+02]], grad_fn=<MulBackward0>)\n",
      "tensor([[2.0273e+00, 9.0223e-01],\n",
      "        [3.7393e+00, 2.7184e+01],\n",
      "        [5.6276e+00, 1.0073e+02],\n",
      "        [2.2785e-01, 9.9599e+00],\n",
      "        [2.3772e-02, 1.0367e+02]], grad_fn=<MulBackward0>)\n",
      "tensor([[2.0248e+00, 9.0064e-01],\n",
      "        [3.7338e+00, 2.7139e+01],\n",
      "        [5.6054e+00, 1.0055e+02],\n",
      "        [2.3289e-01, 9.9321e+00],\n",
      "        [2.3951e-02, 1.0346e+02]], grad_fn=<MulBackward0>)\n",
      "tensor([[2.0223e+00, 8.9903e-01],\n",
      "        [3.7283e+00, 2.7094e+01],\n",
      "        [5.5834e+00, 1.0038e+02],\n",
      "        [2.3794e-01, 9.9044e+00],\n",
      "        [2.4126e-02, 1.0326e+02]], grad_fn=<MulBackward0>)\n",
      "tensor([[2.0198e+00, 8.9744e-01],\n",
      "        [3.7228e+00, 2.7048e+01],\n",
      "        [5.5615e+00, 1.0021e+02],\n",
      "        [2.4302e-01, 9.8768e+00],\n",
      "        [2.4295e-02, 1.0305e+02]], grad_fn=<MulBackward0>)\n",
      "tensor([[2.0173e+00, 8.9587e-01],\n",
      "        [3.7173e+00, 2.7003e+01],\n",
      "        [5.5398e+00, 1.0004e+02],\n",
      "        [2.4811e-01, 9.8493e+00],\n",
      "        [2.4464e-02, 1.0284e+02]], grad_fn=<MulBackward0>)\n",
      "tensor([[2.0149e+00, 8.9429e-01],\n",
      "        [3.7120e+00, 2.6958e+01],\n",
      "        [5.5182e+00, 9.9870e+01],\n",
      "        [2.5323e-01, 9.8220e+00],\n",
      "        [2.4632e-02, 1.0264e+02]], grad_fn=<MulBackward0>)\n",
      "tensor([[2.0124e+00, 8.9271e-01],\n",
      "        [3.7065e+00, 2.6913e+01],\n",
      "        [5.4967e+00, 9.9700e+01],\n",
      "        [2.5835e-01, 9.7948e+00],\n",
      "        [2.4795e-02, 1.0244e+02]], grad_fn=<MulBackward0>)\n",
      "tensor([[2.0100e+00, 8.9114e-01],\n",
      "        [3.7011e+00, 2.6868e+01],\n",
      "        [5.4754e+00, 9.9529e+01],\n",
      "        [2.6350e-01, 9.7677e+00],\n",
      "        [2.4958e-02, 1.0223e+02]], grad_fn=<MulBackward0>)\n",
      "tensor([[2.0076e+00, 8.8958e-01],\n",
      "        [3.6958e+00, 2.6823e+01],\n",
      "        [5.4541e+00, 9.9359e+01],\n",
      "        [2.6866e-01, 9.7407e+00],\n",
      "        [2.5113e-02, 1.0203e+02]], grad_fn=<MulBackward0>)\n",
      "tensor([[2.0052e+00, 8.8801e-01],\n",
      "        [3.6904e+00, 2.6778e+01],\n",
      "        [5.4332e+00, 9.9189e+01],\n",
      "        [2.7384e-01, 9.7138e+00],\n",
      "        [2.5265e-02, 1.0183e+02]], grad_fn=<MulBackward0>)\n",
      "tensor([[2.0029e+00, 8.8648e-01],\n",
      "        [3.6852e+00, 2.6733e+01],\n",
      "        [5.4123e+00, 9.9019e+01],\n",
      "        [2.7902e-01, 9.6871e+00],\n",
      "        [2.5416e-02, 1.0162e+02]], grad_fn=<MulBackward0>)\n",
      "tensor([[2.0005e+00, 8.8494e-01],\n",
      "        [3.6799e+00, 2.6688e+01],\n",
      "        [5.3915e+00, 9.8849e+01],\n",
      "        [2.8422e-01, 9.6605e+00],\n",
      "        [2.5567e-02, 1.0142e+02]], grad_fn=<MulBackward0>)\n",
      "tensor([[1.9982e+00, 8.8339e-01],\n",
      "        [3.6746e+00, 2.6644e+01],\n",
      "        [5.3708e+00, 9.8680e+01],\n",
      "        [2.8944e-01, 9.6340e+00],\n",
      "        [2.5714e-02, 1.0122e+02]], grad_fn=<MulBackward0>)\n",
      "tensor([[1.9959e+00, 8.8186e-01],\n",
      "        [3.6694e+00, 2.6599e+01],\n",
      "        [5.3504e+00, 9.8511e+01],\n",
      "        [2.9467e-01, 9.6076e+00],\n",
      "        [2.5853e-02, 1.0102e+02]], grad_fn=<MulBackward0>)\n",
      "tensor([[1.9936e+00, 8.8032e-01],\n",
      "        [3.6642e+00, 2.6555e+01],\n",
      "        [5.3300e+00, 9.8342e+01],\n",
      "        [2.9991e-01, 9.5813e+00],\n",
      "        [2.5993e-02, 1.0082e+02]], grad_fn=<MulBackward0>)\n",
      "tensor([[1.9913e+00, 8.7881e-01],\n",
      "        [3.6589e+00, 2.6510e+01],\n",
      "        [5.3098e+00, 9.8173e+01],\n",
      "        [3.0515e-01, 9.5551e+00],\n",
      "        [2.6129e-02, 1.0062e+02]], grad_fn=<MulBackward0>)\n",
      "tensor([[1.9890e+00, 8.7728e-01],\n",
      "        [3.6538e+00, 2.6466e+01],\n",
      "        [5.2898e+00, 9.8004e+01],\n",
      "        [3.1041e-01, 9.5290e+00],\n",
      "        [2.6260e-02, 1.0042e+02]], grad_fn=<MulBackward0>)\n",
      "tensor([[1.9868e+00, 8.7578e-01],\n",
      "        [3.6486e+00, 2.6421e+01],\n",
      "        [5.2698e+00, 9.7836e+01],\n",
      "        [3.1569e-01, 9.5031e+00],\n",
      "        [2.6391e-02, 1.0022e+02]], grad_fn=<MulBackward0>)\n",
      "tensor([[1.9846e+00, 8.7428e-01],\n",
      "        [3.6435e+00, 2.6377e+01],\n",
      "        [5.2500e+00, 9.7668e+01],\n",
      "        [3.2095e-01, 9.4772e+00],\n",
      "        [2.6520e-02, 1.0002e+02]], grad_fn=<MulBackward0>)\n",
      "tensor([[1.9824e+00, 8.7275e-01],\n",
      "        [3.6384e+00, 2.6333e+01],\n",
      "        [5.2302e+00, 9.7500e+01],\n",
      "        [3.2623e-01, 9.4515e+00],\n",
      "        [2.6644e-02, 9.9820e+01]], grad_fn=<MulBackward0>)\n",
      "tensor([[1.9802e+00, 8.7127e-01],\n",
      "        [3.6333e+00, 2.6289e+01],\n",
      "        [5.2107e+00, 9.7332e+01],\n",
      "        [3.3153e-01, 9.4259e+00],\n",
      "        [2.6767e-02, 9.9622e+01]], grad_fn=<MulBackward0>)\n",
      "tensor([[1.9780e+00, 8.6979e-01],\n",
      "        [3.6282e+00, 2.6245e+01],\n",
      "        [5.1912e+00, 9.7165e+01],\n",
      "        [3.3682e-01, 9.4004e+00],\n",
      "        [2.6881e-02, 9.9424e+01]], grad_fn=<MulBackward0>)\n",
      "tensor([[1.9758e+00, 8.6828e-01],\n",
      "        [3.6232e+00, 2.6201e+01],\n",
      "        [5.1719e+00, 9.6997e+01],\n",
      "        [3.4212e-01, 9.3750e+00],\n",
      "        [2.6997e-02, 9.9227e+01]], grad_fn=<MulBackward0>)\n",
      "tensor([[1.9737e+00, 8.6680e-01],\n",
      "        [3.6182e+00, 2.6157e+01],\n",
      "        [5.1527e+00, 9.6830e+01],\n",
      "        [3.4743e-01, 9.3497e+00],\n",
      "        [2.7110e-02, 9.9030e+01]], grad_fn=<MulBackward0>)\n",
      "tensor([[1.9715e+00, 8.6534e-01],\n",
      "        [3.6132e+00, 2.6113e+01],\n",
      "        [5.1336e+00, 9.6663e+01],\n",
      "        [3.5273e-01, 9.3246e+00],\n",
      "        [2.7220e-02, 9.8834e+01]], grad_fn=<MulBackward0>)\n",
      "tensor([[1.9694e+00, 8.6386e-01],\n",
      "        [3.6082e+00, 2.6069e+01],\n",
      "        [5.1147e+00, 9.6497e+01],\n",
      "        [3.5805e-01, 9.2995e+00],\n",
      "        [2.7329e-02, 9.8638e+01]], grad_fn=<MulBackward0>)\n",
      "tensor([[1.9673e+00, 8.6242e-01],\n",
      "        [3.6033e+00, 2.6025e+01],\n",
      "        [5.0958e+00, 9.6330e+01],\n",
      "        [3.6336e-01, 9.2745e+00],\n",
      "        [2.7432e-02, 9.8442e+01]], grad_fn=<MulBackward0>)\n",
      "tensor([[1.9653e+00, 8.6093e-01],\n",
      "        [3.5983e+00, 2.5982e+01],\n",
      "        [5.0772e+00, 9.6163e+01],\n",
      "        [3.6868e-01, 9.2497e+00],\n",
      "        [2.7531e-02, 9.8247e+01]], grad_fn=<MulBackward0>)\n",
      "tensor([[1.9632e+00, 8.5949e-01],\n",
      "        [3.5934e+00, 2.5938e+01],\n",
      "        [5.0585e+00, 9.5997e+01],\n",
      "        [3.7400e-01, 9.2249e+00],\n",
      "        [2.7630e-02, 9.8052e+01]], grad_fn=<MulBackward0>)\n",
      "tensor([[1.9611e+00, 8.5805e-01],\n",
      "        [3.5885e+00, 2.5894e+01],\n",
      "        [5.0400e+00, 9.5831e+01],\n",
      "        [3.7932e-01, 9.2003e+00],\n",
      "        [2.7726e-02, 9.7858e+01]], grad_fn=<MulBackward0>)\n",
      "tensor([[1.9591e+00, 8.5659e-01],\n",
      "        [3.5837e+00, 2.5851e+01],\n",
      "        [5.0217e+00, 9.5665e+01],\n",
      "        [3.8465e-01, 9.1757e+00],\n",
      "        [2.7820e-02, 9.7665e+01]], grad_fn=<MulBackward0>)\n",
      "tensor([[1.9571e+00, 8.5515e-01],\n",
      "        [3.5788e+00, 2.5808e+01],\n",
      "        [5.0034e+00, 9.5500e+01],\n",
      "        [3.8997e-01, 9.1513e+00],\n",
      "        [2.7909e-02, 9.7471e+01]], grad_fn=<MulBackward0>)\n",
      "tensor([[1.9551e+00, 8.5374e-01],\n",
      "        [3.5740e+00, 2.5764e+01],\n",
      "        [4.9853e+00, 9.5335e+01],\n",
      "        [3.9529e-01, 9.1269e+00],\n",
      "        [2.7996e-02, 9.7278e+01]], grad_fn=<MulBackward0>)\n",
      "tensor([[1.9531e+00, 8.5230e-01],\n",
      "        [3.5692e+00, 2.5721e+01],\n",
      "        [4.9672e+00, 9.5170e+01],\n",
      "        [4.0061e-01, 9.1027e+00],\n",
      "        [2.8080e-02, 9.7086e+01]], grad_fn=<MulBackward0>)\n",
      "tensor([[1.9511e+00, 8.5087e-01],\n",
      "        [3.5644e+00, 2.5678e+01],\n",
      "        [4.9494e+00, 9.5005e+01],\n",
      "        [4.0594e-01, 9.0786e+00],\n",
      "        [2.8157e-02, 9.6894e+01]], grad_fn=<MulBackward0>)\n",
      "tensor([[1.9491e+00, 8.4946e-01],\n",
      "        [3.5597e+00, 2.5635e+01],\n",
      "        [4.9316e+00, 9.4840e+01],\n",
      "        [4.1125e-01, 9.0545e+00],\n",
      "        [2.8234e-02, 9.6702e+01]], grad_fn=<MulBackward0>)\n",
      "tensor([[1.9472e+00, 8.4804e-01],\n",
      "        [3.5549e+00, 2.5591e+01],\n",
      "        [4.9139e+00, 9.4676e+01],\n",
      "        [4.1657e-01, 9.0306e+00],\n",
      "        [2.8311e-02, 9.6511e+01]], grad_fn=<MulBackward0>)\n",
      "tensor([[1.9453e+00, 8.4664e-01],\n",
      "        [3.5502e+00, 2.5548e+01],\n",
      "        [4.8963e+00, 9.4512e+01],\n",
      "        [4.2189e-01, 9.0068e+00],\n",
      "        [2.8385e-02, 9.6320e+01]], grad_fn=<MulBackward0>)\n",
      "tensor([[1.9433e+00, 8.4525e-01],\n",
      "        [3.5455e+00, 2.5505e+01],\n",
      "        [4.8789e+00, 9.4348e+01],\n",
      "        [4.2720e-01, 8.9830e+00],\n",
      "        [2.8455e-02, 9.6130e+01]], grad_fn=<MulBackward0>)\n",
      "tensor([[1.9414e+00, 8.4383e-01],\n",
      "        [3.5408e+00, 2.5463e+01],\n",
      "        [4.8615e+00, 9.4184e+01],\n",
      "        [4.3251e-01, 8.9594e+00],\n",
      "        [2.8519e-02, 9.5940e+01]], grad_fn=<MulBackward0>)\n",
      "tensor([[1.9396e+00, 8.4244e-01],\n",
      "        [3.5361e+00, 2.5420e+01],\n",
      "        [4.8443e+00, 9.4020e+01],\n",
      "        [4.3781e-01, 8.9358e+00],\n",
      "        [2.8581e-02, 9.5750e+01]], grad_fn=<MulBackward0>)\n",
      "tensor([[1.9377e+00, 8.4107e-01],\n",
      "        [3.5315e+00, 2.5377e+01],\n",
      "        [4.8271e+00, 9.3857e+01],\n",
      "        [4.4312e-01, 8.9124e+00],\n",
      "        [2.8643e-02, 9.5561e+01]], grad_fn=<MulBackward0>)\n",
      "tensor([[1.9358e+00, 8.3967e-01],\n",
      "        [3.5268e+00, 2.5334e+01],\n",
      "        [4.8101e+00, 9.3694e+01],\n",
      "        [4.4841e-01, 8.8890e+00],\n",
      "        [2.8703e-02, 9.5372e+01]], grad_fn=<MulBackward0>)\n",
      "tensor([[1.9340e+00, 8.3829e-01],\n",
      "        [3.5222e+00, 2.5292e+01],\n",
      "        [4.7932e+00, 9.3531e+01],\n",
      "        [4.5371e-01, 8.8657e+00],\n",
      "        [2.8757e-02, 9.5184e+01]], grad_fn=<MulBackward0>)\n",
      "tensor([[1.9321e+00, 8.3691e-01],\n",
      "        [3.5176e+00, 2.5249e+01],\n",
      "        [4.7764e+00, 9.3368e+01],\n",
      "        [4.5899e-01, 8.8426e+00],\n",
      "        [2.8809e-02, 9.4996e+01]], grad_fn=<MulBackward0>)\n",
      "tensor([[1.9303e+00, 8.3554e-01],\n",
      "        [3.5131e+00, 2.5207e+01],\n",
      "        [4.7597e+00, 9.3206e+01],\n",
      "        [4.6427e-01, 8.8195e+00],\n",
      "        [2.8855e-02, 9.4809e+01]], grad_fn=<MulBackward0>)\n",
      "tensor([[1.9285e+00, 8.3417e-01],\n",
      "        [3.5085e+00, 2.5164e+01],\n",
      "        [4.7431e+00, 9.3043e+01],\n",
      "        [4.6955e-01, 8.7966e+00],\n",
      "        [2.8899e-02, 9.4621e+01]], grad_fn=<MulBackward0>)\n",
      "tensor([[1.9267e+00, 8.3281e-01],\n",
      "        [3.5040e+00, 2.5122e+01],\n",
      "        [4.7266e+00, 9.2881e+01],\n",
      "        [4.7482e-01, 8.7737e+00],\n",
      "        [2.8946e-02, 9.4435e+01]], grad_fn=<MulBackward0>)\n",
      "tensor([[1.9249e+00, 8.3146e-01],\n",
      "        [3.4995e+00, 2.5080e+01],\n",
      "        [4.7102e+00, 9.2719e+01],\n",
      "        [4.8007e-01, 8.7509e+00],\n",
      "        [2.8988e-02, 9.4249e+01]], grad_fn=<MulBackward0>)\n",
      "tensor([[1.9232e+00, 8.3009e-01],\n",
      "        [3.4949e+00, 2.5038e+01],\n",
      "        [4.6939e+00, 9.2558e+01],\n",
      "        [4.8532e-01, 8.7282e+00],\n",
      "        [2.9029e-02, 9.4063e+01]], grad_fn=<MulBackward0>)\n",
      "tensor([[1.9214e+00, 8.2875e-01],\n",
      "        [3.4905e+00, 2.4995e+01],\n",
      "        [4.6776e+00, 9.2396e+01],\n",
      "        [4.9056e-01, 8.7056e+00],\n",
      "        [2.9066e-02, 9.3877e+01]], grad_fn=<MulBackward0>)\n",
      "tensor([[1.9197e+00, 8.2741e-01],\n",
      "        [3.4860e+00, 2.4953e+01],\n",
      "        [4.6615e+00, 9.2235e+01],\n",
      "        [4.9580e-01, 8.6830e+00],\n",
      "        [2.9097e-02, 9.3692e+01]], grad_fn=<MulBackward0>)\n",
      "tensor([[1.9179e+00, 8.2608e-01],\n",
      "        [3.4815e+00, 2.4911e+01],\n",
      "        [4.6455e+00, 9.2074e+01],\n",
      "        [5.0103e-01, 8.6606e+00],\n",
      "        [2.9128e-02, 9.3507e+01]], grad_fn=<MulBackward0>)\n",
      "tensor([[1.9162e+00, 8.2475e-01],\n",
      "        [3.4771e+00, 2.4869e+01],\n",
      "        [4.6296e+00, 9.1913e+01],\n",
      "        [5.0625e-01, 8.6383e+00],\n",
      "        [2.9152e-02, 9.3323e+01]], grad_fn=<MulBackward0>)\n",
      "tensor([[1.9145e+00, 8.2342e-01],\n",
      "        [3.4727e+00, 2.4827e+01],\n",
      "        [4.6138e+00, 9.1753e+01],\n",
      "        [5.1146e-01, 8.6160e+00],\n",
      "        [2.9178e-02, 9.3139e+01]], grad_fn=<MulBackward0>)\n",
      "tensor([[1.9128e+00, 8.2209e-01],\n",
      "        [3.4683e+00, 2.4786e+01],\n",
      "        [4.5981e+00, 9.1592e+01],\n",
      "        [5.1666e-01, 8.5939e+00],\n",
      "        [2.9198e-02, 9.2956e+01]], grad_fn=<MulBackward0>)\n",
      "tensor([[1.9111e+00, 8.2076e-01],\n",
      "        [3.4639e+00, 2.4744e+01],\n",
      "        [4.5824e+00, 9.1432e+01],\n",
      "        [5.2185e-01, 8.5718e+00],\n",
      "        [2.9219e-02, 9.2773e+01]], grad_fn=<MulBackward0>)\n",
      "tensor([[1.9095e+00, 8.1946e-01],\n",
      "        [3.4596e+00, 2.4702e+01],\n",
      "        [4.5669e+00, 9.1272e+01],\n",
      "        [5.2703e-01, 8.5498e+00],\n",
      "        [2.9238e-02, 9.2590e+01]], grad_fn=<MulBackward0>)\n",
      "tensor([[1.9078e+00, 8.1814e-01],\n",
      "        [3.4553e+00, 2.4660e+01],\n",
      "        [4.5514e+00, 9.1113e+01],\n",
      "        [5.3220e-01, 8.5279e+00],\n",
      "        [2.9256e-02, 9.2408e+01]], grad_fn=<MulBackward0>)\n",
      "tensor([[1.9062e+00, 8.1684e-01],\n",
      "        [3.4510e+00, 2.4619e+01],\n",
      "        [4.5361e+00, 9.0953e+01],\n",
      "        [5.3736e-01, 8.5062e+00],\n",
      "        [2.9264e-02, 9.2226e+01]], grad_fn=<MulBackward0>)\n",
      "tensor([[1.9046e+00, 8.1555e-01],\n",
      "        [3.4466e+00, 2.4577e+01],\n",
      "        [4.5209e+00, 9.0794e+01],\n",
      "        [5.4250e-01, 8.4844e+00],\n",
      "        [2.9274e-02, 9.2044e+01]], grad_fn=<MulBackward0>)\n",
      "tensor([[1.9030e+00, 8.1424e-01],\n",
      "        [3.4423e+00, 2.4536e+01],\n",
      "        [4.5057e+00, 9.0635e+01],\n",
      "        [5.4764e-01, 8.4628e+00],\n",
      "        [2.9279e-02, 9.1863e+01]], grad_fn=<MulBackward0>)\n",
      "tensor([[1.9014e+00, 8.1292e-01],\n",
      "        [3.4381e+00, 2.4495e+01],\n",
      "        [4.4906e+00, 9.0476e+01],\n",
      "        [5.5277e-01, 8.4412e+00],\n",
      "        [2.9285e-02, 9.1683e+01]], grad_fn=<MulBackward0>)\n",
      "tensor([[1.8998e+00, 8.1164e-01],\n",
      "        [3.4338e+00, 2.4453e+01],\n",
      "        [4.4756e+00, 9.0317e+01],\n",
      "        [5.5787e-01, 8.4197e+00],\n",
      "        [2.9290e-02, 9.1502e+01]], grad_fn=<MulBackward0>)\n",
      "tensor([[1.8982e+00, 8.1035e-01],\n",
      "        [3.4296e+00, 2.4412e+01],\n",
      "        [4.4607e+00, 9.0159e+01],\n",
      "        [5.6298e-01, 8.3984e+00],\n",
      "        [2.9285e-02, 9.1323e+01]], grad_fn=<MulBackward0>)\n",
      "tensor([[1.8966e+00, 8.0906e-01],\n",
      "        [3.4253e+00, 2.4371e+01],\n",
      "        [4.4459e+00, 9.0001e+01],\n",
      "        [5.6806e-01, 8.3770e+00],\n",
      "        [2.9285e-02, 9.1143e+01]], grad_fn=<MulBackward0>)\n",
      "tensor([[1.8950e+00, 8.0779e-01],\n",
      "        [3.4212e+00, 2.4330e+01],\n",
      "        [4.4312e+00, 8.9843e+01],\n",
      "        [5.7314e-01, 8.3558e+00],\n",
      "        [2.9279e-02, 9.0964e+01]], grad_fn=<MulBackward0>)\n",
      "tensor([[1.8935e+00, 8.0652e-01],\n",
      "        [3.4170e+00, 2.4289e+01],\n",
      "        [4.4166e+00, 8.9685e+01],\n",
      "        [5.7821e-01, 8.3347e+00],\n",
      "        [2.9269e-02, 9.0785e+01]], grad_fn=<MulBackward0>)\n",
      "tensor([[1.8920e+00, 8.0526e-01],\n",
      "        [3.4128e+00, 2.4248e+01],\n",
      "        [4.4021e+00, 8.9528e+01],\n",
      "        [5.8326e-01, 8.3136e+00],\n",
      "        [2.9256e-02, 9.0607e+01]], grad_fn=<MulBackward0>)\n",
      "tensor([[1.8904e+00, 8.0399e-01],\n",
      "        [3.4086e+00, 2.4207e+01],\n",
      "        [4.3877e+00, 8.9370e+01],\n",
      "        [5.8830e-01, 8.2927e+00],\n",
      "        [2.9243e-02, 9.0429e+01]], grad_fn=<MulBackward0>)\n",
      "tensor([[1.8889e+00, 8.0273e-01],\n",
      "        [3.4045e+00, 2.4166e+01],\n",
      "        [4.3732e+00, 8.9213e+01],\n",
      "        [5.9331e-01, 8.2718e+00],\n",
      "        [2.9230e-02, 9.0251e+01]], grad_fn=<MulBackward0>)\n",
      "tensor([[1.8874e+00, 8.0144e-01],\n",
      "        [3.4003e+00, 2.4125e+01],\n",
      "        [4.3590e+00, 8.9056e+01],\n",
      "        [5.9833e-01, 8.2510e+00],\n",
      "        [2.9209e-02, 9.0074e+01]], grad_fn=<MulBackward0>)\n",
      "tensor([[1.8859e+00, 8.0019e-01],\n",
      "        [3.3962e+00, 2.4085e+01],\n",
      "        [4.3448e+00, 8.8899e+01],\n",
      "        [6.0332e-01, 8.2302e+00],\n",
      "        [2.9191e-02, 8.9897e+01]], grad_fn=<MulBackward0>)\n",
      "tensor([[1.8845e+00, 7.9894e-01],\n",
      "        [3.3921e+00, 2.4044e+01],\n",
      "        [4.3307e+00, 8.8742e+01],\n",
      "        [6.0831e-01, 8.2095e+00],\n",
      "        [2.9170e-02, 8.9721e+01]], grad_fn=<MulBackward0>)\n",
      "tensor([[1.8830e+00, 7.9768e-01],\n",
      "        [3.3881e+00, 2.4003e+01],\n",
      "        [4.3166e+00, 8.8586e+01],\n",
      "        [6.1327e-01, 8.1890e+00],\n",
      "        [2.9146e-02, 8.9544e+01]], grad_fn=<MulBackward0>)\n",
      "tensor([[1.8816e+00, 7.9644e-01],\n",
      "        [3.3840e+00, 2.3963e+01],\n",
      "        [4.3026e+00, 8.8430e+01],\n",
      "        [6.1822e-01, 8.1685e+00],\n",
      "        [2.9120e-02, 8.9369e+01]], grad_fn=<MulBackward0>)\n",
      "tensor([[1.8801e+00, 7.9521e-01],\n",
      "        [3.3800e+00, 2.3922e+01],\n",
      "        [4.2887e+00, 8.8274e+01],\n",
      "        [6.2315e-01, 8.1481e+00],\n",
      "        [2.9092e-02, 8.9193e+01]], grad_fn=<MulBackward0>)\n",
      "tensor([[1.8787e+00, 7.9397e-01],\n",
      "        [3.3759e+00, 2.3882e+01],\n",
      "        [4.2750e+00, 8.8119e+01],\n",
      "        [6.2807e-01, 8.1278e+00],\n",
      "        [2.9060e-02, 8.9019e+01]], grad_fn=<MulBackward0>)\n",
      "tensor([[1.8773e+00, 7.9274e-01],\n",
      "        [3.3720e+00, 2.3842e+01],\n",
      "        [4.2612e+00, 8.7964e+01],\n",
      "        [6.3299e-01, 8.1075e+00],\n",
      "        [2.9024e-02, 8.8844e+01]], grad_fn=<MulBackward0>)\n",
      "tensor([[1.8759e+00, 7.9153e-01],\n",
      "        [3.3679e+00, 2.3801e+01],\n",
      "        [4.2476e+00, 8.7808e+01],\n",
      "        [6.3788e-01, 8.0873e+00],\n",
      "        [2.8993e-02, 8.8670e+01]], grad_fn=<MulBackward0>)\n",
      "tensor([[1.8744e+00, 7.9031e-01],\n",
      "        [3.3640e+00, 2.3761e+01],\n",
      "        [4.2340e+00, 8.7654e+01],\n",
      "        [6.4275e-01, 8.0672e+00],\n",
      "        [2.8951e-02, 8.8496e+01]], grad_fn=<MulBackward0>)\n",
      "tensor([[1.8731e+00, 7.8909e-01],\n",
      "        [3.3600e+00, 2.3721e+01],\n",
      "        [4.2206e+00, 8.7499e+01],\n",
      "        [6.4761e-01, 8.0472e+00],\n",
      "        [2.8915e-02, 8.8322e+01]], grad_fn=<MulBackward0>)\n",
      "tensor([[1.8717e+00, 7.8785e-01],\n",
      "        [3.3560e+00, 2.3681e+01],\n",
      "        [4.2072e+00, 8.7345e+01],\n",
      "        [6.5246e-01, 8.0273e+00],\n",
      "        [2.8868e-02, 8.8149e+01]], grad_fn=<MulBackward0>)\n",
      "tensor([[1.8703e+00, 7.8666e-01],\n",
      "        [3.3521e+00, 2.3641e+01],\n",
      "        [4.1939e+00, 8.7190e+01],\n",
      "        [6.5728e-01, 8.0074e+00],\n",
      "        [2.8829e-02, 8.7976e+01]], grad_fn=<MulBackward0>)\n",
      "tensor([[1.8689e+00, 7.8546e-01],\n",
      "        [3.3482e+00, 2.3601e+01],\n",
      "        [4.1806e+00, 8.7036e+01],\n",
      "        [6.6210e-01, 7.9876e+00],\n",
      "        [2.8783e-02, 8.7804e+01]], grad_fn=<MulBackward0>)\n",
      "tensor([[1.8676e+00, 7.8426e-01],\n",
      "        [3.3442e+00, 2.3561e+01],\n",
      "        [4.1674e+00, 8.6883e+01],\n",
      "        [6.6690e-01, 7.9679e+00],\n",
      "        [2.8734e-02, 8.7632e+01]], grad_fn=<MulBackward0>)\n",
      "tensor([[1.8663e+00, 7.8307e-01],\n",
      "        [3.3404e+00, 2.3521e+01],\n",
      "        [4.1543e+00, 8.6729e+01],\n",
      "        [6.7168e-01, 7.9482e+00],\n",
      "        [2.8684e-02, 8.7460e+01]], grad_fn=<MulBackward0>)\n",
      "tensor([[1.8649e+00, 7.8187e-01],\n",
      "        [3.3365e+00, 2.3481e+01],\n",
      "        [4.1413e+00, 8.6576e+01],\n",
      "        [6.7644e-01, 7.9286e+00],\n",
      "        [2.8630e-02, 8.7289e+01]], grad_fn=<MulBackward0>)\n",
      "tensor([[1.8636e+00, 7.8067e-01],\n",
      "        [3.3326e+00, 2.3442e+01],\n",
      "        [4.1284e+00, 8.6423e+01],\n",
      "        [6.8119e-01, 7.9091e+00],\n",
      "        [2.8576e-02, 8.7118e+01]], grad_fn=<MulBackward0>)\n",
      "tensor([[1.8623e+00, 7.7947e-01],\n",
      "        [3.3288e+00, 2.3402e+01],\n",
      "        [4.1155e+00, 8.6269e+01],\n",
      "        [6.8591e-01, 7.8896e+00],\n",
      "        [2.8517e-02, 8.6947e+01]], grad_fn=<MulBackward0>)\n",
      "tensor([[1.8610e+00, 7.7828e-01],\n",
      "        [3.3249e+00, 2.3362e+01],\n",
      "        [4.1027e+00, 8.6117e+01],\n",
      "        [6.9063e-01, 7.8703e+00],\n",
      "        [2.8460e-02, 8.6777e+01]], grad_fn=<MulBackward0>)\n",
      "tensor([[1.8597e+00, 7.7711e-01],\n",
      "        [3.3211e+00, 2.3323e+01],\n",
      "        [4.0899e+00, 8.5964e+01],\n",
      "        [6.9532e-01, 7.8510e+00],\n",
      "        [2.8401e-02, 8.6607e+01]], grad_fn=<MulBackward0>)\n",
      "tensor([[1.8584e+00, 7.7593e-01],\n",
      "        [3.3173e+00, 2.3283e+01],\n",
      "        [4.0773e+00, 8.5812e+01],\n",
      "        [7.0000e-01, 7.8318e+00],\n",
      "        [2.8339e-02, 8.6438e+01]], grad_fn=<MulBackward0>)\n",
      "tensor([[1.8572e+00, 7.7476e-01],\n",
      "        [3.3135e+00, 2.3244e+01],\n",
      "        [4.0647e+00, 8.5660e+01],\n",
      "        [7.0466e-01, 7.8126e+00],\n",
      "        [2.8275e-02, 8.6269e+01]], grad_fn=<MulBackward0>)\n",
      "tensor([[1.8559e+00, 7.7358e-01],\n",
      "        [3.3097e+00, 2.3205e+01],\n",
      "        [4.0522e+00, 8.5508e+01],\n",
      "        [7.0930e-01, 7.7935e+00],\n",
      "        [2.8208e-02, 8.6100e+01]], grad_fn=<MulBackward0>)\n",
      "tensor([[1.8546e+00, 7.7240e-01],\n",
      "        [3.3060e+00, 2.3166e+01],\n",
      "        [4.0397e+00, 8.5356e+01],\n",
      "        [7.1393e-01, 7.7745e+00],\n",
      "        [2.8142e-02, 8.5932e+01]], grad_fn=<MulBackward0>)\n",
      "tensor([[1.8534e+00, 7.7124e-01],\n",
      "        [3.3022e+00, 2.3126e+01],\n",
      "        [4.0274e+00, 8.5205e+01],\n",
      "        [7.1854e-01, 7.7556e+00],\n",
      "        [2.8070e-02, 8.5764e+01]], grad_fn=<MulBackward0>)\n",
      "tensor([[1.8522e+00, 7.7009e-01],\n",
      "        [3.2984e+00, 2.3087e+01],\n",
      "        [4.0151e+00, 8.5054e+01],\n",
      "        [7.2312e-01, 7.7367e+00],\n",
      "        [2.7996e-02, 8.5596e+01]], grad_fn=<MulBackward0>)\n",
      "tensor([[1.8510e+00, 7.6891e-01],\n",
      "        [3.2948e+00, 2.3048e+01],\n",
      "        [4.0028e+00, 8.4903e+01],\n",
      "        [7.2769e-01, 7.7179e+00],\n",
      "        [2.7927e-02, 8.5429e+01]], grad_fn=<MulBackward0>)\n",
      "tensor([[1.8497e+00, 7.6778e-01],\n",
      "        [3.2910e+00, 2.3009e+01],\n",
      "        [3.9906e+00, 8.4752e+01],\n",
      "        [7.3224e-01, 7.6991e+00],\n",
      "        [2.7853e-02, 8.5261e+01]], grad_fn=<MulBackward0>)\n",
      "tensor([[1.8485e+00, 7.6663e-01],\n",
      "        [3.2873e+00, 2.2970e+01],\n",
      "        [3.9786e+00, 8.4602e+01],\n",
      "        [7.3678e-01, 7.6805e+00],\n",
      "        [2.7777e-02, 8.5095e+01]], grad_fn=<MulBackward0>)\n",
      "tensor([[1.8473e+00, 7.6546e-01],\n",
      "        [3.2837e+00, 2.2931e+01],\n",
      "        [3.9665e+00, 8.4452e+01],\n",
      "        [7.4130e-01, 7.6619e+00],\n",
      "        [2.7696e-02, 8.4929e+01]], grad_fn=<MulBackward0>)\n",
      "tensor([[1.8462e+00, 7.6434e-01],\n",
      "        [3.2800e+00, 2.2893e+01],\n",
      "        [3.9545e+00, 8.4302e+01],\n",
      "        [7.4580e-01, 7.6433e+00],\n",
      "        [2.7619e-02, 8.4762e+01]], grad_fn=<MulBackward0>)\n",
      "tensor([[1.8450e+00, 7.6320e-01],\n",
      "        [3.2763e+00, 2.2854e+01],\n",
      "        [3.9426e+00, 8.4152e+01],\n",
      "        [7.5028e-01, 7.6249e+00],\n",
      "        [2.7533e-02, 8.4597e+01]], grad_fn=<MulBackward0>)\n",
      "tensor([[1.8438e+00, 7.6205e-01],\n",
      "        [3.2727e+00, 2.2815e+01],\n",
      "        [3.9308e+00, 8.4002e+01],\n",
      "        [7.5473e-01, 7.6065e+00],\n",
      "        [2.7452e-02, 8.4432e+01]], grad_fn=<MulBackward0>)\n",
      "tensor([[1.8427e+00, 7.6093e-01],\n",
      "        [3.2691e+00, 2.2776e+01],\n",
      "        [3.9190e+00, 8.3853e+01],\n",
      "        [7.5918e-01, 7.5882e+00],\n",
      "        [2.7364e-02, 8.4267e+01]], grad_fn=<MulBackward0>)\n",
      "tensor([[1.8415e+00, 7.5980e-01],\n",
      "        [3.2654e+00, 2.2738e+01],\n",
      "        [3.9073e+00, 8.3703e+01],\n",
      "        [7.6360e-01, 7.5699e+00],\n",
      "        [2.7278e-02, 8.4102e+01]], grad_fn=<MulBackward0>)\n",
      "tensor([[1.8404e+00, 7.5868e-01],\n",
      "        [3.2618e+00, 2.2699e+01],\n",
      "        [3.8957e+00, 8.3555e+01],\n",
      "        [7.6801e-01, 7.5517e+00],\n",
      "        [2.7193e-02, 8.3938e+01]], grad_fn=<MulBackward0>)\n",
      "tensor([[1.8392e+00, 7.5756e-01],\n",
      "        [3.2582e+00, 2.2661e+01],\n",
      "        [3.8841e+00, 8.3406e+01],\n",
      "        [7.7240e-01, 7.5336e+00],\n",
      "        [2.7102e-02, 8.3774e+01]], grad_fn=<MulBackward0>)\n",
      "tensor([[1.8381e+00, 7.5643e-01],\n",
      "        [3.2546e+00, 2.2623e+01],\n",
      "        [3.8726e+00, 8.3258e+01],\n",
      "        [7.7677e-01, 7.5155e+00],\n",
      "        [2.7012e-02, 8.3610e+01]], grad_fn=<MulBackward0>)\n",
      "tensor([[1.8370e+00, 7.5531e-01],\n",
      "        [3.2511e+00, 2.2584e+01],\n",
      "        [3.8611e+00, 8.3109e+01],\n",
      "        [7.8112e-01, 7.4975e+00],\n",
      "        [2.6917e-02, 8.3447e+01]], grad_fn=<MulBackward0>)\n",
      "tensor([[1.8359e+00, 7.5419e-01],\n",
      "        [3.2475e+00, 2.2546e+01],\n",
      "        [3.8497e+00, 8.2961e+01],\n",
      "        [7.8545e-01, 7.4795e+00],\n",
      "        [2.6821e-02, 8.3285e+01]], grad_fn=<MulBackward0>)\n",
      "tensor([[1.8348e+00, 7.5310e-01],\n",
      "        [3.2440e+00, 2.2508e+01],\n",
      "        [3.8384e+00, 8.2813e+01],\n",
      "        [7.8976e-01, 7.4616e+00],\n",
      "        [2.6727e-02, 8.3122e+01]], grad_fn=<MulBackward0>)\n",
      "tensor([[1.8337e+00, 7.5197e-01],\n",
      "        [3.2404e+00, 2.2470e+01],\n",
      "        [3.8272e+00, 8.2666e+01],\n",
      "        [7.9406e-01, 7.4438e+00],\n",
      "        [2.6624e-02, 8.2960e+01]], grad_fn=<MulBackward0>)\n",
      "tensor([[1.8326e+00, 7.5086e-01],\n",
      "        [3.2369e+00, 2.2432e+01],\n",
      "        [3.8159e+00, 8.2518e+01],\n",
      "        [7.9833e-01, 7.4260e+00],\n",
      "        [2.6527e-02, 8.2798e+01]], grad_fn=<MulBackward0>)\n",
      "tensor([[1.8315e+00, 7.4978e-01],\n",
      "        [3.2334e+00, 2.2394e+01],\n",
      "        [3.8048e+00, 8.2371e+01],\n",
      "        [8.0258e-01, 7.4083e+00],\n",
      "        [2.6428e-02, 8.2637e+01]], grad_fn=<MulBackward0>)\n",
      "tensor([[1.8305e+00, 7.4867e-01],\n",
      "        [3.2299e+00, 2.2356e+01],\n",
      "        [3.7937e+00, 8.2224e+01],\n",
      "        [8.0682e-01, 7.3907e+00],\n",
      "        [2.6326e-02, 8.2476e+01]], grad_fn=<MulBackward0>)\n",
      "tensor([[1.8294e+00, 7.4757e-01],\n",
      "        [3.2265e+00, 2.2318e+01],\n",
      "        [3.7826e+00, 8.2077e+01],\n",
      "        [8.1104e-01, 7.3731e+00],\n",
      "        [2.6223e-02, 8.2315e+01]], grad_fn=<MulBackward0>)\n",
      "tensor([[1.8284e+00, 7.4648e-01],\n",
      "        [3.2230e+00, 2.2280e+01],\n",
      "        [3.7717e+00, 8.1930e+01],\n",
      "        [8.1523e-01, 7.3556e+00],\n",
      "        [2.6119e-02, 8.2154e+01]], grad_fn=<MulBackward0>)\n",
      "tensor([[1.8273e+00, 7.4539e-01],\n",
      "        [3.2195e+00, 2.2242e+01],\n",
      "        [3.7608e+00, 8.1784e+01],\n",
      "        [8.1941e-01, 7.3382e+00],\n",
      "        [2.6013e-02, 8.1994e+01]], grad_fn=<MulBackward0>)\n",
      "tensor([[1.8263e+00, 7.4428e-01],\n",
      "        [3.2161e+00, 2.2205e+01],\n",
      "        [3.7499e+00, 8.1638e+01],\n",
      "        [8.2358e-01, 7.3208e+00],\n",
      "        [2.5907e-02, 8.1835e+01]], grad_fn=<MulBackward0>)\n",
      "tensor([[1.8252e+00, 7.4320e-01],\n",
      "        [3.2126e+00, 2.2167e+01],\n",
      "        [3.7392e+00, 8.1492e+01],\n",
      "        [8.2772e-01, 7.3034e+00],\n",
      "        [2.5794e-02, 8.1675e+01]], grad_fn=<MulBackward0>)\n",
      "tensor([[1.8242e+00, 7.4214e-01],\n",
      "        [3.2092e+00, 2.2130e+01],\n",
      "        [3.7285e+00, 8.1346e+01],\n",
      "        [8.3183e-01, 7.2862e+00],\n",
      "        [2.5684e-02, 8.1516e+01]], grad_fn=<MulBackward0>)\n",
      "tensor([[1.8232e+00, 7.4107e-01],\n",
      "        [3.2058e+00, 2.2092e+01],\n",
      "        [3.7177e+00, 8.1201e+01],\n",
      "        [8.3593e-01, 7.2690e+00],\n",
      "        [2.5577e-02, 8.1357e+01]], grad_fn=<MulBackward0>)\n",
      "tensor([[1.8222e+00, 7.3999e-01],\n",
      "        [3.2024e+00, 2.2055e+01],\n",
      "        [3.7071e+00, 8.1056e+01],\n",
      "        [8.4001e-01, 7.2519e+00],\n",
      "        [2.5462e-02, 8.1199e+01]], grad_fn=<MulBackward0>)\n",
      "tensor([[1.8212e+00, 7.3895e-01],\n",
      "        [3.1990e+00, 2.2017e+01],\n",
      "        [3.6965e+00, 8.0911e+01],\n",
      "        [8.4407e-01, 7.2348e+00],\n",
      "        [2.5350e-02, 8.1040e+01]], grad_fn=<MulBackward0>)\n",
      "tensor([[1.8202e+00, 7.3787e-01],\n",
      "        [3.1956e+00, 2.1980e+01],\n",
      "        [3.6860e+00, 8.0766e+01],\n",
      "        [8.4811e-01, 7.2178e+00],\n",
      "        [2.5236e-02, 8.0882e+01]], grad_fn=<MulBackward0>)\n",
      "tensor([[1.8192e+00, 7.3680e-01],\n",
      "        [3.1923e+00, 2.1943e+01],\n",
      "        [3.6756e+00, 8.0622e+01],\n",
      "        [8.5214e-01, 7.2008e+00],\n",
      "        [2.5120e-02, 8.0725e+01]], grad_fn=<MulBackward0>)\n",
      "tensor([[1.8183e+00, 7.3575e-01],\n",
      "        [3.1889e+00, 2.1905e+01],\n",
      "        [3.6652e+00, 8.0478e+01],\n",
      "        [8.5614e-01, 7.1839e+00],\n",
      "        [2.5004e-02, 8.0568e+01]], grad_fn=<MulBackward0>)\n",
      "tensor([[1.8173e+00, 7.3469e-01],\n",
      "        [3.1856e+00, 2.1868e+01],\n",
      "        [3.6548e+00, 8.0333e+01],\n",
      "        [8.6012e-01, 7.1670e+00],\n",
      "        [2.4886e-02, 8.0411e+01]], grad_fn=<MulBackward0>)\n",
      "tensor([[1.8164e+00, 7.3360e-01],\n",
      "        [3.1822e+00, 2.1831e+01],\n",
      "        [3.6445e+00, 8.0189e+01],\n",
      "        [8.6408e-01, 7.1502e+00],\n",
      "        [2.4766e-02, 8.0255e+01]], grad_fn=<MulBackward0>)\n",
      "tensor([[1.8154e+00, 7.3256e-01],\n",
      "        [3.1789e+00, 2.1794e+01],\n",
      "        [3.6343e+00, 8.0046e+01],\n",
      "        [8.6802e-01, 7.1335e+00],\n",
      "        [2.4646e-02, 8.0099e+01]], grad_fn=<MulBackward0>)\n",
      "tensor([[1.8145e+00, 7.3151e-01],\n",
      "        [3.1756e+00, 2.1757e+01],\n",
      "        [3.6241e+00, 7.9902e+01],\n",
      "        [8.7195e-01, 7.1168e+00],\n",
      "        [2.4521e-02, 7.9943e+01]], grad_fn=<MulBackward0>)\n",
      "tensor([[1.8135e+00, 7.3048e-01],\n",
      "        [3.1723e+00, 2.1720e+01],\n",
      "        [3.6139e+00, 7.9759e+01],\n",
      "        [8.7585e-01, 7.1002e+00],\n",
      "        [2.4397e-02, 7.9787e+01]], grad_fn=<MulBackward0>)\n",
      "tensor([[1.8126e+00, 7.2944e-01],\n",
      "        [3.1690e+00, 2.1684e+01],\n",
      "        [3.6039e+00, 7.9616e+01],\n",
      "        [8.7974e-01, 7.0836e+00],\n",
      "        [2.4278e-02, 7.9632e+01]], grad_fn=<MulBackward0>)\n",
      "tensor([[1.8117e+00, 7.2840e-01],\n",
      "        [3.1658e+00, 2.1647e+01],\n",
      "        [3.5938e+00, 7.9474e+01],\n",
      "        [8.8359e-01, 7.0671e+00],\n",
      "        [2.4155e-02, 7.9477e+01]], grad_fn=<MulBackward0>)\n",
      "tensor([[1.8108e+00, 7.2737e-01],\n",
      "        [3.1625e+00, 2.1610e+01],\n",
      "        [3.5838e+00, 7.9331e+01],\n",
      "        [8.8744e-01, 7.0507e+00],\n",
      "        [2.4027e-02, 7.9322e+01]], grad_fn=<MulBackward0>)\n",
      "tensor([[1.8099e+00, 7.2633e-01],\n",
      "        [3.1592e+00, 2.1573e+01],\n",
      "        [3.5739e+00, 7.9189e+01],\n",
      "        [8.9127e-01, 7.0343e+00],\n",
      "        [2.3897e-02, 7.9168e+01]], grad_fn=<MulBackward0>)\n",
      "tensor([[1.8090e+00, 7.2530e-01],\n",
      "        [3.1560e+00, 2.1537e+01],\n",
      "        [3.5641e+00, 7.9046e+01],\n",
      "        [8.9507e-01, 7.0179e+00],\n",
      "        [2.3772e-02, 7.9014e+01]], grad_fn=<MulBackward0>)\n",
      "tensor([[1.8081e+00, 7.2428e-01],\n",
      "        [3.1527e+00, 2.1500e+01],\n",
      "        [3.5542e+00, 7.8905e+01],\n",
      "        [8.9887e-01, 7.0017e+00],\n",
      "        [2.3643e-02, 7.8860e+01]], grad_fn=<MulBackward0>)\n",
      "tensor([[1.8072e+00, 7.2322e-01],\n",
      "        [3.1495e+00, 2.1464e+01],\n",
      "        [3.5445e+00, 7.8763e+01],\n",
      "        [9.0263e-01, 6.9854e+00],\n",
      "        [2.3514e-02, 7.8707e+01]], grad_fn=<MulBackward0>)\n",
      "tensor([[1.8063e+00, 7.2220e-01],\n",
      "        [3.1463e+00, 2.1427e+01],\n",
      "        [3.5348e+00, 7.8621e+01],\n",
      "        [9.0638e-01, 6.9692e+00],\n",
      "        [2.3386e-02, 7.8554e+01]], grad_fn=<MulBackward0>)\n",
      "tensor([[1.8054e+00, 7.2119e-01],\n",
      "        [3.1431e+00, 2.1391e+01],\n",
      "        [3.5251e+00, 7.8480e+01],\n",
      "        [9.1011e-01, 6.9531e+00],\n",
      "        [2.3250e-02, 7.8402e+01]], grad_fn=<MulBackward0>)\n",
      "tensor([[1.8045e+00, 7.2018e-01],\n",
      "        [3.1399e+00, 2.1355e+01],\n",
      "        [3.5155e+00, 7.8339e+01],\n",
      "        [9.1382e-01, 6.9370e+00],\n",
      "        [2.3120e-02, 7.8249e+01]], grad_fn=<MulBackward0>)\n",
      "tensor([[1.8037e+00, 7.1917e-01],\n",
      "        [3.1368e+00, 2.1318e+01],\n",
      "        [3.5058e+00, 7.8198e+01],\n",
      "        [9.1749e-01, 6.9210e+00],\n",
      "        [2.2991e-02, 7.8097e+01]], grad_fn=<MulBackward0>)\n",
      "tensor([[1.8028e+00, 7.1816e-01],\n",
      "        [3.1336e+00, 2.1282e+01],\n",
      "        [3.4963e+00, 7.8058e+01],\n",
      "        [9.2117e-01, 6.9051e+00],\n",
      "        [2.2854e-02, 7.7945e+01]], grad_fn=<MulBackward0>)\n",
      "tensor([[1.8020e+00, 7.1715e-01],\n",
      "        [3.1304e+00, 2.1246e+01],\n",
      "        [3.4869e+00, 7.7917e+01],\n",
      "        [9.2482e-01, 6.8892e+00],\n",
      "        [2.2723e-02, 7.7794e+01]], grad_fn=<MulBackward0>)\n",
      "tensor([[1.8012e+00, 7.1613e-01],\n",
      "        [3.1273e+00, 2.1210e+01],\n",
      "        [3.4774e+00, 7.7777e+01],\n",
      "        [9.2844e-01, 6.8733e+00],\n",
      "        [2.2585e-02, 7.7643e+01]], grad_fn=<MulBackward0>)\n",
      "tensor([[1.8003e+00, 7.1514e-01],\n",
      "        [3.1241e+00, 2.1174e+01],\n",
      "        [3.4681e+00, 7.7638e+01],\n",
      "        [9.3205e-01, 6.8575e+00],\n",
      "        [2.2450e-02, 7.7492e+01]], grad_fn=<MulBackward0>)\n",
      "tensor([[1.7995e+00, 7.1413e-01],\n",
      "        [3.1210e+00, 2.1138e+01],\n",
      "        [3.4587e+00, 7.7498e+01],\n",
      "        [9.3564e-01, 6.8417e+00],\n",
      "        [2.2313e-02, 7.7342e+01]], grad_fn=<MulBackward0>)\n",
      "tensor([[1.7987e+00, 7.1312e-01],\n",
      "        [3.1179e+00, 2.1102e+01],\n",
      "        [3.4495e+00, 7.7358e+01],\n",
      "        [9.3922e-01, 6.8260e+00],\n",
      "        [2.2177e-02, 7.7192e+01]], grad_fn=<MulBackward0>)\n",
      "tensor([[1.7978e+00, 7.1213e-01],\n",
      "        [3.1148e+00, 2.1067e+01],\n",
      "        [3.4402e+00, 7.7219e+01],\n",
      "        [9.4278e-01, 6.8104e+00],\n",
      "        [2.2036e-02, 7.7042e+01]], grad_fn=<MulBackward0>)\n",
      "tensor([[1.7970e+00, 7.1115e-01],\n",
      "        [3.1116e+00, 2.1031e+01],\n",
      "        [3.4310e+00, 7.7080e+01],\n",
      "        [9.4629e-01, 6.7948e+00],\n",
      "        [2.1900e-02, 7.6892e+01]], grad_fn=<MulBackward0>)\n"
     ]
    }
   ],
   "source": [
    "# Train for 100 epochs\n",
    "for i in range(300):\n",
    "    preds = model(inputs)\n",
    "    loss = mse(preds, targets)\n",
    "    loss.backward()\n",
    "    with torch.no_grad():\n",
    "        w -= w.grad * 1e-5\n",
    "        b -= b.grad * 1e-5\n",
    "        w.grad.zero_()\n",
    "        b.grad.zero_()"
   ]
  },
  {
   "cell_type": "code",
   "execution_count": 227,
   "metadata": {},
   "outputs": [
    {
     "data": {
      "text/plain": [
       "tensor(19.1816, grad_fn=<DivBackward0>)"
      ]
     },
     "execution_count": 227,
     "metadata": {},
     "output_type": "execute_result"
    }
   ],
   "source": [
    "loss\n"
   ]
  },
  {
   "cell_type": "code",
   "execution_count": 228,
   "metadata": {},
   "outputs": [
    {
     "data": {
      "text/plain": [
       "tensor([[ 57.3405,  70.8433],\n",
       "        [ 82.7640,  96.4141],\n",
       "        [117.1477, 141.7795],\n",
       "        [ 21.0272,  39.6067],\n",
       "        [103.1480, 110.2312]], grad_fn=<AddBackward0>)"
      ]
     },
     "execution_count": 228,
     "metadata": {},
     "output_type": "execute_result"
    }
   ],
   "source": [
    "preds"
   ]
  },
  {
   "cell_type": "code",
   "execution_count": 229,
   "metadata": {},
   "outputs": [
    {
     "data": {
      "text/plain": [
       "tensor([[ 56.,  70.],\n",
       "        [ 81., 101.],\n",
       "        [119., 133.],\n",
       "        [ 22.,  37.],\n",
       "        [103., 119.]])"
      ]
     },
     "execution_count": 229,
     "metadata": {},
     "output_type": "execute_result"
    }
   ],
   "source": [
    "targets"
   ]
  },
  {
   "cell_type": "code",
   "execution_count": null,
   "metadata": {},
   "outputs": [],
   "source": []
  }
 ],
 "metadata": {
  "kernelspec": {
   "display_name": "Python 3",
   "language": "python",
   "name": "python3"
  },
  "language_info": {
   "codemirror_mode": {
    "name": "ipython",
    "version": 3
   },
   "file_extension": ".py",
   "mimetype": "text/x-python",
   "name": "python",
   "nbconvert_exporter": "python",
   "pygments_lexer": "ipython3",
   "version": "3.7.3"
  }
 },
 "nbformat": 4,
 "nbformat_minor": 2
}
