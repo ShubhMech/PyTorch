{
 "cells": [
  {
   "cell_type": "markdown",
   "id": "tracked-telescope",
   "metadata": {},
   "source": [
    "# The StatQuest Introduction to PyTorch!!!\n",
    "## Sponsored by...\n",
    "[<img src=\"./images/PytorchLightningLogo@4x.png\" alt=\"Lightning\" style=\"width: 400px;\">](https://www.pytorchlightning.ai/)\n",
    "&nbsp;&nbsp;&nbsp;&nbsp; <img src=\"./images/VerticalRule@4x.png\" style=\"height: 100px;\"> &nbsp;&nbsp;&nbsp;&nbsp;\n",
    "[<img src=\"./images/Grid_Logo@4x.png\" alt=\"Grid\" style=\"width: 400px;\">](https://www.grid.ai/)\n",
    "\n",
    "Copyright 2022, Joshua Starmer"
   ]
  },
  {
   "cell_type": "markdown",
   "id": "corrected-narrow",
   "metadata": {},
   "source": [
    "----\n",
    "**NOTE:** This tutorial is from StatQuest's **[A Gentle Introduction to PyTorch]()**.\n",
    "\n",
    "In this tutorial, we will use **[PyTorch](https://pytorch.org/)** to create, draw the output from, and optimize the super simple **neural network** featured in  StatQuest's **[Neural Networks Part 3: ReLU in Action!!!](https://youtu.be/68BZ5f7P94E)** This simple neural network, seen below, predicts whether or not a drug dose will be effective.\n",
    "<!-- <img src=\"./xgboost_tree.png\" alt=\"An XGBoost Tree\" style=\"width: 600px;\"> -->\n",
    "<img src=\"./images/simple_relu.001.png\" alt=\"A simple Neural Network\" style=\"width: 1620px;\">\n",
    "\n",
    "The training data (below) that the neural network is fit to consist of three data points for three different drug doses. Low (**0**) and high (**1**) doses do not cure a disease, so their y-axis values are both **0**. However, when the dose is **0.5**, that dose can cure the disease, and the corresponding y-axis value is **1**.\n",
    "\n",
    "<img src=\"./images/training_data_500x275.png\" alt=\"A simple Neural Network\" style=\"width: 250px;\">\n",
    "\n",
    "Below, we see the output of the neural network for different doses, and it fits the training data well!\n",
    "\n",
    "<img src=\"./images/training_data_with_bent_shape_500x275.png\" alt=\"A simple Neural Network\" style=\"width: 250px;\">\n",
    "\n",
    "\n",
    "In this tutorial, you will...\n",
    "\n",
    "- **[Build a Simple Neural Network in PyTorch](#build)**\n",
    "\n",
    "- **[Use the Neural Network and Graph the Output](#using)**\n",
    "\n",
    "- **[Optimize (Train) a Parameter in the Neural Network and Graph the Output](#train)**\n",
    "\n",
    "#### NOTE:\n",
    "This tutorial assumes that you already know the basics of coding in **Python** and are familiar with the theory behind **[Neural Networks](https://youtu.be/CqOfi41LfDw)**, **[Backpropagation](https://youtu.be/IN2XmBhILt4)**, the **[ReLU Activation Function](https://youtu.be/68BZ5f7P94E)**, **[Gradient Descent](https://youtu.be/sDv4f4s2SB8)**, and **[Stochastic Gradient Descent](https://youtu.be/vMh0zPT0tLI)**. If not, check out the **'Quests** by clicking on the links for each topic.\n",
    "\n",
    "#### ALSO NOTE:\n",
    "I strongly encourage you to play around with the code. Playing with the code is the best way to learn from it."
   ]
  },
  {
   "cell_type": "markdown",
   "id": "identical-statement",
   "metadata": {},
   "source": [
    "-----"
   ]
  },
  {
   "cell_type": "markdown",
   "id": "nervous-maldives",
   "metadata": {},
   "source": [
    "# Import the modules that will do all the work\n",
    "The very first thing we need to do is load a bunch of Python modules. Python itself is just a basic programming language. These modules give us extra functionality to create a neural network, use and graph the output for various input values, and optimize the neural network's parameters.\n",
    "\n",
    "**NOTE:** You will need **Python 3** and have at least these versions for each of the following modules: \n",
    "- pytorch >= 1.10.1\n",
    "- matplotlib >= 3.3.4\n",
    "- seaborn >= 0.11.0 \n",
    "\n",
    "### If you installed **Python 3** with [Anaconda](https://www.anaconda.com/)...\n",
    "...then you can check which versions of each package you have with the command: `conda list`. If, for example, your version of `matplotlib` is older than **3.3.4**, then the easiest thing to do is just update all of your Anaconda packages with the following command: `conda update --all`. However, if you only want to update `matplotlib`, then you can run this command: `conda install matplotlib=3.3.4`.\n",
    "\n",
    "### If you need to install **PyTorch**...\n",
    "...then the easiest thing to do is follow the instructions on the [PyTorch website](https://pytorch.org/get-started/locally/).\n",
    "\n",
    "### If you need to install **seaborn**...\n",
    "...then the easiest thing to do is follow the instructions on the [seaborn website](https://seaborn.pydata.org/installing.html)."
   ]
  },
  {
   "cell_type": "code",
   "execution_count": null,
   "id": "unavailable-antigua",
   "metadata": {},
   "outputs": [],
   "source": [
    "## NOTE: Even though we use the PyTorch module, we import it with the name 'torch', which was the original name.\n",
    "import torch # torch provides basic functions, from setting a random seed (for reproducability) to creating tensors.\n",
    "import torch.nn as nn # torch.nn allows us to create a neural network.\n",
    "import torch.nn.functional as F # nn.functional give us access to the activation and loss functions.\n",
    "from torch.optim import SGD # optim contains many optimizers. Here, we're using SGD, stochastic gradient descent.\n",
    "\n",
    "import matplotlib.pyplot as plt ## matplotlib allows us to draw graphs.\n",
    "import seaborn as sns ## seaborn makes it easier to draw nice-looking graphs."
   ]
  },
  {
   "cell_type": "markdown",
   "id": "international-blame",
   "metadata": {},
   "source": [
    "-----"
   ]
  },
  {
   "cell_type": "markdown",
   "id": "attached-snowboard",
   "metadata": {},
   "source": [
    "<a id=\"build\"></a>\n",
    "# Build a Simple Neural Network in PyTorch\n",
    "\n",
    "Building a neural network in **PyTorch** means creating a new class with two methods: `__init__()` and `forward()`. The `__init__()` method defines and initializes all of the parameters that we want to use, and the `forward()` method tells **PyTorch** what should happen during a forward pass through the neural network."
   ]
  },
  {
   "cell_type": "code",
   "execution_count": null,
   "id": "greenhouse-scratch",
   "metadata": {},
   "outputs": [],
   "source": [
    "## create a neural network class by creating a class that inherits from nn.Module.\n",
    "class BasicNN(nn.Module):\n",
    "\n",
    "    def __init__(self): # __init__() is the class constructor function, and we use it to initialize the weights and biases.\n",
    "        \n",
    "        super().__init__() # initialize an instance of the parent class, nn.Model.\n",
    "        \n",
    "        ## Now create the weights and biases that we need for our neural network.\n",
    "        ## Each weight or bias is an nn.Parameter, which gives us the option to optimize the parameter by setting\n",
    "        ## requires_grad, which is short for \"requires gradient\", to True. Since we don't need to optimize any of these\n",
    "        ## parameters now, we set requires_grad=False.\n",
    "        ##\n",
    "        ## NOTE: Because our neural network is already fit to the data, we will input specific values\n",
    "        ## for each weight and bias. In contrast, if we had not already fit the neural network to the data,\n",
    "        ## we might start with a random initalization of the weights and biases.\n",
    "        self.w00 = nn.Parameter(torch.tensor(1.7), requires_grad=False)\n",
    "        self.b00 = nn.Parameter(torch.tensor(-0.85), requires_grad=False)\n",
    "        self.w01 = nn.Parameter(torch.tensor(-40.8), requires_grad=False)\n",
    "        \n",
    "        self.w10 = nn.Parameter(torch.tensor(12.6), requires_grad=False)\n",
    "        self.b10 = nn.Parameter(torch.tensor(0.0), requires_grad=False)\n",
    "        self.w11 = nn.Parameter(torch.tensor(2.7), requires_grad=False)\n",
    "\n",
    "        self.final_bias = nn.Parameter(torch.tensor(-16.), requires_grad=False)\n",
    "        \n",
    "        \n",
    "    def forward(self, input): ## forward() takes an input value and runs it though the neural network \n",
    "                              ## illustrated at the top of this notebook. \n",
    "        \n",
    "        ## the next three lines implement the top of the neural network (using the top node in the hidden layer).\n",
    "        input_to_top_relu = input * self.w00 + self.b00\n",
    "        top_relu_output = F.relu(input_to_top_relu)\n",
    "        scaled_top_relu_output = top_relu_output * self.w01\n",
    "        \n",
    "        ## the next three lines implement the bottom of the neural network (using the bottom node in the hidden layer).\n",
    "        input_to_bottom_relu = input * self.w10 + self.b10\n",
    "        bottom_relu_output = F.relu(input_to_bottom_relu)\n",
    "        scaled_bottom_relu_output = bottom_relu_output * self.w11\n",
    "        \n",
    "        ## here, we combine both the top and bottom nodes from the hidden layer with the final bias.\n",
    "        input_to_final_relu = scaled_top_relu_output + scaled_bottom_relu_output + self.final_bias\n",
    "        \n",
    "        output = F.relu(input_to_final_relu)\n",
    "    \n",
    "        return output # output is the predicted effectiveness for a drug dose."
   ]
  },
  {
   "cell_type": "markdown",
   "id": "bigger-patrick",
   "metadata": {},
   "source": [
    "Once we have created the class that defines the neural network, we can create an actual neural network and print out its parameters, just to make sure things are what we expect."
   ]
  },
  {
   "cell_type": "code",
   "execution_count": null,
   "id": "described-needle",
   "metadata": {},
   "outputs": [],
   "source": [
    "## create the neural network. \n",
    "model = BasicNN()\n",
    "\n",
    "## print out the name and value for each parameter\n",
    "for name, param in model.named_parameters():\n",
    "    print(name, param.data)"
   ]
  },
  {
   "cell_type": "markdown",
   "id": "acoustic-norman",
   "metadata": {},
   "source": [
    "## BAM!!!\n",
    "The values for each weight and bias in `BasicNN` match the values we see in the optimized neural network (below).\n",
    "<img src=\"./images/simple_relu.001.png\" alt=\"A simple Neural Network\" style=\"width: 810px;\">"
   ]
  },
  {
   "cell_type": "markdown",
   "id": "treated-outreach",
   "metadata": {},
   "source": [
    "-----"
   ]
  },
  {
   "cell_type": "markdown",
   "id": "powerful-cabin",
   "metadata": {},
   "source": [
    "<a id=\"using\"></a>\n",
    "# Use the Neural Network and Graph the Output\n",
    "\n",
    "Now that we have a neural network, we can use it on a variety of doses to determine which will be effective. Then we can make a graph of these data, and this graph should match the green bent shape fit to the training data that's shown at the top of this document. So, let's start by making a sequence of input doses..."
   ]
  },
  {
   "cell_type": "code",
   "execution_count": null,
   "id": "passing-parts",
   "metadata": {},
   "outputs": [],
   "source": [
    "## now create the different doses we want to run through the neural network.\n",
    "## torch.linspace() creates the sequence of numbers between, and including, 0 and 1.\n",
    "input_doses = torch.linspace(start=0, end=1, steps=11)\n",
    "\n",
    "# now print out the doses to make sure they are what we expect...\n",
    "input_doses"
   ]
  },
  {
   "cell_type": "markdown",
   "id": "eleven-writing",
   "metadata": {},
   "source": [
    "Now that we have `input_doses`, let's run them through the neural network and graph the output..."
   ]
  },
  {
   "cell_type": "code",
   "execution_count": null,
   "id": "engaging-fraction",
   "metadata": {},
   "outputs": [],
   "source": [
    "## create the neural network. \n",
    "model = BasicNN() \n",
    "\n",
    "## now run the different doses through the neural network.\n",
    "output_values = model(input_doses)\n",
    "\n",
    "## Now draw a graph that shows the effectiveness for each dose.\n",
    "##\n",
    "## First, set the style for seaborn so that the graph looks cool.\n",
    "sns.set(style=\"whitegrid\")\n",
    "\n",
    "## create the graph (you might not see it at this point, but you will after we save it as a PDF).\n",
    "sns.lineplot(x=input_doses, \n",
    "             y=output_values, \n",
    "             color='green', \n",
    "             linewidth=2.5)\n",
    "\n",
    "## now label the y- and x-axes.\n",
    "plt.ylabel('Effectiveness')\n",
    "plt.xlabel('Dose')\n",
    "\n",
    "## optionally, save the graph as a PDF.\n",
    "# plt.savefig('BasicNN.pdf')"
   ]
  },
  {
   "cell_type": "markdown",
   "id": "alleged-arthur",
   "metadata": {},
   "source": [
    "The graph shows that the neural network fits the training data. In other words, so far, we don't have any bugs in our code.\n",
    "# Double BAM!!!"
   ]
  },
  {
   "cell_type": "markdown",
   "id": "encouraging-rocket",
   "metadata": {},
   "source": [
    "-----"
   ]
  },
  {
   "cell_type": "markdown",
   "id": "wrapped-tension",
   "metadata": {},
   "source": [
    "<a id=\"train\"></a>\n",
    "# Optimize (Train) a Parameter in the Neural Network and Graph the Output\n",
    "\n",
    "Now that we know how to create and use a simple neural network, and we can graph the output relative to the input, let's see how to train a neural network. The first thing we need to do is tell **PyTorch** which parameter (or parameters) we want to train, and we do that by setting `requires_grad=True`. In this example, we'll train `final_bias`."
   ]
  },
  {
   "cell_type": "code",
   "execution_count": null,
   "id": "academic-little",
   "metadata": {},
   "outputs": [],
   "source": [
    "## create a neural network by creating a class that inherits from nn.Module.\n",
    "## NOTE: This code is the same as before, except we changed the class name to BasicNN_train and we modified \n",
    "##       final_bias in two ways:\n",
    "##       1) we set the value of the tensor to 0, and\n",
    "##       2) we set \"requires_grad=True\".\n",
    "class BasicNN_train(nn.Module):\n",
    "\n",
    "    def __init__(self): # __init__ is the class constructor function, and we use it to initialize the weights and biases.\n",
    "        \n",
    "        super().__init__() # initialize an instance of the parent class, nn.Module.\n",
    "        \n",
    "        self.w00 = nn.Parameter(torch.tensor(1.7), requires_grad=False)\n",
    "        self.b00 = nn.Parameter(torch.tensor(-0.85), requires_grad=False)\n",
    "        self.w01 = nn.Parameter(torch.tensor(-40.8), requires_grad=False)\n",
    "        \n",
    "        self.w10 = nn.Parameter(torch.tensor(12.6), requires_grad=False)\n",
    "        self.b10 = nn.Parameter(torch.tensor(0.0), requires_grad=False)\n",
    "        self.w11 = nn.Parameter(torch.tensor(2.7), requires_grad=False)\n",
    "\n",
    "        ## we want to modify final_bias to demonstrate how to optimize it with backpropagation.\n",
    "        ## The optimal value for final_bias is -16...\n",
    "#         self.final_bias = nn.Parameter(torch.tensor(-16.), requires_grad=False)\n",
    "        ## ...so we set it to 0 and tell Pytorch that it now needs to calculate the gradient for this parameter.\n",
    "        self.final_bias = nn.Parameter(torch.tensor(0.), requires_grad=True) \n",
    "        \n",
    "    def forward(self, input):\n",
    "        \n",
    "        input_to_top_relu = input * self.w00 + self.b00\n",
    "        top_relu_output = F.relu(input_to_top_relu)\n",
    "        scaled_top_relu_output = top_relu_output * self.w01\n",
    "        \n",
    "        input_to_bottom_relu = input * self.w10 + self.b10\n",
    "        bottom_relu_output = F.relu(input_to_bottom_relu)\n",
    "        scaled_bottom_relu_output = bottom_relu_output * self.w11\n",
    "    \n",
    "        input_to_final_relu = scaled_top_relu_output + scaled_bottom_relu_output + self.final_bias\n",
    "        \n",
    "        output = F.relu(input_to_final_relu)\n",
    "        \n",
    "        return output"
   ]
  },
  {
   "cell_type": "markdown",
   "id": "blank-prime",
   "metadata": {},
   "source": [
    "Now let's graph the output of `BasicNN_train`, which is currently not optimized, and compare it to the graph we drew earlier of the optimized neural network."
   ]
  },
  {
   "cell_type": "code",
   "execution_count": null,
   "id": "dying-sandwich",
   "metadata": {},
   "outputs": [],
   "source": [
    "## create the neural network. \n",
    "model = BasicNN_train() \n",
    "\n",
    "## now run the different doses through the neural network.\n",
    "output_values = model(input_doses)\n",
    "\n",
    "## Now draw a graph that shows the effectiveness for each dose.\n",
    "##\n",
    "## set the style for seaborn so that the graph looks cool.\n",
    "sns.set(style=\"whitegrid\")\n",
    "\n",
    "## create the graph (you might not see it at this point, but you will after we save it as a PDF).\n",
    "sns.lineplot(x=input_doses, \n",
    "             y=output_values.detach(), ## NOTE: because final_bias has a gradident, we call detach() \n",
    "                                       ## to return a new tensor that only has the value and not the gradient.\n",
    "             color='green', \n",
    "             linewidth=2.5)\n",
    "\n",
    "## now label the y- and x-axes.\n",
    "plt.ylabel('Effectiveness')\n",
    "plt.xlabel('Dose')\n",
    "\n",
    "## lastly, save the graph as a PDF.\n",
    "# plt.savefig('BasicNN_train.pdf')"
   ]
  },
  {
   "cell_type": "markdown",
   "id": "willing-wells",
   "metadata": {},
   "source": [
    "The graph shows that when the dose is **0.5**, the output from the unoptimized neural network is **17**, which is wrong, since the output value should be **1**. So, now that we have a parameter we can optimize, let's create some training data that we can use to optimize it."
   ]
  },
  {
   "cell_type": "code",
   "execution_count": null,
   "id": "apparent-nebraska",
   "metadata": {},
   "outputs": [],
   "source": [
    "## create the training data for the neural network.\n",
    "inputs = torch.tensor([0., 0.5, 1.])\n",
    "labels = torch.tensor([0., 1., 0.])"
   ]
  },
  {
   "cell_type": "markdown",
   "id": "strange-petite",
   "metadata": {},
   "source": [
    "...and now let's use that training data to train (or optimize) `final_bias`."
   ]
  },
  {
   "cell_type": "code",
   "execution_count": null,
   "id": "boolean-contract",
   "metadata": {},
   "outputs": [],
   "source": [
    "## create the neural network we want to train.\n",
    "model = BasicNN_train()\n",
    "\n",
    "optimizer = SGD(model.parameters(), lr=0.1) ## here we're creating an optimizer to train the neural network.\n",
    "                                            ## NOTE: There are a bunch of different ways to optimize a neural network.\n",
    "                                            ## In this example, we'll use Stochastic Gradient Descent (SGD). However,\n",
    "                                            ## another popular algortihm is Adam (which will be covered in a StatQuest).\n",
    "\n",
    "print(\"Final bias, before optimization: \" + str(model.final_bias.data) + \"\\n\")\n",
    "\n",
    "## this is the optimization loop. Each time the optimizer sees all of the training data is called an \"epoch\".\n",
    "for epoch in range(100):\n",
    "        \n",
    "    ## we create and initialize total_loss for each epoch so that we can evaluate how well model fits the\n",
    "    ## training data. At first, when the model doesn't fit the training data very well, total_loss\n",
    "    ## will be large. However, as gradient descent improves the fit, total_loss will get smaller and smaller.\n",
    "    ## If total_loss gets really small, we can decide that the model fits the data well enough and stop\n",
    "    ## optimizing the fit. Otherwise, we can just keep optimizing until we reach the maximum number of epochs. \n",
    "    total_loss = 0\n",
    "    \n",
    "    ## this internal loop is where the optimizer sees all of the training data and where we \n",
    "    ## calculate the total_loss for all of the training data.\n",
    "    for iteration in range(len(inputs)):\n",
    "        \n",
    "        input_i = inputs[iteration] ## extract a single input value (a single dose)...\n",
    "        label_i = labels[iteration] ## ...and its corresponding label (the effectiveness for the dose).\n",
    "        \n",
    "        output_i = model(input_i) ## calculate the neural network output for the input (the single dose).\n",
    "        \n",
    "        loss = (output_i - label_i)**2 ## calculate the loss for the single value.\n",
    "                                       ## NOTE: Because output_i = model(input_i), \"loss\" has a connection to \"model\"\n",
    "                                       ## and the derivative (calculated in the next step) is kept and accumulated\n",
    "                                       ## in \"model\".\n",
    "        \n",
    "        loss.backward() # backward() calculates the derivative for that single value and adds it to the previous one.\n",
    "        \n",
    "        total_loss += float(loss) # accumulate the total loss for this epoch.\n",
    "        \n",
    "        \n",
    "    if (total_loss < 0.0001):\n",
    "        print(\"Num steps: \" + str(epoch))\n",
    "        break\n",
    "      \n",
    "    optimizer.step() ## take a step toward the optimal value.\n",
    "    optimizer.zero_grad() ## This zeroes out the gradient stored in \"model\". \n",
    "                          ## Remember, by default, gradients are added to the previous step (the gradients are accumulated),\n",
    "                          ## and we took advantage of this process to calculate the derivative one data point at a time.\n",
    "                          ## NOTE: \"optimizer\" has access to \"model\" because of how it was created with the call \n",
    "                          ## (made earlier): optimizer = SGD(model.parameters(), lr=0.1).\n",
    "                          ## ALSO NOTE: Alternatively, we can zero out the gradient with model.zero_grad().\n",
    "    \n",
    "    print(\"Step: \" + str(epoch) + \" Final Bias: \" + str(model.final_bias.data) + \"\\n\")\n",
    "    ## now go back to the start of the loop and go through another epoch.\n",
    "\n",
    "print(\"Total loss: \" + str(total_loss))\n",
    "print(\"Final bias, after optimization: \" + str(model.final_bias.data))"
   ]
  },
  {
   "cell_type": "markdown",
   "id": "hawaiian-athletics",
   "metadata": {},
   "source": [
    "So, if everything worked correctly, the optimizer should have converged on `final_bias = 16.0019` after **34** steps, or epochs. **BAM!**\n",
    "\n",
    "Lastly, let's graph the output from the optimized neural network and see if it's the same as what we started with. If so, then the optimization worked."
   ]
  },
  {
   "cell_type": "code",
   "execution_count": null,
   "id": "optional-integral",
   "metadata": {},
   "outputs": [],
   "source": [
    "## run the different doses through the neural network\n",
    "output_values = model(input_doses)\n",
    "\n",
    "## set the style for seaborn so that the graph looks cool.\n",
    "sns.set(style=\"whitegrid\")\n",
    "\n",
    "## create the graph (you might not see it at this point, but you will after we save it as a PDF).\n",
    "sns.lineplot(x=input_doses, \n",
    "             y=output_values.detach(), ## NOTE: we call detach() because final_bias has a gradient\n",
    "             color='green', \n",
    "             linewidth=2.5)\n",
    "\n",
    "## now label the y- and x-axes.\n",
    "plt.ylabel('Effectiveness')\n",
    "plt.xlabel('Dose')\n",
    "\n",
    "## lastly, save the graph as a PDF.\n",
    "# plt.savefig('BascNN_optimized.pdf')"
   ]
  },
  {
   "cell_type": "markdown",
   "id": "conditional-engagement",
   "metadata": {},
   "source": [
    "And we see that the optimized model results in the same graph that we started with, so the optimization worked as expected."
   ]
  },
  {
   "cell_type": "markdown",
   "id": "scheduled-ministry",
   "metadata": {},
   "source": [
    "# Triple BAM!!!"
   ]
  }
 ],
 "metadata": {
  "kernelspec": {
   "display_name": "Python 3",
   "language": "python",
   "name": "python3"
  },
  "language_info": {
   "codemirror_mode": {
    "name": "ipython",
    "version": 3
   },
   "file_extension": ".py",
   "mimetype": "text/x-python",
   "name": "python",
   "nbconvert_exporter": "python",
   "pygments_lexer": "ipython3",
   "version": "3.7.6"
  }
 },
 "nbformat": 4,
 "nbformat_minor": 5
}
