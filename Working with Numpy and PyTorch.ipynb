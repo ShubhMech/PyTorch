{
 "cells": [
  {
   "cell_type": "code",
   "execution_count": null,
   "id": "6747b96d-6923-4b14-a9b0-66c72dc72c33",
   "metadata": {},
   "outputs": [],
   "source": [
    "# Number\n",
    "t1 = torch.tensor(4.)\n",
    "t1\n",
    "# Vector\n",
    "t2 = torch.tensor([1., 2, 3, 4])\n",
    "t2\n",
    "# Matrix\n",
    "t3 = torch.tensor([[5., 6], \n",
    "                   [7, 8], \n",
    "                   [9, 10]])\n",
    "t3\n",
    "print(t1)\n",
    "t1.shape\n",
    "print(t2)\n",
    "t2.shape\n",
    "\n",
    "# Matrix\n",
    "t5 = torch.tensor([[5., 6, 11], \n",
    "                   [7, 8], \n",
    "                   [9, 10]])\n",
    "t5\n",
    "\n",
    "# Arithmetic operations\n",
    "y = w * x + b\n",
    "y\n",
    "\n",
    "# Compute derivatives\n",
    "print(y.backward())\n",
    "\n",
    "# Display gradients\n",
    "print('dy/dx:', x.grad)\n",
    "print('dy/dw:', w.grad)\n",
    "print('dy/db:', b.grad)\n",
    "\n",
    "# Create a tensor with a fixed value for every element\n",
    "t6 = torch.full((3, 2), 42)\n",
    "t6\n",
    "\n",
    "# Concatenate two tensors with compatible shapes\n",
    "t7 = torch.cat((t3, t6))\n",
    "t7\n",
    "\n",
    "# Compute the sin of each element\n",
    "t8 = torch.sin(t7)\n",
    "t8\n",
    "# Change the shape of a tensor\n",
    "t9 = t8.reshape(3, 2, 2)\n",
    "t9"
   ]
  },
  {
   "cell_type": "code",
   "execution_count": null,
   "id": "79ba5a09-da90-43a0-8ba5-2c70f090dc37",
   "metadata": {},
   "outputs": [],
   "source": [
    "import numpy as np\n",
    "\n",
    "x = np.array([[1, 2], [3, 4.]])\n",
    "x\n",
    "\n",
    "# Convert the numpy array to a torch tensor.\n",
    "y = torch.from_numpy(x)\n",
    "y\n",
    "\n",
    "x.dtype, y.dtype\n",
    "# Convert a torch tensor to a numpy array\n",
    "z = y.numpy()\n",
    "z"
   ]
  }
 ],
 "metadata": {
  "kernelspec": {
   "display_name": "Python 3",
   "language": "python",
   "name": "python3"
  },
  "language_info": {
   "codemirror_mode": {
    "name": "ipython",
    "version": 3
   },
   "file_extension": ".py",
   "mimetype": "text/x-python",
   "name": "python",
   "nbconvert_exporter": "python",
   "pygments_lexer": "ipython3",
   "version": "3.8.5"
  }
 },
 "nbformat": 4,
 "nbformat_minor": 5
}
