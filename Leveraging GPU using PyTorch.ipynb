{
 "cells": [
  {
   "cell_type": "code",
   "execution_count": 1,
   "id": "e949e9a2-bab6-4eb4-b04d-5ce15616b74b",
   "metadata": {},
   "outputs": [],
   "source": [
    "import torch"
   ]
  },
  {
   "cell_type": "code",
   "execution_count": 6,
   "id": "3e5e614c-f5ed-45df-af2c-f040b19aedce",
   "metadata": {},
   "outputs": [],
   "source": [
    "z=torch.zeros(2,dtype=torch.int32)"
   ]
  },
  {
   "cell_type": "code",
   "execution_count": 7,
   "id": "faba1e2a-97fe-438a-9403-cb51c7eeca00",
   "metadata": {},
   "outputs": [
    {
     "data": {
      "text/plain": [
       "tensor([0, 0], dtype=torch.int32)"
      ]
     },
     "execution_count": 7,
     "metadata": {},
     "output_type": "execute_result"
    }
   ],
   "source": [
    "z"
   ]
  },
  {
   "cell_type": "code",
   "execution_count": 8,
   "id": "4cf2595d-8a13-4e9e-ad2c-864818f5375c",
   "metadata": {},
   "outputs": [],
   "source": [
    "o=torch.ones(2,3,dtype= torch.float16)"
   ]
  },
  {
   "cell_type": "code",
   "execution_count": 9,
   "id": "ab1dd0f2-02b0-4f58-a631-2d874e20cda6",
   "metadata": {},
   "outputs": [
    {
     "data": {
      "text/plain": [
       "tensor([[1., 1., 1.],\n",
       "        [1., 1., 1.]], dtype=torch.float16)"
      ]
     },
     "execution_count": 9,
     "metadata": {},
     "output_type": "execute_result"
    }
   ],
   "source": [
    "o"
   ]
  },
  {
   "cell_type": "code",
   "execution_count": 10,
   "id": "fbbc106f-71cc-45f0-a4c6-b99a3bc5c549",
   "metadata": {},
   "outputs": [],
   "source": [
    "r=torch.randn(2,2)"
   ]
  },
  {
   "cell_type": "code",
   "execution_count": 11,
   "id": "a6f8f20e-68e7-4074-b296-0eafd8ac8f17",
   "metadata": {},
   "outputs": [
    {
     "data": {
      "text/plain": [
       "tensor([[-0.0326,  0.1741],\n",
       "        [-1.2384,  1.4507]])"
      ]
     },
     "execution_count": 11,
     "metadata": {},
     "output_type": "execute_result"
    }
   ],
   "source": [
    "r"
   ]
  },
  {
   "cell_type": "code",
   "execution_count": 16,
   "id": "929137b5-b6b3-411d-80df-1e775f4077d0",
   "metadata": {},
   "outputs": [
    {
     "data": {
      "text/plain": [
       "torch.Size([2, 2])"
      ]
     },
     "execution_count": 16,
     "metadata": {},
     "output_type": "execute_result"
    }
   ],
   "source": [
    "r.shape"
   ]
  },
  {
   "cell_type": "code",
   "execution_count": 17,
   "id": "f6d47d7a-b8c3-4522-8778-63bba787a596",
   "metadata": {},
   "outputs": [
    {
     "data": {
      "text/plain": [
       "torch.Size([2, 2])"
      ]
     },
     "execution_count": 17,
     "metadata": {},
     "output_type": "execute_result"
    }
   ],
   "source": [
    "r.size()"
   ]
  },
  {
   "cell_type": "code",
   "execution_count": 20,
   "id": "b7d5aa50-788a-4e48-9105-ca1184370e4d",
   "metadata": {},
   "outputs": [],
   "source": [
    "r=r.reshape([4,1])"
   ]
  },
  {
   "cell_type": "code",
   "execution_count": 21,
   "id": "5f1099d2-2df0-4f62-b0e5-0bf4ffb68d3e",
   "metadata": {},
   "outputs": [
    {
     "data": {
      "text/plain": [
       "tensor([[-0.0326],\n",
       "        [ 0.1741],\n",
       "        [-1.2384],\n",
       "        [ 1.4507]])"
      ]
     },
     "execution_count": 21,
     "metadata": {},
     "output_type": "execute_result"
    }
   ],
   "source": [
    "r"
   ]
  },
  {
   "cell_type": "code",
   "execution_count": 22,
   "id": "909cc6cb-d290-411f-b7aa-e4b648fa0fd9",
   "metadata": {},
   "outputs": [
    {
     "data": {
      "text/plain": [
       "tensor([[-0.0652],\n",
       "        [ 0.3481],\n",
       "        [-2.4768],\n",
       "        [ 2.9014]])"
      ]
     },
     "execution_count": 22,
     "metadata": {},
     "output_type": "execute_result"
    }
   ],
   "source": [
    "torch.add(r,r)"
   ]
  },
  {
   "cell_type": "code",
   "execution_count": 23,
   "id": "491f1baf-ea16-46b0-bc6e-dd5c8dfbebb4",
   "metadata": {},
   "outputs": [
    {
     "data": {
      "text/plain": [
       "tensor([[-0.0652],\n",
       "        [ 0.3481],\n",
       "        [-2.4768],\n",
       "        [ 2.9014]])"
      ]
     },
     "execution_count": 23,
     "metadata": {},
     "output_type": "execute_result"
    }
   ],
   "source": [
    "r.add(r)"
   ]
  },
  {
   "cell_type": "code",
   "execution_count": 24,
   "id": "dc874311-851b-49f1-8da2-6ad0c22375e8",
   "metadata": {},
   "outputs": [
    {
     "data": {
      "text/plain": [
       "tensor([[-0.0326],\n",
       "        [ 0.1741],\n",
       "        [-1.2384],\n",
       "        [ 1.4507]])"
      ]
     },
     "execution_count": 24,
     "metadata": {},
     "output_type": "execute_result"
    }
   ],
   "source": [
    "r"
   ]
  },
  {
   "cell_type": "code",
   "execution_count": 25,
   "id": "d23bf047-42bb-45d1-bbea-0e9d74fc1b76",
   "metadata": {},
   "outputs": [
    {
     "data": {
      "text/plain": [
       "tensor([[-0.0652],\n",
       "        [ 0.3481],\n",
       "        [-2.4768],\n",
       "        [ 2.9014]])"
      ]
     },
     "execution_count": 25,
     "metadata": {},
     "output_type": "execute_result"
    }
   ],
   "source": [
    "r.add_(r)"
   ]
  },
  {
   "cell_type": "code",
   "execution_count": 26,
   "id": "430234d3-2aab-4caf-b207-98c1ab9fb35a",
   "metadata": {},
   "outputs": [
    {
     "data": {
      "text/plain": [
       "tensor([[-0.0652],\n",
       "        [ 0.3481],\n",
       "        [-2.4768],\n",
       "        [ 2.9014]])"
      ]
     },
     "execution_count": 26,
     "metadata": {},
     "output_type": "execute_result"
    }
   ],
   "source": [
    "r"
   ]
  },
  {
   "cell_type": "code",
   "execution_count": 27,
   "id": "a6818b80-1bee-438b-a995-7bc484d6c0ff",
   "metadata": {},
   "outputs": [
    {
     "data": {
      "text/plain": [
       "tensor([[1.],\n",
       "        [1.],\n",
       "        [1.],\n",
       "        [1.]])"
      ]
     },
     "execution_count": 27,
     "metadata": {},
     "output_type": "execute_result"
    }
   ],
   "source": [
    "r.div(r)"
   ]
  },
  {
   "cell_type": "code",
   "execution_count": 28,
   "id": "ea786d38-e9d2-436c-a38d-dbf19c6aac66",
   "metadata": {},
   "outputs": [
    {
     "data": {
      "text/plain": [
       "tensor([[1.],\n",
       "        [1.],\n",
       "        [1.],\n",
       "        [1.]])"
      ]
     },
     "execution_count": 28,
     "metadata": {},
     "output_type": "execute_result"
    }
   ],
   "source": [
    "torch.div(r,r)"
   ]
  },
  {
   "cell_type": "code",
   "execution_count": 29,
   "id": "c74ebacd-cd3a-49ae-afc4-c9bbb3b17059",
   "metadata": {},
   "outputs": [],
   "source": [
    "rnd=torch.rand(5,5)"
   ]
  },
  {
   "cell_type": "code",
   "execution_count": 30,
   "id": "905d6966-eefd-48e1-9425-d344f5f6a2cc",
   "metadata": {},
   "outputs": [
    {
     "data": {
      "text/plain": [
       "tensor(0.1276)"
      ]
     },
     "execution_count": 30,
     "metadata": {},
     "output_type": "execute_result"
    }
   ],
   "source": [
    "rnd[1,1]"
   ]
  },
  {
   "cell_type": "code",
   "execution_count": 31,
   "id": "6ecdb797-f24e-43d0-a9c6-febf4a5661b0",
   "metadata": {},
   "outputs": [
    {
     "data": {
      "text/plain": [
       "tensor([0.0884, 0.1276])"
      ]
     },
     "execution_count": 31,
     "metadata": {},
     "output_type": "execute_result"
    }
   ],
   "source": [
    "rnd[1,:2]"
   ]
  },
  {
   "cell_type": "code",
   "execution_count": 32,
   "id": "429d1ee5-bffa-4e58-8bb6-31f6f2174a39",
   "metadata": {},
   "outputs": [
    {
     "data": {
      "text/plain": [
       "tensor([0.0884, 0.1276, 0.4430, 0.3866])"
      ]
     },
     "execution_count": 32,
     "metadata": {},
     "output_type": "execute_result"
    }
   ],
   "source": [
    "rnd[1,:4]"
   ]
  },
  {
   "cell_type": "code",
   "execution_count": 33,
   "id": "2bb915bf-4c22-4831-b03d-519668ee5a0f",
   "metadata": {},
   "outputs": [
    {
     "data": {
      "text/plain": [
       "tensor([[0.8592, 0.0591],\n",
       "        [0.0884, 0.1276]])"
      ]
     },
     "execution_count": 33,
     "metadata": {},
     "output_type": "execute_result"
    }
   ],
   "source": [
    "rnd[:2,:2]"
   ]
  },
  {
   "cell_type": "code",
   "execution_count": 36,
   "id": "5d096b1a-51cf-4b45-9c79-ab82e9204c7e",
   "metadata": {},
   "outputs": [
    {
     "data": {
      "text/plain": [
       "float"
      ]
     },
     "execution_count": 36,
     "metadata": {},
     "output_type": "execute_result"
    }
   ],
   "source": [
    "type(rnd[1,1].item())"
   ]
  },
  {
   "cell_type": "code",
   "execution_count": 37,
   "id": "72e79402-83a0-4d26-be28-67b77b524e7e",
   "metadata": {},
   "outputs": [
    {
     "data": {
      "text/plain": [
       "torch.Size([5, 5])"
      ]
     },
     "execution_count": 37,
     "metadata": {},
     "output_type": "execute_result"
    }
   ],
   "source": [
    "rnd.shape"
   ]
  },
  {
   "cell_type": "code",
   "execution_count": 38,
   "id": "4aeec17e-0904-4866-9cdc-3d240211816e",
   "metadata": {},
   "outputs": [
    {
     "data": {
      "text/plain": [
       "tensor([[0.8592],\n",
       "        [0.0591],\n",
       "        [0.4778],\n",
       "        [0.6956],\n",
       "        [0.4289],\n",
       "        [0.0884],\n",
       "        [0.1276],\n",
       "        [0.4430],\n",
       "        [0.3866],\n",
       "        [0.2534],\n",
       "        [0.9830],\n",
       "        [0.2122],\n",
       "        [0.2083],\n",
       "        [0.3700],\n",
       "        [0.8170],\n",
       "        [0.4541],\n",
       "        [0.2175],\n",
       "        [0.5613],\n",
       "        [0.9206],\n",
       "        [0.7744],\n",
       "        [0.6442],\n",
       "        [0.1253],\n",
       "        [0.9238],\n",
       "        [0.5321],\n",
       "        [0.2966]])"
      ]
     },
     "execution_count": 38,
     "metadata": {},
     "output_type": "execute_result"
    }
   ],
   "source": [
    "rnd.reshape([25,1])"
   ]
  },
  {
   "cell_type": "code",
   "execution_count": 39,
   "id": "32a6e75d-2353-40bf-99d7-2a44038cf9b8",
   "metadata": {},
   "outputs": [
    {
     "data": {
      "text/plain": [
       "torch.Size([5, 5])"
      ]
     },
     "execution_count": 39,
     "metadata": {},
     "output_type": "execute_result"
    }
   ],
   "source": [
    "rnd.shape"
   ]
  },
  {
   "cell_type": "code",
   "execution_count": 40,
   "id": "c83ad1f9-6d27-4a2b-83a4-a2b60c792d8d",
   "metadata": {},
   "outputs": [
    {
     "data": {
      "text/plain": [
       "tensor([[0.8592, 0.0591, 0.4778, 0.6956, 0.4289],\n",
       "        [0.0884, 0.1276, 0.4430, 0.3866, 0.2534],\n",
       "        [0.9830, 0.2122, 0.2083, 0.3700, 0.8170],\n",
       "        [0.4541, 0.2175, 0.5613, 0.9206, 0.7744],\n",
       "        [0.6442, 0.1253, 0.9238, 0.5321, 0.2966]])"
      ]
     },
     "execution_count": 40,
     "metadata": {},
     "output_type": "execute_result"
    }
   ],
   "source": [
    "rnd.view(5,5)"
   ]
  },
  {
   "cell_type": "code",
   "execution_count": 41,
   "id": "ff633072-429d-477f-8306-6eec625092e3",
   "metadata": {},
   "outputs": [
    {
     "data": {
      "text/plain": [
       "tensor([[0.8592, 0.0591, 0.4778, 0.6956, 0.4289],\n",
       "        [0.0884, 0.1276, 0.4430, 0.3866, 0.2534],\n",
       "        [0.9830, 0.2122, 0.2083, 0.3700, 0.8170],\n",
       "        [0.4541, 0.2175, 0.5613, 0.9206, 0.7744],\n",
       "        [0.6442, 0.1253, 0.9238, 0.5321, 0.2966]])"
      ]
     },
     "execution_count": 41,
     "metadata": {},
     "output_type": "execute_result"
    }
   ],
   "source": [
    "rnd.view(5,-1)"
   ]
  },
  {
   "cell_type": "code",
   "execution_count": 42,
   "id": "cf178922-ed2c-40d3-92ce-f708fde65d39",
   "metadata": {},
   "outputs": [],
   "source": [
    "b=rnd.numpy()"
   ]
  },
  {
   "cell_type": "code",
   "execution_count": 45,
   "id": "10d9fa7a-9111-4e34-8600-e71a4f307832",
   "metadata": {},
   "outputs": [
    {
     "data": {
      "text/plain": [
       "False"
      ]
     },
     "execution_count": 45,
     "metadata": {},
     "output_type": "execute_result"
    }
   ],
   "source": [
    "b is rnd"
   ]
  },
  {
   "cell_type": "code",
   "execution_count": 46,
   "id": "ee06890f-de01-4206-8e7a-66efefa6758a",
   "metadata": {},
   "outputs": [
    {
     "data": {
      "text/plain": [
       "False"
      ]
     },
     "execution_count": 46,
     "metadata": {},
     "output_type": "execute_result"
    }
   ],
   "source": [
    "b==rnd"
   ]
  },
  {
   "cell_type": "code",
   "execution_count": 47,
   "id": "5b49cb92-460d-4549-bcce-7bca1c540dd7",
   "metadata": {},
   "outputs": [
    {
     "data": {
      "text/plain": [
       "tensor([[1.8592, 1.0591, 1.4778, 1.6956, 1.4289],\n",
       "        [1.0884, 1.1276, 1.4430, 1.3866, 1.2534],\n",
       "        [1.9830, 1.2122, 1.2083, 1.3700, 1.8170],\n",
       "        [1.4541, 1.2175, 1.5613, 1.9206, 1.7744],\n",
       "        [1.6442, 1.1253, 1.9238, 1.5321, 1.2966]])"
      ]
     },
     "execution_count": 47,
     "metadata": {},
     "output_type": "execute_result"
    }
   ],
   "source": [
    "rnd.add_(1)"
   ]
  },
  {
   "cell_type": "code",
   "execution_count": 48,
   "id": "25004222-e162-4daa-89a1-25ff9887c3cc",
   "metadata": {},
   "outputs": [
    {
     "data": {
      "text/plain": [
       "array([[1.8592397, 1.0591218, 1.477802 , 1.6956408, 1.4288995],\n",
       "       [1.0883725, 1.1275898, 1.4430497, 1.3865991, 1.2534418],\n",
       "       [1.9830025, 1.2121788, 1.2083477, 1.3699511, 1.817006 ],\n",
       "       [1.4541416, 1.2175491, 1.561315 , 1.9206417, 1.7743969],\n",
       "       [1.6441545, 1.12534  , 1.9238284, 1.5321087, 1.2965789]],\n",
       "      dtype=float32)"
      ]
     },
     "execution_count": 48,
     "metadata": {},
     "output_type": "execute_result"
    }
   ],
   "source": [
    "b"
   ]
  },
  {
   "cell_type": "code",
   "execution_count": 49,
   "id": "5feb9ebd-f2e3-4daa-b23b-4093d0e28fb2",
   "metadata": {},
   "outputs": [],
   "source": [
    "import numpy as np"
   ]
  },
  {
   "cell_type": "code",
   "execution_count": 50,
   "id": "03ddca11-4e1d-4cd6-a75d-f55d1dcc242b",
   "metadata": {},
   "outputs": [],
   "source": [
    "arr= np.array([1,2,3])"
   ]
  },
  {
   "cell_type": "code",
   "execution_count": 52,
   "id": "cd410750-4e2a-441e-a3f6-e28a5e365e43",
   "metadata": {},
   "outputs": [],
   "source": [
    "ar= torch.from_numpy(arr)"
   ]
  },
  {
   "cell_type": "code",
   "execution_count": 53,
   "id": "1303a006-6a0e-45b0-8a2a-c4bb10002437",
   "metadata": {},
   "outputs": [
    {
     "data": {
      "text/plain": [
       "tensor([1, 2, 3], dtype=torch.int32)"
      ]
     },
     "execution_count": 53,
     "metadata": {},
     "output_type": "execute_result"
    }
   ],
   "source": [
    "ar"
   ]
  },
  {
   "cell_type": "code",
   "execution_count": 54,
   "id": "606151a2-c1fd-488d-b0ea-dcba31c6150a",
   "metadata": {},
   "outputs": [
    {
     "data": {
      "text/plain": [
       "tensor([2, 3, 4], dtype=torch.int32)"
      ]
     },
     "execution_count": 54,
     "metadata": {},
     "output_type": "execute_result"
    }
   ],
   "source": [
    "ar.add_(1)"
   ]
  },
  {
   "cell_type": "raw",
   "id": "8ba5bde9-9d7b-4ac9-9a5f-52fdb367d3ba",
   "metadata": {},
   "source": [
    "arr"
   ]
  },
  {
   "cell_type": "code",
   "execution_count": 62,
   "id": "0fead04c-bfa1-4dd8-bae2-639859ed1f90",
   "metadata": {},
   "outputs": [
    {
     "data": {
      "text/plain": [
       "False"
      ]
     },
     "execution_count": 62,
     "metadata": {},
     "output_type": "execute_result"
    }
   ],
   "source": [
    "torch.cuda.is_available()"
   ]
  },
  {
   "cell_type": "code",
   "execution_count": 63,
   "id": "4b72236a-41ca-43a0-8351-344633f64b16",
   "metadata": {},
   "outputs": [],
   "source": [
    "if torch.cuda.is_available():\n",
    "    devide= torch.device(\"cuda\")\n",
    "    o= torch.ones(4,5,device= device)\n",
    "    z= torch.zeros(3,4)\n",
    "    z.to(device)\n",
    "    o.to(\"cpu\")"
   ]
  },
  {
   "cell_type": "code",
   "execution_count": null,
   "id": "861d08b6-0db5-4c97-a65d-5aed2af4d7ae",
   "metadata": {},
   "outputs": [],
   "source": []
  }
 ],
 "metadata": {
  "kernelspec": {
   "display_name": "Python 3",
   "language": "python",
   "name": "python3"
  },
  "language_info": {
   "codemirror_mode": {
    "name": "ipython",
    "version": 3
   },
   "file_extension": ".py",
   "mimetype": "text/x-python",
   "name": "python",
   "nbconvert_exporter": "python",
   "pygments_lexer": "ipython3",
   "version": "3.8.5"
  }
 },
 "nbformat": 4,
 "nbformat_minor": 5
}
