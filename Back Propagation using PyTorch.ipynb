{
 "cells": [
  {
   "cell_type": "code",
   "execution_count": 109,
   "id": "e949e9a2-bab6-4eb4-b04d-5ce15616b74b",
   "metadata": {},
   "outputs": [],
   "source": [
    "import torch"
   ]
  },
  {
   "cell_type": "code",
   "execution_count": 110,
   "id": "3e5e614c-f5ed-45df-af2c-f040b19aedce",
   "metadata": {},
   "outputs": [],
   "source": [
    "z=torch.zeros(2,dtype=torch.int32)"
   ]
  },
  {
   "cell_type": "code",
   "execution_count": 111,
   "id": "faba1e2a-97fe-438a-9403-cb51c7eeca00",
   "metadata": {},
   "outputs": [
    {
     "data": {
      "text/plain": [
       "tensor([0, 0], dtype=torch.int32)"
      ]
     },
     "execution_count": 111,
     "metadata": {},
     "output_type": "execute_result"
    }
   ],
   "source": [
    "z"
   ]
  },
  {
   "cell_type": "code",
   "execution_count": 112,
   "id": "4cf2595d-8a13-4e9e-ad2c-864818f5375c",
   "metadata": {},
   "outputs": [],
   "source": [
    "o=torch.ones(2,3,dtype= torch.float16)"
   ]
  },
  {
   "cell_type": "code",
   "execution_count": 113,
   "id": "ab1dd0f2-02b0-4f58-a631-2d874e20cda6",
   "metadata": {},
   "outputs": [
    {
     "data": {
      "text/plain": [
       "tensor([[1., 1., 1.],\n",
       "        [1., 1., 1.]], dtype=torch.float16)"
      ]
     },
     "execution_count": 113,
     "metadata": {},
     "output_type": "execute_result"
    }
   ],
   "source": [
    "o"
   ]
  },
  {
   "cell_type": "code",
   "execution_count": 114,
   "id": "fbbc106f-71cc-45f0-a4c6-b99a3bc5c549",
   "metadata": {},
   "outputs": [],
   "source": [
    "r=torch.randn(2,2)"
   ]
  },
  {
   "cell_type": "code",
   "execution_count": 115,
   "id": "a6f8f20e-68e7-4074-b296-0eafd8ac8f17",
   "metadata": {},
   "outputs": [
    {
     "data": {
      "text/plain": [
       "tensor([[-0.4445, -1.0648],\n",
       "        [ 0.8202, -0.0099]])"
      ]
     },
     "execution_count": 115,
     "metadata": {},
     "output_type": "execute_result"
    }
   ],
   "source": [
    "r"
   ]
  },
  {
   "cell_type": "code",
   "execution_count": 116,
   "id": "929137b5-b6b3-411d-80df-1e775f4077d0",
   "metadata": {},
   "outputs": [
    {
     "data": {
      "text/plain": [
       "torch.Size([2, 2])"
      ]
     },
     "execution_count": 116,
     "metadata": {},
     "output_type": "execute_result"
    }
   ],
   "source": [
    "r.shape"
   ]
  },
  {
   "cell_type": "code",
   "execution_count": 117,
   "id": "f6d47d7a-b8c3-4522-8778-63bba787a596",
   "metadata": {},
   "outputs": [
    {
     "data": {
      "text/plain": [
       "torch.Size([2, 2])"
      ]
     },
     "execution_count": 117,
     "metadata": {},
     "output_type": "execute_result"
    }
   ],
   "source": [
    "r.size()"
   ]
  },
  {
   "cell_type": "code",
   "execution_count": 118,
   "id": "b7d5aa50-788a-4e48-9105-ca1184370e4d",
   "metadata": {},
   "outputs": [],
   "source": [
    "r=r.reshape([4,1])"
   ]
  },
  {
   "cell_type": "code",
   "execution_count": 119,
   "id": "5f1099d2-2df0-4f62-b0e5-0bf4ffb68d3e",
   "metadata": {},
   "outputs": [
    {
     "data": {
      "text/plain": [
       "tensor([[-0.4445],\n",
       "        [-1.0648],\n",
       "        [ 0.8202],\n",
       "        [-0.0099]])"
      ]
     },
     "execution_count": 119,
     "metadata": {},
     "output_type": "execute_result"
    }
   ],
   "source": [
    "r"
   ]
  },
  {
   "cell_type": "code",
   "execution_count": 120,
   "id": "909cc6cb-d290-411f-b7aa-e4b648fa0fd9",
   "metadata": {},
   "outputs": [
    {
     "data": {
      "text/plain": [
       "tensor([[-0.8890],\n",
       "        [-2.1296],\n",
       "        [ 1.6403],\n",
       "        [-0.0199]])"
      ]
     },
     "execution_count": 120,
     "metadata": {},
     "output_type": "execute_result"
    }
   ],
   "source": [
    "torch.add(r,r)"
   ]
  },
  {
   "cell_type": "code",
   "execution_count": 121,
   "id": "491f1baf-ea16-46b0-bc6e-dd5c8dfbebb4",
   "metadata": {},
   "outputs": [
    {
     "data": {
      "text/plain": [
       "tensor([[-0.8890],\n",
       "        [-2.1296],\n",
       "        [ 1.6403],\n",
       "        [-0.0199]])"
      ]
     },
     "execution_count": 121,
     "metadata": {},
     "output_type": "execute_result"
    }
   ],
   "source": [
    "r.add(r)"
   ]
  },
  {
   "cell_type": "code",
   "execution_count": 122,
   "id": "dc874311-851b-49f1-8da2-6ad0c22375e8",
   "metadata": {},
   "outputs": [
    {
     "data": {
      "text/plain": [
       "tensor([[-0.4445],\n",
       "        [-1.0648],\n",
       "        [ 0.8202],\n",
       "        [-0.0099]])"
      ]
     },
     "execution_count": 122,
     "metadata": {},
     "output_type": "execute_result"
    }
   ],
   "source": [
    "r"
   ]
  },
  {
   "cell_type": "code",
   "execution_count": 123,
   "id": "d23bf047-42bb-45d1-bbea-0e9d74fc1b76",
   "metadata": {},
   "outputs": [
    {
     "data": {
      "text/plain": [
       "tensor([[-0.8890],\n",
       "        [-2.1296],\n",
       "        [ 1.6403],\n",
       "        [-0.0199]])"
      ]
     },
     "execution_count": 123,
     "metadata": {},
     "output_type": "execute_result"
    }
   ],
   "source": [
    "r.add_(r)"
   ]
  },
  {
   "cell_type": "code",
   "execution_count": 124,
   "id": "430234d3-2aab-4caf-b207-98c1ab9fb35a",
   "metadata": {},
   "outputs": [
    {
     "data": {
      "text/plain": [
       "tensor([[-0.8890],\n",
       "        [-2.1296],\n",
       "        [ 1.6403],\n",
       "        [-0.0199]])"
      ]
     },
     "execution_count": 124,
     "metadata": {},
     "output_type": "execute_result"
    }
   ],
   "source": [
    "r"
   ]
  },
  {
   "cell_type": "code",
   "execution_count": 125,
   "id": "a6818b80-1bee-438b-a995-7bc484d6c0ff",
   "metadata": {},
   "outputs": [
    {
     "data": {
      "text/plain": [
       "tensor([[1.],\n",
       "        [1.],\n",
       "        [1.],\n",
       "        [1.]])"
      ]
     },
     "execution_count": 125,
     "metadata": {},
     "output_type": "execute_result"
    }
   ],
   "source": [
    "r.div(r)"
   ]
  },
  {
   "cell_type": "code",
   "execution_count": 126,
   "id": "ea786d38-e9d2-436c-a38d-dbf19c6aac66",
   "metadata": {},
   "outputs": [
    {
     "data": {
      "text/plain": [
       "tensor([[1.],\n",
       "        [1.],\n",
       "        [1.],\n",
       "        [1.]])"
      ]
     },
     "execution_count": 126,
     "metadata": {},
     "output_type": "execute_result"
    }
   ],
   "source": [
    "torch.div(r,r)"
   ]
  },
  {
   "cell_type": "code",
   "execution_count": 127,
   "id": "c74ebacd-cd3a-49ae-afc4-c9bbb3b17059",
   "metadata": {},
   "outputs": [],
   "source": [
    "rnd=torch.rand(5,5)"
   ]
  },
  {
   "cell_type": "code",
   "execution_count": 128,
   "id": "905d6966-eefd-48e1-9425-d344f5f6a2cc",
   "metadata": {},
   "outputs": [
    {
     "data": {
      "text/plain": [
       "tensor(0.9038)"
      ]
     },
     "execution_count": 128,
     "metadata": {},
     "output_type": "execute_result"
    }
   ],
   "source": [
    "rnd[1,1]"
   ]
  },
  {
   "cell_type": "code",
   "execution_count": 129,
   "id": "6ecdb797-f24e-43d0-a9c6-febf4a5661b0",
   "metadata": {},
   "outputs": [
    {
     "data": {
      "text/plain": [
       "tensor([0.9163, 0.9038])"
      ]
     },
     "execution_count": 129,
     "metadata": {},
     "output_type": "execute_result"
    }
   ],
   "source": [
    "rnd[1,:2]"
   ]
  },
  {
   "cell_type": "code",
   "execution_count": 130,
   "id": "429d1ee5-bffa-4e58-8bb6-31f6f2174a39",
   "metadata": {},
   "outputs": [
    {
     "data": {
      "text/plain": [
       "tensor([0.9163, 0.9038, 0.7019, 0.3004])"
      ]
     },
     "execution_count": 130,
     "metadata": {},
     "output_type": "execute_result"
    }
   ],
   "source": [
    "rnd[1,:4]"
   ]
  },
  {
   "cell_type": "code",
   "execution_count": 131,
   "id": "2bb915bf-4c22-4831-b03d-519668ee5a0f",
   "metadata": {},
   "outputs": [
    {
     "data": {
      "text/plain": [
       "tensor([[0.3561, 0.6286],\n",
       "        [0.9163, 0.9038]])"
      ]
     },
     "execution_count": 131,
     "metadata": {},
     "output_type": "execute_result"
    }
   ],
   "source": [
    "rnd[:2,:2]"
   ]
  },
  {
   "cell_type": "code",
   "execution_count": 132,
   "id": "5d096b1a-51cf-4b45-9c79-ab82e9204c7e",
   "metadata": {},
   "outputs": [
    {
     "data": {
      "text/plain": [
       "float"
      ]
     },
     "execution_count": 132,
     "metadata": {},
     "output_type": "execute_result"
    }
   ],
   "source": [
    "type(rnd[1,1].item())"
   ]
  },
  {
   "cell_type": "code",
   "execution_count": 133,
   "id": "72e79402-83a0-4d26-be28-67b77b524e7e",
   "metadata": {},
   "outputs": [
    {
     "data": {
      "text/plain": [
       "torch.Size([5, 5])"
      ]
     },
     "execution_count": 133,
     "metadata": {},
     "output_type": "execute_result"
    }
   ],
   "source": [
    "rnd.shape"
   ]
  },
  {
   "cell_type": "code",
   "execution_count": 134,
   "id": "4aeec17e-0904-4866-9cdc-3d240211816e",
   "metadata": {},
   "outputs": [
    {
     "data": {
      "text/plain": [
       "tensor([[0.3561],\n",
       "        [0.6286],\n",
       "        [0.3122],\n",
       "        [0.5995],\n",
       "        [0.2054],\n",
       "        [0.9163],\n",
       "        [0.9038],\n",
       "        [0.7019],\n",
       "        [0.3004],\n",
       "        [0.3620],\n",
       "        [0.1168],\n",
       "        [0.8361],\n",
       "        [0.8546],\n",
       "        [0.3739],\n",
       "        [0.0819],\n",
       "        [0.7552],\n",
       "        [0.5970],\n",
       "        [0.1426],\n",
       "        [0.2026],\n",
       "        [0.6040],\n",
       "        [0.7882],\n",
       "        [0.3843],\n",
       "        [0.4342],\n",
       "        [0.3897],\n",
       "        [0.0830]])"
      ]
     },
     "execution_count": 134,
     "metadata": {},
     "output_type": "execute_result"
    }
   ],
   "source": [
    "rnd.reshape([25,1])"
   ]
  },
  {
   "cell_type": "code",
   "execution_count": 135,
   "id": "32a6e75d-2353-40bf-99d7-2a44038cf9b8",
   "metadata": {},
   "outputs": [
    {
     "data": {
      "text/plain": [
       "torch.Size([5, 5])"
      ]
     },
     "execution_count": 135,
     "metadata": {},
     "output_type": "execute_result"
    }
   ],
   "source": [
    "rnd.shape"
   ]
  },
  {
   "cell_type": "code",
   "execution_count": 136,
   "id": "c83ad1f9-6d27-4a2b-83a4-a2b60c792d8d",
   "metadata": {},
   "outputs": [
    {
     "data": {
      "text/plain": [
       "tensor([[0.3561, 0.6286, 0.3122, 0.5995, 0.2054],\n",
       "        [0.9163, 0.9038, 0.7019, 0.3004, 0.3620],\n",
       "        [0.1168, 0.8361, 0.8546, 0.3739, 0.0819],\n",
       "        [0.7552, 0.5970, 0.1426, 0.2026, 0.6040],\n",
       "        [0.7882, 0.3843, 0.4342, 0.3897, 0.0830]])"
      ]
     },
     "execution_count": 136,
     "metadata": {},
     "output_type": "execute_result"
    }
   ],
   "source": [
    "rnd.view(5,5)"
   ]
  },
  {
   "cell_type": "code",
   "execution_count": 137,
   "id": "ff633072-429d-477f-8306-6eec625092e3",
   "metadata": {},
   "outputs": [
    {
     "data": {
      "text/plain": [
       "tensor([[0.3561, 0.6286, 0.3122, 0.5995, 0.2054],\n",
       "        [0.9163, 0.9038, 0.7019, 0.3004, 0.3620],\n",
       "        [0.1168, 0.8361, 0.8546, 0.3739, 0.0819],\n",
       "        [0.7552, 0.5970, 0.1426, 0.2026, 0.6040],\n",
       "        [0.7882, 0.3843, 0.4342, 0.3897, 0.0830]])"
      ]
     },
     "execution_count": 137,
     "metadata": {},
     "output_type": "execute_result"
    }
   ],
   "source": [
    "rnd.view(5,-1)"
   ]
  },
  {
   "cell_type": "code",
   "execution_count": 138,
   "id": "cf178922-ed2c-40d3-92ce-f708fde65d39",
   "metadata": {},
   "outputs": [],
   "source": [
    "b=rnd.numpy()"
   ]
  },
  {
   "cell_type": "code",
   "execution_count": 139,
   "id": "10d9fa7a-9111-4e34-8600-e71a4f307832",
   "metadata": {},
   "outputs": [
    {
     "data": {
      "text/plain": [
       "False"
      ]
     },
     "execution_count": 139,
     "metadata": {},
     "output_type": "execute_result"
    }
   ],
   "source": [
    "b is rnd"
   ]
  },
  {
   "cell_type": "code",
   "execution_count": 140,
   "id": "ee06890f-de01-4206-8e7a-66efefa6758a",
   "metadata": {},
   "outputs": [
    {
     "data": {
      "text/plain": [
       "False"
      ]
     },
     "execution_count": 140,
     "metadata": {},
     "output_type": "execute_result"
    }
   ],
   "source": [
    "b==rnd"
   ]
  },
  {
   "cell_type": "code",
   "execution_count": 141,
   "id": "5b49cb92-460d-4549-bcce-7bca1c540dd7",
   "metadata": {},
   "outputs": [
    {
     "data": {
      "text/plain": [
       "tensor([[1.3561, 1.6286, 1.3122, 1.5995, 1.2054],\n",
       "        [1.9163, 1.9038, 1.7019, 1.3004, 1.3620],\n",
       "        [1.1168, 1.8361, 1.8546, 1.3739, 1.0819],\n",
       "        [1.7552, 1.5970, 1.1426, 1.2026, 1.6040],\n",
       "        [1.7882, 1.3843, 1.4342, 1.3897, 1.0830]])"
      ]
     },
     "execution_count": 141,
     "metadata": {},
     "output_type": "execute_result"
    }
   ],
   "source": [
    "rnd.add_(1)"
   ]
  },
  {
   "cell_type": "code",
   "execution_count": 142,
   "id": "25004222-e162-4daa-89a1-25ff9887c3cc",
   "metadata": {},
   "outputs": [
    {
     "data": {
      "text/plain": [
       "array([[1.3561469, 1.628588 , 1.3121659, 1.5994713, 1.2054406],\n",
       "       [1.9162608, 1.9038099, 1.7018521, 1.300431 , 1.3620112],\n",
       "       [1.1168272, 1.836102 , 1.8545756, 1.3738534, 1.0819451],\n",
       "       [1.7552373, 1.596976 , 1.1425626, 1.2026482, 1.6039793],\n",
       "       [1.7882292, 1.3843029, 1.4341624, 1.3897266, 1.0830115]],\n",
       "      dtype=float32)"
      ]
     },
     "execution_count": 142,
     "metadata": {},
     "output_type": "execute_result"
    }
   ],
   "source": [
    "b"
   ]
  },
  {
   "cell_type": "code",
   "execution_count": 143,
   "id": "5feb9ebd-f2e3-4daa-b23b-4093d0e28fb2",
   "metadata": {},
   "outputs": [],
   "source": [
    "import numpy as np"
   ]
  },
  {
   "cell_type": "code",
   "execution_count": 144,
   "id": "03ddca11-4e1d-4cd6-a75d-f55d1dcc242b",
   "metadata": {},
   "outputs": [],
   "source": [
    "arr= np.array([1,2,3])"
   ]
  },
  {
   "cell_type": "code",
   "execution_count": 145,
   "id": "cd410750-4e2a-441e-a3f6-e28a5e365e43",
   "metadata": {},
   "outputs": [],
   "source": [
    "ar= torch.from_numpy(arr)"
   ]
  },
  {
   "cell_type": "code",
   "execution_count": 146,
   "id": "1303a006-6a0e-45b0-8a2a-c4bb10002437",
   "metadata": {},
   "outputs": [
    {
     "data": {
      "text/plain": [
       "tensor([1, 2, 3], dtype=torch.int32)"
      ]
     },
     "execution_count": 146,
     "metadata": {},
     "output_type": "execute_result"
    }
   ],
   "source": [
    "ar"
   ]
  },
  {
   "cell_type": "code",
   "execution_count": 147,
   "id": "606151a2-c1fd-488d-b0ea-dcba31c6150a",
   "metadata": {},
   "outputs": [
    {
     "data": {
      "text/plain": [
       "tensor([2, 3, 4], dtype=torch.int32)"
      ]
     },
     "execution_count": 147,
     "metadata": {},
     "output_type": "execute_result"
    }
   ],
   "source": [
    "ar.add_(1)"
   ]
  },
  {
   "cell_type": "raw",
   "id": "8ba5bde9-9d7b-4ac9-9a5f-52fdb367d3ba",
   "metadata": {},
   "source": [
    "arr"
   ]
  },
  {
   "cell_type": "code",
   "execution_count": 148,
   "id": "0fead04c-bfa1-4dd8-bae2-639859ed1f90",
   "metadata": {},
   "outputs": [
    {
     "data": {
      "text/plain": [
       "False"
      ]
     },
     "execution_count": 148,
     "metadata": {},
     "output_type": "execute_result"
    }
   ],
   "source": [
    "torch.cuda.is_available()"
   ]
  },
  {
   "cell_type": "code",
   "execution_count": 149,
   "id": "4b72236a-41ca-43a0-8351-344633f64b16",
   "metadata": {},
   "outputs": [],
   "source": [
    "if torch.cuda.is_available():\n",
    "    devide= torch.device(\"cuda\")\n",
    "    o= torch.ones(4,5,device= device)\n",
    "    z= torch.zeros(3,4)\n",
    "    z.to(device)\n",
    "    o.to(\"cpu\")"
   ]
  },
  {
   "cell_type": "code",
   "execution_count": 150,
   "id": "861d08b6-0db5-4c97-a65d-5aed2af4d7ae",
   "metadata": {},
   "outputs": [],
   "source": [
    "x= torch.randn(3,3, requires_grad=True\n",
    "              )"
   ]
  },
  {
   "cell_type": "code",
   "execution_count": 151,
   "id": "83749bd9-e73d-4285-b56b-860801ae274e",
   "metadata": {},
   "outputs": [
    {
     "data": {
      "text/plain": [
       "tensor([[-0.4751, -3.0577, -1.7014],\n",
       "        [ 1.1299, -0.2131,  0.9345],\n",
       "        [-0.0339, -0.3116, -0.8892]], requires_grad=True)"
      ]
     },
     "execution_count": 151,
     "metadata": {},
     "output_type": "execute_result"
    }
   ],
   "source": [
    "x"
   ]
  },
  {
   "cell_type": "code",
   "execution_count": 152,
   "id": "c5533f18-b912-4ff0-bfdf-f3dfd42a28a3",
   "metadata": {},
   "outputs": [],
   "source": [
    "y= x**2"
   ]
  },
  {
   "cell_type": "code",
   "execution_count": 153,
   "id": "63546cb0-973f-4648-8d51-de2df2a89c02",
   "metadata": {},
   "outputs": [],
   "source": [
    "y= y.mean()"
   ]
  },
  {
   "cell_type": "code",
   "execution_count": 154,
   "id": "07323f67-8c0d-4f29-a54e-21bbc2624fe9",
   "metadata": {},
   "outputs": [],
   "source": [
    "y.backward()"
   ]
  },
  {
   "cell_type": "code",
   "execution_count": 155,
   "id": "9214a0a2-0cd1-47ab-be70-1801c60127a5",
   "metadata": {},
   "outputs": [
    {
     "data": {
      "text/plain": [
       "tensor([[-0.1056, -0.6795, -0.3781],\n",
       "        [ 0.2511, -0.0474,  0.2077],\n",
       "        [-0.0075, -0.0692, -0.1976]])"
      ]
     },
     "execution_count": 155,
     "metadata": {},
     "output_type": "execute_result"
    }
   ],
   "source": [
    "x.grad"
   ]
  },
  {
   "cell_type": "code",
   "execution_count": 156,
   "id": "c4c06216-5a47-40d6-af12-82371ebfa8b0",
   "metadata": {},
   "outputs": [
    {
     "data": {
      "text/plain": [
       "tensor([[-3.1714,  2.6343, -0.5362],\n",
       "        [-0.8093, -3.7006, -2.9524],\n",
       "        [-0.3057,  0.4473,  0.5572]], grad_fn=<MmBackward>)"
      ]
     },
     "execution_count": 156,
     "metadata": {},
     "output_type": "execute_result"
    }
   ],
   "source": [
    "x@x"
   ]
  },
  {
   "cell_type": "code",
   "execution_count": 157,
   "id": "3038ed53-86dd-4484-ab24-e58ce6ba9481",
   "metadata": {},
   "outputs": [
    {
     "data": {
      "text/plain": [
       "tensor([[2.2569e-01, 9.3496e+00, 2.8948e+00],\n",
       "        [1.2766e+00, 4.5411e-02, 8.7322e-01],\n",
       "        [1.1524e-03, 9.7086e-02, 7.9065e-01]], grad_fn=<PowBackward0>)"
      ]
     },
     "execution_count": 157,
     "metadata": {},
     "output_type": "execute_result"
    }
   ],
   "source": [
    "x**2"
   ]
  },
  {
   "cell_type": "code",
   "execution_count": 158,
   "id": "7b58dd72-000a-4cbf-8857-cecff6890878",
   "metadata": {},
   "outputs": [
    {
     "data": {
      "text/plain": [
       "tensor([[-0.4751, -3.0577, -1.7014],\n",
       "        [ 1.1299, -0.2131,  0.9345],\n",
       "        [-0.0339, -0.3116, -0.8892]], requires_grad=True)"
      ]
     },
     "execution_count": 158,
     "metadata": {},
     "output_type": "execute_result"
    }
   ],
   "source": [
    "x"
   ]
  },
  {
   "cell_type": "code",
   "execution_count": 159,
   "id": "7db8ac97-f2cc-4a23-9469-40c71bfdf6a5",
   "metadata": {},
   "outputs": [
    {
     "data": {
      "text/plain": [
       "tensor(1.7282, grad_fn=<MeanBackward1>)"
      ]
     },
     "execution_count": 159,
     "metadata": {},
     "output_type": "execute_result"
    }
   ],
   "source": [
    "y.mean(dim=0)"
   ]
  },
  {
   "cell_type": "code",
   "execution_count": 160,
   "id": "0a0b0b6f-dbb1-4aff-864d-3ab7646e839d",
   "metadata": {},
   "outputs": [
    {
     "data": {
      "text/plain": [
       "tensor([ 0.2070, -1.1941, -0.5520], grad_fn=<MeanBackward1>)"
      ]
     },
     "execution_count": 160,
     "metadata": {},
     "output_type": "execute_result"
    }
   ],
   "source": [
    "x.mean(dim=0)"
   ]
  },
  {
   "cell_type": "code",
   "execution_count": 161,
   "id": "ad5b60e6-81a7-4731-977d-1ddc46feda06",
   "metadata": {},
   "outputs": [
    {
     "data": {
      "text/plain": [
       "tensor([[-0.4751, -3.0577, -1.7014],\n",
       "        [ 1.1299, -0.2131,  0.9345],\n",
       "        [-0.0339, -0.3116, -0.8892]], requires_grad=True)"
      ]
     },
     "execution_count": 161,
     "metadata": {},
     "output_type": "execute_result"
    }
   ],
   "source": [
    "x"
   ]
  },
  {
   "cell_type": "code",
   "execution_count": 162,
   "id": "84e2d57e-5419-4919-ba1e-31efbbcee11c",
   "metadata": {},
   "outputs": [
    {
     "data": {
      "text/plain": [
       "tensor([[-0.4751, -3.0577, -1.7014],\n",
       "        [ 1.1299, -0.2131,  0.9345],\n",
       "        [-0.0339, -0.3116, -0.8892]])"
      ]
     },
     "execution_count": 162,
     "metadata": {},
     "output_type": "execute_result"
    }
   ],
   "source": [
    "x.requires_grad_(False)"
   ]
  },
  {
   "cell_type": "code",
   "execution_count": 163,
   "id": "59f99468-1d64-4cb4-95ae-ea44e57ef35b",
   "metadata": {},
   "outputs": [
    {
     "name": "stdout",
     "output_type": "stream",
     "text": [
      "tensor([[-0.4751, -3.0577, -1.7014],\n",
      "        [ 1.1299, -0.2131,  0.9345],\n",
      "        [-0.0339, -0.3116, -0.8892]])\n"
     ]
    }
   ],
   "source": [
    "print(x)"
   ]
  },
  {
   "cell_type": "code",
   "execution_count": 164,
   "id": "78c96846-7043-4b0e-85db-6b1e77f17224",
   "metadata": {},
   "outputs": [],
   "source": [
    "x=torch.randn(3,3, requires_grad=True)"
   ]
  },
  {
   "cell_type": "code",
   "execution_count": 165,
   "id": "f88c2fa1-5b69-4929-9522-4ef64b90a454",
   "metadata": {},
   "outputs": [
    {
     "data": {
      "text/plain": [
       "tensor([[-0.0469,  2.3040, -0.4540],\n",
       "        [-0.7695, -0.7835,  0.0898],\n",
       "        [-1.1573,  1.1213, -1.5559]], requires_grad=True)"
      ]
     },
     "execution_count": 165,
     "metadata": {},
     "output_type": "execute_result"
    }
   ],
   "source": [
    "x"
   ]
  },
  {
   "cell_type": "code",
   "execution_count": 166,
   "id": "92f19953-6501-4dad-9ab1-06400c1f24f4",
   "metadata": {},
   "outputs": [],
   "source": [
    "y=x.detach()"
   ]
  },
  {
   "cell_type": "code",
   "execution_count": 167,
   "id": "22dd2d8f-9c57-44bd-8fac-f9dd94f237d6",
   "metadata": {},
   "outputs": [
    {
     "data": {
      "text/plain": [
       "tensor([[-0.0469,  2.3040, -0.4540],\n",
       "        [-0.7695, -0.7835,  0.0898],\n",
       "        [-1.1573,  1.1213, -1.5559]])"
      ]
     },
     "execution_count": 167,
     "metadata": {},
     "output_type": "execute_result"
    }
   ],
   "source": [
    "y"
   ]
  },
  {
   "cell_type": "code",
   "execution_count": 168,
   "id": "1eead6b2-2b5f-4f0e-b5f3-485e250d7ad9",
   "metadata": {},
   "outputs": [
    {
     "data": {
      "text/plain": [
       "False"
      ]
     },
     "execution_count": 168,
     "metadata": {},
     "output_type": "execute_result"
    }
   ],
   "source": [
    "y.requires_grad"
   ]
  },
  {
   "cell_type": "code",
   "execution_count": 169,
   "id": "78b8d63a-016b-4ee1-a892-56082bbea5d3",
   "metadata": {},
   "outputs": [
    {
     "data": {
      "text/plain": [
       "tensor([[-0.0469,  2.3040, -0.4540],\n",
       "        [-0.7695, -0.7835,  0.0898],\n",
       "        [-1.1573,  1.1213, -1.5559]])"
      ]
     },
     "execution_count": 169,
     "metadata": {},
     "output_type": "execute_result"
    }
   ],
   "source": [
    "y.requires_grad_(False)"
   ]
  },
  {
   "cell_type": "code",
   "execution_count": 170,
   "id": "4ff072fe-08b4-4a22-b3c9-d91253a1fe38",
   "metadata": {},
   "outputs": [
    {
     "name": "stdout",
     "output_type": "stream",
     "text": [
      "tensor([[1.9531, 4.3040, 1.5460],\n",
      "        [1.2305, 1.2165, 2.0898],\n",
      "        [0.8427, 3.1213, 0.4441]])\n"
     ]
    }
   ],
   "source": [
    "with torch.no_grad():\n",
    "    y= x+2\n",
    "    print(y)"
   ]
  },
  {
   "cell_type": "code",
   "execution_count": 171,
   "id": "a866f24e-6863-411c-9f8a-e3c8866c3f5f",
   "metadata": {},
   "outputs": [],
   "source": [
    "y.requires_grad=True"
   ]
  },
  {
   "cell_type": "code",
   "execution_count": 172,
   "id": "abb50935-a36f-4977-98d2-b3fdab194e2e",
   "metadata": {},
   "outputs": [
    {
     "data": {
      "text/plain": [
       "tensor([[1.9531, 4.3040, 1.5460],\n",
       "        [1.2305, 1.2165, 2.0898],\n",
       "        [0.8427, 3.1213, 0.4441]], requires_grad=True)"
      ]
     },
     "execution_count": 172,
     "metadata": {},
     "output_type": "execute_result"
    }
   ],
   "source": [
    "y"
   ]
  },
  {
   "cell_type": "code",
   "execution_count": 173,
   "id": "33c9bd86-79eb-4762-8ed8-25abb6d1caad",
   "metadata": {},
   "outputs": [
    {
     "name": "stdout",
     "output_type": "stream",
     "text": [
      "tensor([[0.1111, 0.1111, 0.1111],\n",
      "        [0.1111, 0.1111, 0.1111],\n",
      "        [0.1111, 0.1111, 0.1111]])\n",
      "tensor([[0.2222, 0.2222, 0.2222],\n",
      "        [0.2222, 0.2222, 0.2222],\n",
      "        [0.2222, 0.2222, 0.2222]])\n",
      "tensor([[0.3333, 0.3333, 0.3333],\n",
      "        [0.3333, 0.3333, 0.3333],\n",
      "        [0.3333, 0.3333, 0.3333]])\n",
      "tensor([[0.4444, 0.4444, 0.4444],\n",
      "        [0.4444, 0.4444, 0.4444],\n",
      "        [0.4444, 0.4444, 0.4444]])\n"
     ]
    }
   ],
   "source": [
    "for i in range(0,4):\n",
    "    y= x+2\n",
    "    y= y.mean()\n",
    "    y.backward()\n",
    "    print(x.grad)"
   ]
  },
  {
   "cell_type": "code",
   "execution_count": 176,
   "id": "7286043f-4b83-48d7-a86a-24c7e3b00e7c",
   "metadata": {},
   "outputs": [
    {
     "name": "stdout",
     "output_type": "stream",
     "text": [
      "tensor([[0.1111, 0.1111, 0.1111],\n",
      "        [0.1111, 0.1111, 0.1111],\n",
      "        [0.1111, 0.1111, 0.1111]])\n",
      "tensor([[0.1111, 0.1111, 0.1111],\n",
      "        [0.1111, 0.1111, 0.1111],\n",
      "        [0.1111, 0.1111, 0.1111]])\n",
      "tensor([[0.1111, 0.1111, 0.1111],\n",
      "        [0.1111, 0.1111, 0.1111],\n",
      "        [0.1111, 0.1111, 0.1111]])\n",
      "tensor([[0.1111, 0.1111, 0.1111],\n",
      "        [0.1111, 0.1111, 0.1111],\n",
      "        [0.1111, 0.1111, 0.1111]])\n"
     ]
    }
   ],
   "source": [
    "for i in range(0,4):\n",
    "    y= x+2\n",
    "    y= y.mean()\n",
    "    y.backward()\n",
    "    print(x.grad)\n",
    "    x.grad.zero_()"
   ]
  },
  {
   "cell_type": "code",
   "execution_count": 178,
   "id": "55bc7661-240d-4285-b9f3-9a080fc03d73",
   "metadata": {},
   "outputs": [
    {
     "name": "stdout",
     "output_type": "stream",
     "text": [
      "tensor(1., grad_fn=<PowBackward0>)\n",
      "tensor(-2.)\n",
      "tensor(-2.)\n",
      "tensor(2.)\n"
     ]
    },
    {
     "data": {
      "text/plain": [
       "tensor(0.)"
      ]
     },
     "execution_count": 178,
     "metadata": {},
     "output_type": "execute_result"
    }
   ],
   "source": [
    "x = torch.tensor(1.0,requires_grad=True)\n",
    "y = torch.tensor(2.0, requires_grad=True)\n",
    "\n",
    "w = torch.tensor(1.0, requires_grad=True)\n",
    "\n",
    "\n",
    "y_predicted = w * x\n",
    "loss = (y_predicted - y)**2\n",
    "print(loss)\n",
    "\n",
    "\n",
    "loss.backward()\n",
    "print(w.grad)\n",
    "\n",
    "print(x.grad)\n",
    "print(y.grad)\n",
    "\n",
    "\n",
    "with torch.no_grad():\n",
    "    w -= 0.01 * w.grad\n",
    "\n",
    "w.grad.zero_()\n"
   ]
  },
  {
   "cell_type": "code",
   "execution_count": null,
   "id": "6aa71445-390f-435d-bccb-a6b8cfb26588",
   "metadata": {},
   "outputs": [],
   "source": []
  }
 ],
 "metadata": {
  "kernelspec": {
   "display_name": "Python 3",
   "language": "python",
   "name": "python3"
  },
  "language_info": {
   "codemirror_mode": {
    "name": "ipython",
    "version": 3
   },
   "file_extension": ".py",
   "mimetype": "text/x-python",
   "name": "python",
   "nbconvert_exporter": "python",
   "pygments_lexer": "ipython3",
   "version": "3.8.5"
  }
 },
 "nbformat": 4,
 "nbformat_minor": 5
}
