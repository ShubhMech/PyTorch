{
 "cells": [
  {
   "cell_type": "code",
   "execution_count": 1,
   "id": "e949e9a2-bab6-4eb4-b04d-5ce15616b74b",
   "metadata": {},
   "outputs": [],
   "source": [
    "import torch"
   ]
  },
  {
   "cell_type": "code",
   "execution_count": 6,
   "id": "3e5e614c-f5ed-45df-af2c-f040b19aedce",
   "metadata": {},
   "outputs": [],
   "source": [
    "z=torch.zeros(2,dtype=torch.int32)"
   ]
  },
  {
   "cell_type": "code",
   "execution_count": 7,
   "id": "faba1e2a-97fe-438a-9403-cb51c7eeca00",
   "metadata": {},
   "outputs": [
    {
     "data": {
      "text/plain": [
       "tensor([0, 0], dtype=torch.int32)"
      ]
     },
     "execution_count": 7,
     "metadata": {},
     "output_type": "execute_result"
    }
   ],
   "source": [
    "z"
   ]
  },
  {
   "cell_type": "code",
   "execution_count": 8,
   "id": "4cf2595d-8a13-4e9e-ad2c-864818f5375c",
   "metadata": {},
   "outputs": [],
   "source": [
    "o=torch.ones(2,3,dtype= torch.float16)"
   ]
  },
  {
   "cell_type": "code",
   "execution_count": 9,
   "id": "ab1dd0f2-02b0-4f58-a631-2d874e20cda6",
   "metadata": {},
   "outputs": [
    {
     "data": {
      "text/plain": [
       "tensor([[1., 1., 1.],\n",
       "        [1., 1., 1.]], dtype=torch.float16)"
      ]
     },
     "execution_count": 9,
     "metadata": {},
     "output_type": "execute_result"
    }
   ],
   "source": [
    "o"
   ]
  },
  {
   "cell_type": "code",
   "execution_count": 10,
   "id": "fbbc106f-71cc-45f0-a4c6-b99a3bc5c549",
   "metadata": {},
   "outputs": [],
   "source": [
    "r=torch.randn(2,2)"
   ]
  },
  {
   "cell_type": "code",
   "execution_count": 11,
   "id": "a6f8f20e-68e7-4074-b296-0eafd8ac8f17",
   "metadata": {},
   "outputs": [
    {
     "data": {
      "text/plain": [
       "tensor([[-0.0326,  0.1741],\n",
       "        [-1.2384,  1.4507]])"
      ]
     },
     "execution_count": 11,
     "metadata": {},
     "output_type": "execute_result"
    }
   ],
   "source": [
    "r"
   ]
  },
  {
   "cell_type": "code",
   "execution_count": 16,
   "id": "929137b5-b6b3-411d-80df-1e775f4077d0",
   "metadata": {},
   "outputs": [
    {
     "data": {
      "text/plain": [
       "torch.Size([2, 2])"
      ]
     },
     "execution_count": 16,
     "metadata": {},
     "output_type": "execute_result"
    }
   ],
   "source": [
    "r.shape"
   ]
  },
  {
   "cell_type": "code",
   "execution_count": 17,
   "id": "f6d47d7a-b8c3-4522-8778-63bba787a596",
   "metadata": {},
   "outputs": [
    {
     "data": {
      "text/plain": [
       "torch.Size([2, 2])"
      ]
     },
     "execution_count": 17,
     "metadata": {},
     "output_type": "execute_result"
    }
   ],
   "source": [
    "r.size()"
   ]
  },
  {
   "cell_type": "code",
   "execution_count": 20,
   "id": "b7d5aa50-788a-4e48-9105-ca1184370e4d",
   "metadata": {},
   "outputs": [],
   "source": [
    "r=r.reshape([4,1])"
   ]
  },
  {
   "cell_type": "code",
   "execution_count": 21,
   "id": "5f1099d2-2df0-4f62-b0e5-0bf4ffb68d3e",
   "metadata": {},
   "outputs": [
    {
     "data": {
      "text/plain": [
       "tensor([[-0.0326],\n",
       "        [ 0.1741],\n",
       "        [-1.2384],\n",
       "        [ 1.4507]])"
      ]
     },
     "execution_count": 21,
     "metadata": {},
     "output_type": "execute_result"
    }
   ],
   "source": [
    "r"
   ]
  },
  {
   "cell_type": "code",
   "execution_count": 22,
   "id": "909cc6cb-d290-411f-b7aa-e4b648fa0fd9",
   "metadata": {},
   "outputs": [
    {
     "data": {
      "text/plain": [
       "tensor([[-0.0652],\n",
       "        [ 0.3481],\n",
       "        [-2.4768],\n",
       "        [ 2.9014]])"
      ]
     },
     "execution_count": 22,
     "metadata": {},
     "output_type": "execute_result"
    }
   ],
   "source": [
    "torch.add(r,r)"
   ]
  },
  {
   "cell_type": "code",
   "execution_count": 23,
   "id": "491f1baf-ea16-46b0-bc6e-dd5c8dfbebb4",
   "metadata": {},
   "outputs": [
    {
     "data": {
      "text/plain": [
       "tensor([[-0.0652],\n",
       "        [ 0.3481],\n",
       "        [-2.4768],\n",
       "        [ 2.9014]])"
      ]
     },
     "execution_count": 23,
     "metadata": {},
     "output_type": "execute_result"
    }
   ],
   "source": [
    "r.add(r)"
   ]
  },
  {
   "cell_type": "code",
   "execution_count": 24,
   "id": "dc874311-851b-49f1-8da2-6ad0c22375e8",
   "metadata": {},
   "outputs": [
    {
     "data": {
      "text/plain": [
       "tensor([[-0.0326],\n",
       "        [ 0.1741],\n",
       "        [-1.2384],\n",
       "        [ 1.4507]])"
      ]
     },
     "execution_count": 24,
     "metadata": {},
     "output_type": "execute_result"
    }
   ],
   "source": [
    "r"
   ]
  },
  {
   "cell_type": "code",
   "execution_count": 25,
   "id": "d23bf047-42bb-45d1-bbea-0e9d74fc1b76",
   "metadata": {},
   "outputs": [
    {
     "data": {
      "text/plain": [
       "tensor([[-0.0652],\n",
       "        [ 0.3481],\n",
       "        [-2.4768],\n",
       "        [ 2.9014]])"
      ]
     },
     "execution_count": 25,
     "metadata": {},
     "output_type": "execute_result"
    }
   ],
   "source": [
    "r.add_(r)"
   ]
  },
  {
   "cell_type": "code",
   "execution_count": 26,
   "id": "430234d3-2aab-4caf-b207-98c1ab9fb35a",
   "metadata": {},
   "outputs": [
    {
     "data": {
      "text/plain": [
       "tensor([[-0.0652],\n",
       "        [ 0.3481],\n",
       "        [-2.4768],\n",
       "        [ 2.9014]])"
      ]
     },
     "execution_count": 26,
     "metadata": {},
     "output_type": "execute_result"
    }
   ],
   "source": [
    "r"
   ]
  },
  {
   "cell_type": "code",
   "execution_count": null,
   "id": "a6818b80-1bee-438b-a995-7bc484d6c0ff",
   "metadata": {},
   "outputs": [],
   "source": []
  }
 ],
 "metadata": {
  "kernelspec": {
   "display_name": "Python 3",
   "language": "python",
   "name": "python3"
  },
  "language_info": {
   "codemirror_mode": {
    "name": "ipython",
    "version": 3
   },
   "file_extension": ".py",
   "mimetype": "text/x-python",
   "name": "python",
   "nbconvert_exporter": "python",
   "pygments_lexer": "ipython3",
   "version": "3.8.5"
  }
 },
 "nbformat": 4,
 "nbformat_minor": 5
}
